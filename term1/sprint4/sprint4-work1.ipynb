{
 "cells": [
  {
   "cell_type": "markdown",
   "metadata": {},
   "source": [
    "# Sprint 機械学習スクラッチ SVM"
   ]
  },
  {
   "cell_type": "code",
   "execution_count": 2,
   "metadata": {},
   "outputs": [],
   "source": [
    "import matplotlib.pyplot as plt\n",
    "%matplotlib inline\n",
    "import numpy as np\n",
    "import pandas as pd\n",
    "from sklearn.preprocessing import StandardScaler\n",
    "from sklearn.model_selection import train_test_split\n",
    "from sklearn.metrics import accuracy_score\n",
    "from sklearn.metrics import precision_score\n",
    "from sklearn.metrics import recall_score\n",
    "from sklearn.metrics import f1_score\n",
    "from sklearn.metrics import confusion_matrix\n",
    "from matplotlib.colors import ListedColormap\n",
    "import matplotlib.patches as mpatches"
   ]
  },
  {
   "cell_type": "code",
   "execution_count": 3,
   "metadata": {},
   "outputs": [],
   "source": [
    "class ScratchSVMClassifier():\n",
    "    \"\"\"\n",
    "    SVM分類器のスクラッチ実装\n",
    "\n",
    "    Parameters\n",
    "    ----------\n",
    "    num_iter : int\n",
    "      イテレーション数\n",
    "    lr : float\n",
    "      学習率\n",
    "    kernel : str\n",
    "      カーネルの種類。線形カーネル（linear）か多項式カーネル（polly）\n",
    "    threshold : float\n",
    "      サポートベクターを選ぶための閾値\n",
    "    verbose : bool\n",
    "      学習過程を出力する場合はTrue\n",
    "\n",
    "    Attributes\n",
    "    ----------\n",
    "    self.n_support_vectors : int\n",
    "      サポートベクターの数\n",
    "    self.index_support_vectors : 次の形のndarray, shape (n_support_vectors,)\n",
    "      サポートベクターのインデックス\n",
    "    self.X_sv :  次の形のndarray, shape(n_support_vectors, n_features)\n",
    "      サポートベクターの特徴量\n",
    "    self.lam_sv :  次の形のndarray, shape(n_support_vectors, 1)\n",
    "      サポートベクターの未定乗数\n",
    "    self.y_sv :  次の形のndarray, shape(n_support_vectors, 1)\n",
    "      サポートベクターのラベル\n",
    "\n",
    "    \"\"\"\n",
    "    def __init__(self, num_iter, lr, kernel='linear', gamma=1,\n",
    "                 theta=0, d=1, threshold=1e-5, verbose=False):\n",
    "        # ハイパーパラメータを属性として記録\n",
    "        self.iter = num_iter\n",
    "        self.lr = lr\n",
    "        self.kernel = kernel\n",
    "        self.threshold = threshold\n",
    "        self.verbose = verbose\n",
    "        # サポートベクトル\n",
    "        self.s_X = 0\n",
    "        self.s_y = 0\n",
    "        # 多項式カーネルのパラメータ\n",
    "        self.gamma = gamma\n",
    "        self.theta = theta\n",
    "        self.d = d\n",
    "        # パラメーターと予測値の初期化\n",
    "        self.coef_ = 0\n",
    "        # yのカテゴリ最大値、最小値の初期化\n",
    "        self.y_max = 0\n",
    "        self.y_min = 0\n",
    "        \n",
    "    def fit(self, X, y, X_val=None, y_val=None):\n",
    "        \"\"\"\n",
    "        SVM分類器を学習する。検証用データが入力された場合はそれに対する精度もイテレーションごとに計算する。\n",
    "\n",
    "        Parameters\n",
    "        ----------\n",
    "        X : 次の形のndarray, shape (n_samples, n_features)\n",
    "            学習用データの特徴量\n",
    "        y : 次の形のndarray, shape (n_samples, )\n",
    "            学習用データの正解値\n",
    "        X_val : 次の形のndarray, shape (n_samples, n_features)\n",
    "            検証用データの特徴量\n",
    "        y_val : 次の形のndarray, shape (n_samples, )\n",
    "            検証用データの正解値\n",
    "        \"\"\"\n",
    "            \n",
    "        # yの一次元化\n",
    "        y = y.ravel()\n",
    "        y_val = y_val.ravel()\n",
    "        \n",
    "        # yのカテゴリ最大値、最小値を取得\n",
    "        self.y_max = y.max()\n",
    "        self.y_min = y.min()\n",
    "        \n",
    "        # yの-1、１化(今回の題材は最大３分類のため、それに対応)\n",
    "        # サポートベクトルの場合は「０、１」ではなく「−１、１」\n",
    "        if self.y_max == 2:\n",
    "            y = np.where(y==2, 1, -1)\n",
    "            y_val = np.where(y_val==2, 1, -1)\n",
    "        else:\n",
    "            y = np.where(y==1, 1, -1)\n",
    "            y_val = np.where(y_val==1, 1, -1)\n",
    "        \n",
    "        # パラメーターの設定（平均０、分散１の正規分布）\n",
    "        # 微小な方が収束しやすいので「正規分布✖️0.001」\n",
    "        self.coef_ = np.random.normal(0, 1, X.shape[0])*0.01\n",
    "        \n",
    "        for iter_count in range(self.iter):\n",
    "            if self.verbose:\n",
    "                #verboseをTrueにした際は学習過程を出力\n",
    "                print(\"{}回目の学習\".format(iter_count))\n",
    "            \n",
    "            # 最急降下法\n",
    "            # self.coef_の更新\n",
    "            _gradient_descent(self, X, y)\n",
    "        \n",
    "        # ０の要素を除去（推定時に使えるように）\n",
    "        coef_index = np.where(self.coef_>self.threshold)\n",
    "        # サポートベクトルの決定\n",
    "        # 上記のインデックスはタプルのため「Xの２次元目の指定は不要）\n",
    "        self.coef_ = self.coef_[coef_index]\n",
    "        self.s_X = X[coef_index]\n",
    "        self.s_y = y[coef_index]\n",
    "        \n",
    "        \n",
    "    def predict(self, X):\n",
    "        \"\"\"\n",
    "        SVM分類器を使いラベルを推定する。\n",
    "\n",
    "        Parameters\n",
    "        ----------\n",
    "        X : 次の形のndarray, shape (n_samples, n_features)\n",
    "            サンプル\n",
    "\n",
    "        Returns\n",
    "        -------\n",
    "            次の形のndarray, shape (n_samples, 1)\n",
    "            SVM分類器による推定結果\n",
    "        \"\"\"\n",
    "        # カーネルの設定\n",
    "        if self.kernel=='linear':\n",
    "            K = np.dot(X, self.s_X.T)\n",
    "        elif self.kernel=='poly':\n",
    "            K = self.gamma*((np.dot(X, self.s_X.T) + self.theta)**self.d)\n",
    "            \n",
    "        # カテゴリ最大値、最小値に対応させるために分岐\n",
    "        if self.y_max == 2:\n",
    "            if self.y_min == 1:\n",
    "                return np.where(np.dot(K, self.coef_*self.s_y)<0, 1, 2)\n",
    "            else:\n",
    "                return np.where(np.dot(K, self.coef_*self.s_y)<0, 0, 2)\n",
    "        else:\n",
    "            return  np.where(np.dot(K, self.coef_*self.s_y)<0, 0, 1)"
   ]
  },
  {
   "cell_type": "markdown",
   "metadata": {},
   "source": [
    "# 【問題1】ラグランジュの未定乗数法による最急降下\n",
    "SVMの学習は、ラグランジュの未定乗数法を用います。サンプル数分のラグランジュ乗数 \n",
    "λ\n",
    " を用意して、以下の式により更新していきます。この計算を行うメソッドをScratchSVMClassifierクラスに実装してください。\n",
    " \n",
    "$ \\lambda_i^{new} = \\lambda_i + \\alpha(1 - \\sum_{j=1}^{n}{\\lambda_j y_i y_j k(x_i, x_j)})$"
   ]
  },
  {
   "cell_type": "code",
   "execution_count": 4,
   "metadata": {},
   "outputs": [],
   "source": [
    "def _gradient_descent(self, X, y):\n",
    "    \"\"\"\n",
    "    X : 次の形のndarray, shape (n_samples, n_features)\n",
    "      学習データ\n",
    "    \n",
    "    y : 次の形のndarray, shape (n_samples)\n",
    "      学習データの結果\n",
    "      \n",
    "    self.lam : float\n",
    "      正則化パラメータ\n",
    "      \n",
    "    self.lr : float\n",
    "      学習率\n",
    "    \n",
    "    self.coef_ : 次の形のndarray, shape (n_features)\n",
    "      Xに対するパラメーター\n",
    "      \n",
    "    coef_reg : 次の形のndarray, shape (n_features)\n",
    "      正則化に用いるパラメーター\n",
    "    \n",
    "    self.h0 : 次の形のndarray, shape (n_samples)\n",
    "      シグモイド関数によるtrainの予測値（過程関数）\n",
    "    \n",
    "    Returns\n",
    "    -------\n",
    "    self.theta_ : 次の形のndarray, shape (n_samples, 1)\n",
    "      線形の仮定関数による推定結果\n",
    "      \n",
    "    \"\"\"\n",
    "    # カーネルの設定\n",
    "    if self.kernel=='linear':\n",
    "        K = np.dot(X, X.T)\n",
    "    elif self.kernel=='poly':\n",
    "        K = self.gamma*((np.dot(X, X.T) + self.theta)**self.d)\n",
    "        \n",
    "    # 傾き\n",
    "    delta = 1 - y* np.dot(K.T, self.coef_*y)\n",
    "\n",
    "# forバージョン\n",
    "#    delta = np.zeros(X.shape[0])\n",
    "#    for i in range(X.shape[0]):\n",
    "#         # Kの列とかけるのは、yとcoef_のベクトル：delta[i] = np.sum(self.coef_[i]*y[i]*K[:, i])\n",
    "#         delta[i] = np.sum(self.coef_*y*K[:, i])\n",
    "#    delta = 1 - y*delta\n",
    "        \n",
    "    # 更新式\n",
    "    self.coef_ = self.coef_ + self.lr*delta\n",
    "    \n",
    "    # self.coef_は０以上のため、０以下の要素は０にする\n",
    "    self.coef_ = np.where(self.coef_<0, 0, self.coef_)\n",
    "    \n",
    "    return"
   ]
  },
  {
   "cell_type": "markdown",
   "metadata": {},
   "source": [
    "# 【問題2】サポートベクターの決定\n",
    "計算したラグランジュ乗数 \n",
    "λ\n",
    " が設定した閾値より大きいサンプルをサポートベクターとして扱います。推定時にサポートベクターが必要になります。サポートベクターを決定し、インスタンス変数として保持しておくコードを書いてください。\n",
    "\n",
    "\n",
    "閾値はハイパーパラメータですが、1e-5程度からはじめると良いでしょう。サポートベクターの数を出力させられるようにしておくと学習がうまく行えているかを確認できます。"
   ]
  },
  {
   "cell_type": "markdown",
   "metadata": {},
   "source": [
    "# 【問題3】推定\n",
    "推定時には、推定したいデータの特徴量とサポートベクターの特徴量をカーネル関数によって計算します。求めた f(x) の符号が分類結果です。\n",
    "\n",
    "$f(x) = \\sum_{n=1}^{N}\\lambda_n y_{sv\\_n} k(x, s_n)$"
   ]
  },
  {
   "cell_type": "markdown",
   "metadata": {},
   "source": [
    "# 【問題4】学習と推定\n",
    "機械学習スクラッチ入門のSprintで用意したシンプルデータセット1の2値分類に対してスクラッチ実装の学習と推定を行なってください。\n",
    "\n",
    "\n",
    "scikit-learnによる実装と比べ、正しく動いているかを確認してください。\n",
    "\n",
    "\n",
    "AccuracyやPrecision、Recallなどの指標値はscikit-learnを使用してください。"
   ]
  },
  {
   "cell_type": "code",
   "execution_count": 5,
   "metadata": {},
   "outputs": [],
   "source": [
    "from sklearn.datasets import load_iris\n",
    "iris = load_iris()\n",
    "X = pd.DataFrame(data=iris.data, columns=iris.feature_names)\n",
    "y = pd.DataFrame(data=iris.target, columns=['species'])\n",
    "df = pd.concat([X, y], axis=1)\n",
    "# 抜き出し\n",
    "df_2ex =df.query('species == 1 | species == 2')[[\"sepal length (cm)\", \"petal length (cm)\", 'species']]\n",
    "X = df_2ex[[\"sepal length (cm)\", \"petal length (cm)\",]]\n",
    "y = df_2ex[[\"species\"]]\n",
    "# ndarray変換\n",
    "X_array = X.values\n",
    "# yに関して一次元化（グラフ化で必要）\n",
    "y_array = np.ravel(y.values)\n",
    "# 分割\n",
    "X_train, X_valid, y_train, y_valid = train_test_split(\n",
    "    X_array, y_array, test_size=0.25, random_state=0)\n",
    "# 標準化\n",
    "scaler = StandardScaler()\n",
    "scaler.fit(X_train)\n",
    "X_train_std = scaler.transform(X_train)\n",
    "X_valid_std = scaler.transform(X_valid)"
   ]
  },
  {
   "cell_type": "code",
   "execution_count": 57,
   "metadata": {
    "scrolled": true
   },
   "outputs": [],
   "source": [
    "# 学習\n",
    "\n",
    "# _init__(self, num_iter, lr, kernel='linear', gammma=1,\n",
    "#                  theta=0, d=1, threshold=1e-5, verbose=False):\n",
    "ssvc = ScratchSVMClassifier(5000, 0.01, threshold=1e-5)\n",
    "ssvc.fit(X_train_std, y_train, X_valid_std, y_valid)\n",
    "y_valid_predict = ssvc.predict(X_valid_std)"
   ]
  },
  {
   "cell_type": "code",
   "execution_count": 58,
   "metadata": {
    "scrolled": false
   },
   "outputs": [
    {
     "name": "stdout",
     "output_type": "stream",
     "text": [
      "正解率： 0.92\n",
      "適合率： 0.9230769230769231\n",
      "再現率： 0.9230769230769231\n",
      "F値： 0.9230769230769231\n",
      "混同行列\n",
      " [[12  1]\n",
      " [ 1 11]]\n"
     ]
    }
   ],
   "source": [
    "# 正解率\n",
    "print(\"正解率：\", accuracy_score(y_valid, y_valid_predict))\n",
    "# 適合率\n",
    "print(\"適合率：\", precision_score(y_valid, y_valid_predict))\n",
    "# Recall（再現率）\n",
    "print(\"再現率：\", recall_score(y_valid, y_valid_predict))\n",
    "# F値\n",
    "print(\"F値：\", f1_score(y_valid, y_valid_predict))\n",
    "# 混同行列\n",
    "print(\"混同行列\\n\", confusion_matrix(y_valid, y_valid_predict))"
   ]
  },
  {
   "cell_type": "markdown",
   "metadata": {},
   "source": [
    "# 【問題5】決定領域の可視化\n",
    "決定領域を可視化してください。\n",
    "\n",
    "\n",
    "以下の例のようにサポートベクターは異なる色で示してください。"
   ]
  },
  {
   "cell_type": "code",
   "execution_count": 59,
   "metadata": {},
   "outputs": [],
   "source": [
    "def decision_region(X, y, model, step=0.01, title='decision region', xlabel='xlabel',\n",
    "                    ylabel='ylabel', target_names=['setosa', 'versicolor', 'virginica']):\n",
    "    \"\"\"\n",
    "    2値分類を2次元の特徴量で学習したモデルの決定領域を描く。\n",
    "    背景の色が学習したモデルによる推定値から描画される。\n",
    "    散布図の点は訓練データまたは検証データである。\n",
    "\n",
    "    Parameters\n",
    "    ----------------\n",
    "    X : ndarray, shape(n_samples, 2)\n",
    "        特徴量\n",
    "    y : ndarray, shape(n_samples,)\n",
    "        ラベル\n",
    "    model : object\n",
    "        学習したモデルのインスンタスを入れる\n",
    "    step : float, (default : 0.1)\n",
    "        推定値を計算する間隔を設定する\n",
    "    title : str\n",
    "        グラフのタイトルの文章を与える\n",
    "    xlabel, ylabel : str\n",
    "        軸ラベルの文章を与える\n",
    "    target_names= : list of str\n",
    "        凡例の一覧を与える\n",
    "    \"\"\"\n",
    "    # setting\n",
    "    scatter_color = ['green', 'red', 'blue']\n",
    "    contourf_color = ['white', 'pink', 'skyblue']\n",
    "    # クラスの長さをクラス数\n",
    "    n_class = len(set(y))\n",
    "\n",
    "    # pred\n",
    "    mesh_f0, mesh_f1  = np.meshgrid(np.arange(np.min(X[:,0])-0.5, np.max(X[:,0])+0.5, step),\n",
    "                                    np.arange(np.min(X[:,1])-0.5, np.max(X[:,1])+0.5, step))\n",
    "    mesh = np.c_[np.ravel(mesh_f0),np.ravel(mesh_f1)]\n",
    "    y_pred = model.predict(mesh).reshape(mesh_f0.shape)\n",
    "    \n",
    "    # plot\n",
    "    plt.title(title)\n",
    "    plt.xlabel(xlabel)\n",
    "    plt.ylabel(ylabel)\n",
    "    \n",
    "    \n",
    "    # contourf_color、scatter_color、target_namesをクラス数に応じて変化\n",
    "    plt.contourf(mesh_f0, mesh_f1, y_pred, n_class-1, cmap=ListedColormap([contourf_color[n] for n in set(y)]))\n",
    "    plt.contour(mesh_f0, mesh_f1, y_pred, n_class-1, colors='y', linewidths=3, alpha=0.5)\n",
    "    for i, target in enumerate(set(y)):\n",
    "        plt.scatter(X[y==target][:, 0], X[y==target][:, 1], s=80,\n",
    "                    color=scatter_color[target],label=target_names[target], marker='o')\n",
    "    # サポートベクトルと切り分け\n",
    "    plt.scatter(model.s_X[:, 0],\n",
    "                model.s_X[:, 1], s=80,  marker='o', color='y')\n",
    "    \n",
    "    patches = [mpatches.Patch(color=scatter_color[n], label=target_names[n]) for n in set(y)]\n",
    "    plt.legend(handles=patches)\n",
    "    plt.xlim(-3, 3)\n",
    "    plt.ylim(-3, 3)\n",
    "    plt.legend()\n",
    "    plt.show()"
   ]
  },
  {
   "cell_type": "code",
   "execution_count": 60,
   "metadata": {},
   "outputs": [
    {
     "data": {
      "text/plain": [
       "array([71.37239   , 14.76226681, 36.75679169, 29.27900156, 54.25510837,\n",
       "       21.35552362,  9.74980293, 58.22854039, 32.7622319 , 51.64176546,\n",
       "       23.75053649])"
      ]
     },
     "execution_count": 60,
     "metadata": {},
     "output_type": "execute_result"
    }
   ],
   "source": [
    "ssvc.coef_"
   ]
  },
  {
   "cell_type": "code",
   "execution_count": 61,
   "metadata": {
    "scrolled": true
   },
   "outputs": [
    {
     "data": {
      "image/png": "[encoded data removed]",
      "text/plain": [
       "<Figure size 432x288 with 1 Axes>"
      ]
     },
     "metadata": {
      "needs_background": "light"
     },
     "output_type": "display_data"
    }
   ],
   "source": [
    "decision_region(X_train_std, y_train, model=ssvc, step=0.01, title='decision region',\n",
    "                xlabel=\"sepal length\", ylabel=\"petal length\")"
   ]
  },
  {
   "cell_type": "markdown",
   "metadata": {},
   "source": [
    "# 【問題6】（アドバンス課題）多項式カーネル関数の作成\n",
    "最初に作成した実装では線形カーネルを使用していました。多項式カーネルにも切り替えられるようにしましょう。\n",
    "\n",
    "線形カーネル\n",
    "$k(x_i, x_j) = x_{i}^{T} x_j$\n",
    "\n",
    "多項式カーネル\n",
    "$k(x_i, x_j) = \\gamma(x_{i}^{T} x_j + \\theta_0)^{d}$"
   ]
  },
  {
   "cell_type": "code",
   "execution_count": 31,
   "metadata": {},
   "outputs": [
    {
     "name": "stdout",
     "output_type": "stream",
     "text": [
      "正解率： 0.92\n",
      "適合率： 1.0\n",
      "再現率： 0.8461538461538461\n",
      "F値： 0.9166666666666666\n",
      "混同行列\n",
      " [[11  2]\n",
      " [ 0 12]]\n"
     ]
    }
   ],
   "source": [
    "ssvc_poly = ScratchSVMClassifier(5000, 0.001,\n",
    "                                 kernel='poly', gamma=0.25, theta=2, d=3, threshold=1e-5)\n",
    "ssvc_poly.fit(X_train_std, y_train, X_valid_std, y_valid)\n",
    "y_valid_predict_poly = ssvc_poly.predict(X_valid_std)\n",
    "\n",
    "# 正解率\n",
    "print(\"正解率：\", accuracy_score(y_valid, y_valid_predict_poly))\n",
    "# 適合率\n",
    "print(\"適合率：\", precision_score(y_valid, y_valid_predict_poly))\n",
    "# Recall（再現率）\n",
    "print(\"再現率：\", recall_score(y_valid, y_valid_predict_poly))\n",
    "# F値\n",
    "print(\"F値：\", f1_score(y_valid, y_valid_predict_poly))\n",
    "# 混同行列\n",
    "print(\"混同行列\\n\", confusion_matrix(y_valid, y_valid_predict_poly))"
   ]
  },
  {
   "cell_type": "code",
   "execution_count": 32,
   "metadata": {},
   "outputs": [
    {
     "data": {
      "text/plain": [
       "array([2.07455411, 5.38803508, 0.31386823, 6.46437473, 0.66750539,\n",
       "       0.33942762, 3.26890679, 1.29370864, 2.6683679 , 0.26455975,\n",
       "       5.6918668 , 2.84878033, 4.70971615, 0.21022769, 1.46437941])"
      ]
     },
     "execution_count": 32,
     "metadata": {},
     "output_type": "execute_result"
    }
   ],
   "source": [
    "ssvc_poly.coef_"
   ]
  },
  {
   "cell_type": "code",
   "execution_count": 33,
   "metadata": {
    "scrolled": true
   },
   "outputs": [
    {
     "data": {
      "image/png": "[encoded data removed]",
      "text/plain": [
       "<Figure size 432x288 with 1 Axes>"
      ]
     },
     "metadata": {
      "needs_background": "light"
     },
     "output_type": "display_data"
    }
   ],
   "source": [
    "decision_region(X_train_std, y_train, model=ssvc_poly, step=0.01, title='decision region',\n",
    "                xlabel=\"sepal length\", ylabel=\"petal length\")"
   ]
  },
  {
   "cell_type": "code",
   "execution_count": null,
   "metadata": {},
   "outputs": [],
   "source": []
  },
  {
   "cell_type": "code",
   "execution_count": null,
   "metadata": {},
   "outputs": [],
   "source": []
  }
 ],
 "metadata": {
  "kernelspec": {
   "display_name": "Python 3",
   "language": "python",
   "name": "python3"
  },
  "language_info": {
   "codemirror_mode": {
    "name": "ipython",
    "version": 3
   },
   "file_extension": ".py",
   "mimetype": "text/x-python",
   "name": "python",
   "nbconvert_exporter": "python",
   "pygments_lexer": "ipython3",
   "version": "3.7.3"
  }
 },
 "nbformat": 4,
 "nbformat_minor": 2
}
