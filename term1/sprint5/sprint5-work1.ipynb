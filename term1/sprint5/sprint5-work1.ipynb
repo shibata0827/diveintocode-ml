{
 "cells": [
  {
   "cell_type": "markdown",
   "metadata": {},
   "source": [
    "# sprint 機械学習スクラッチ 決定木"
   ]
  },
  {
   "cell_type": "code",
   "execution_count": 1,
   "metadata": {},
   "outputs": [],
   "source": [
    "import matplotlib.pyplot as plt\n",
    "%matplotlib inline\n",
    "import numpy as np\n",
    "import pandas as pd\n",
    "from sklearn.preprocessing import StandardScaler\n",
    "from sklearn.model_selection import train_test_split\n",
    "from sklearn.metrics import accuracy_score\n",
    "from sklearn.metrics import precision_score\n",
    "from sklearn.metrics import recall_score\n",
    "from sklearn.metrics import f1_score\n",
    "from sklearn.metrics import confusion_matrix\n",
    "from matplotlib.colors import ListedColormap\n",
    "import matplotlib.patches as mpatches\n",
    "import collections"
   ]
  },
  {
   "cell_type": "code",
   "execution_count": 2,
   "metadata": {},
   "outputs": [],
   "source": [
    "class ScratchDecesionTreeClassifierDepth1():\n",
    "    \"\"\"\n",
    "    深さ1の決定木分類器のスクラッチ実装\n",
    "\n",
    "    Parameters\n",
    "    ----------\n",
    "    verbose : bool\n",
    "      学習過程を出力する場合はTrue\n",
    "    \"\"\"\n",
    "    def __init__(self, verbose=False):\n",
    "        # ハイパーパラメータを属性として記録\n",
    "        self.verbose = verbose\n",
    "        # 各ノードのインスタンス\n",
    "        self.y_left = 0\n",
    "        self.y_right = 0\n",
    "        # 最適なXの分割ポイント\n",
    "        self.best_X_set = 0\n",
    "        self.best_col = 0\n",
    "        self.best_class_left = 0\n",
    "        self.best_class_right = 0\n",
    "    def fit(self, X, y):\n",
    "        \"\"\"\n",
    "        決定木分類器を学習する\n",
    "        Parameters\n",
    "        ----------\n",
    "        X : 次の形のndarray, shape (n_samples, n_features)\n",
    "            学習用データの特徴量\n",
    "        y : 次の形のndarray, shape (n_samples, )\n",
    "            学習用データの正解値\n",
    "        \"\"\"\n",
    "        #rootの不純度の計算\n",
    "        root_gini = gain_gini(y)\n",
    "        \n",
    "        # 最大利得の初期化\n",
    "        ig_max = 0\n",
    "        \n",
    "        # 最も不純度が低下する組み合わせを網羅的に探索\n",
    "        # 特徴量毎に繰り返す\n",
    "        for j in range(X.shape[1]): \n",
    "            # Xの固有値リストを取得（setでソート済み）\n",
    "            X_set = list(set(X[:, j]))\n",
    "            \n",
    "            # 「Xの固有値の数−１」for\n",
    "            for i in range(len(X_set)-1):\n",
    "                # Xの固有値を元に分割\n",
    "                # 各node保持\n",
    "                self.y_left = y[np.where(X[:, j]<=X_set[i])]\n",
    "                self.y_right = y[np.where(X[:, j]>X_set[i])]\n",
    "                \n",
    "                # 不純度の計算\n",
    "                left_gini = gain_gini(self.y_left)\n",
    "                right_gini = gain_gini(self.y_right)\n",
    "                \n",
    "                # 利得の計算\n",
    "                root_len = len(y)\n",
    "                ig = gain_ig(self, root_gini, left_gini, right_gini, root_len)\n",
    "                \n",
    "                # 利得が最大となる組み合わせの保持\n",
    "                if ig > ig_max:\n",
    "                    ig_max = ig\n",
    "                    self.best_class_left = np.unique(self.y_left,\n",
    "                                                     return_counts=True)[1].argmax()\n",
    "                    self.best_class_right = np.unique(self.y_right,\n",
    "                                                      return_counts=True)[1].argmax()\n",
    "                    self.best_X_set = X_set[i]\n",
    "                    self.best_col = j\n",
    "        \n",
    "        if self.verbose:\n",
    "            #verboseをTrueにした際は学習過程を出力\n",
    "            print()\n",
    "        \n",
    "    def predict(self, X):\n",
    "        \"\"\"\n",
    "        決定木分類器を使いラベルを推定する\n",
    "        \"\"\"\n",
    "        y_pred = np.zeros(X.shape[0])\n",
    "        y_pred[np.where(X[:, self.best_col]<=self.best_X_set)] = self.best_class_left\n",
    "        y_pred[np.where(X[:, self.best_col]>self.best_X_set)] = self.best_class_right\n",
    "        \n",
    "        return y_pred"
   ]
  },
  {
   "cell_type": "markdown",
   "metadata": {},
   "source": [
    "# 【問題1】不純度を求める関数\n",
    "ノード の ジニ不純度 を計算する関数を作成してください。ノード t に対するジニ不純度 I(t) は以下の数式で求まります。クラスが混じり合っているほどジニ不純度は高くなります。"
   ]
  },
  {
   "cell_type": "code",
   "execution_count": 3,
   "metadata": {},
   "outputs": [],
   "source": [
    "def gain_gini(y):\n",
    "    \n",
    "    # pureの初期化\n",
    "    pure = 0\n",
    "    # yの固有値リストの分だけpureを算出、合算\n",
    "    for y_set in list(set(y)):\n",
    "        pure += ((y==y_set).sum()/y.shape[0])**2\n",
    "    gini = 1 - pure\n",
    "    \n",
    "    return gini"
   ]
  },
  {
   "cell_type": "markdown",
   "metadata": {},
   "source": [
    "# 【問題2】情報利得を求める関数\n",
    "次に、ノード間の 情報利得 を計算する関数を作成してください。問題1で作成したジニ不純度 I(t) を計算する関数を呼び出して使います。情報利得IGは以下の数式で求まります。うまく分けられている時ほど情報利得は大きくなります。\n",
    "\n",
    "\n",
    "ここで分岐は2つのみであるため、分岐先を「左側のノード・右側のノード」と呼びます。"
   ]
  },
  {
   "cell_type": "code",
   "execution_count": 4,
   "metadata": {},
   "outputs": [],
   "source": [
    "def gain_ig(self, root_gini, left_gini, right_gini, root_len):\n",
    "    \n",
    "    #リーフノードの割合\n",
    "    left_ratio = len(self.y_left)/root_len\n",
    "    right_ratio = len(self.y_right)/root_len\n",
    "    \n",
    "    return root_gini - left_gini*left_ratio- right_gini*right_ratio"
   ]
  },
  {
   "cell_type": "markdown",
   "metadata": {},
   "source": [
    "# 【問題3】学習\n",
    "空間の分割を行い、決定木のグラフを生成するコードを作成してください。今は深さ1の決定木なので、分割を1回だけ行います。ここでグラフを生成するとは、1回の分割の際の条件としてどの特徴量がいくつ以上の時とするかを求めるということです。\n",
    "\n",
    "\n",
    "訓練データに対して全ての組み合わせの分割を行い、その中でノード間の情報利得が最大となる分割をそのノードの分割基準として記録します。\n",
    "\n",
    "\n",
    "クラスが混ざらない不純度が0のノード、または指定された深さのノードが 葉ノード となります。葉ノードにはクラスを記録しておき、これを推定時に分類するクラスとします。クラスが混ざらない場合はそのままのクラスを記録し、混ざっている場合は多数決により決めます。"
   ]
  },
  {
   "cell_type": "markdown",
   "metadata": {},
   "source": [
    "# 【問題4】推定\n",
    "推定する仕組みを実装してください。ScratchDecesionTreeClassifierDepth1クラスの雛形に含まれるpredictメソッドに書き加えてください。\n",
    "\n",
    "\n",
    "入力されたデータの値を学習した条件で判定していき、どの葉ノードに到達するかを見ます。葉ノードにはクラスが記録されているので、これが推定値となります。"
   ]
  },
  {
   "cell_type": "markdown",
   "metadata": {},
   "source": [
    "# 【問題5】学習と推定\n",
    "機械学習スクラッチ入門のSprintで用意したシンプルデータセット2の2値分類に対してスクラッチ実装の学習と推定を行なってください。\n",
    "\n",
    "\n",
    "scikit-learnによる実装と比べ、正しく動いているかを確認してください。\n",
    "\n",
    "\n",
    "AccuracyやPrecision、Recallなどの指標値はscikit-learnを使用してください。"
   ]
  },
  {
   "cell_type": "code",
   "execution_count": 5,
   "metadata": {},
   "outputs": [],
   "source": [
    "# シンプルデータセット２\n",
    "X2 = np.array([[-0.44699 , -2.8073  ],[-1.4621  , -2.4586  ],\n",
    "       [ 0.10645 ,  1.9242  ],[-3.5944  , -4.0112  ],\n",
    "       [-0.9888  ,  4.5718  ],[-3.1625  , -3.9606  ],\n",
    "       [ 0.56421 ,  0.72888 ],[-0.60216 ,  8.4636  ],\n",
    "       [-0.61251 , -0.75345 ],[-0.73535 , -2.2718  ],\n",
    "       [-0.80647 , -2.2135  ],[ 0.86291 ,  2.3946  ],\n",
    "       [-3.1108  ,  0.15394 ],[-2.9362  ,  2.5462  ],\n",
    "       [-0.57242 , -2.9915  ],[ 1.4771  ,  3.4896  ],\n",
    "       [ 0.58619 ,  0.37158 ],[ 0.6017  ,  4.3439  ],\n",
    "       [-2.1086  ,  8.3428  ],[-4.1013  , -4.353   ],\n",
    "       [-1.9948  , -1.3927  ],[ 0.35084 , -0.031994],\n",
    "       [ 0.96765 ,  7.8929  ],[-1.281   , 15.6824  ],\n",
    "       [ 0.96765 , 10.083   ],[ 1.3763  ,  1.3347  ],\n",
    "       [-2.234   , -2.5323  ],[-2.9452  , -1.8219  ],\n",
    "       [ 0.14654 , -0.28733 ],[ 0.5461  ,  5.8245  ],\n",
    "       [-0.65259 ,  9.3444  ],[ 0.59912 ,  5.3524  ],\n",
    "       [ 0.50214 , -0.31818 ],[-3.0603  , -3.6461  ],\n",
    "       [-6.6797  ,  0.67661 ],[-2.353   , -0.72261 ],\n",
    "       [ 1.1319  ,  2.4023  ],[-0.12243 ,  9.0162  ],\n",
    "       [-2.5677  , 13.1779  ],[ 0.057313,  5.4681  ]])\n",
    "y2 = np.array([0, 0, 0, 0, 0, 0, 0, 0, 0, 0, 0, 0, 0, 0, 0, 0, 0, 0, 0, 0, 1, 1,\n",
    "       1, 1, 1, 1, 1, 1, 1, 1, 1, 1, 1, 1, 1, 1, 1, 1, 1, 1])"
   ]
  },
  {
   "cell_type": "code",
   "execution_count": 6,
   "metadata": {},
   "outputs": [
    {
     "data": {
      "text/plain": [
       "array([0., 0., 0., 0., 0., 0., 0., 1., 0., 0., 0., 0., 0., 0., 0., 0., 0.,\n",
       "       0., 1., 0., 0., 0., 1., 1., 1., 0., 0., 0., 0., 1., 1., 1., 0., 0.,\n",
       "       0., 0., 0., 1., 1., 1.])"
      ]
     },
     "execution_count": 6,
     "metadata": {},
     "output_type": "execute_result"
    }
   ],
   "source": [
    "# 学習、推定\n",
    "sdt1 = ScratchDecesionTreeClassifierDepth1()\n",
    "sdt1.fit(X2, y2)\n",
    "y_pred2 =sdt1.predict(X2)\n",
    "y_pred2"
   ]
  },
  {
   "cell_type": "code",
   "execution_count": 7,
   "metadata": {},
   "outputs": [
    {
     "name": "stdout",
     "output_type": "stream",
     "text": [
      "正解率： 0.675\n",
      "適合率： 0.8181818181818182\n",
      "再現率： 0.45\n",
      "F値： 0.5806451612903226\n",
      "混同行列\n",
      " [[18  2]\n",
      " [11  9]]\n"
     ]
    }
   ],
   "source": [
    "# 正解率\n",
    "print(\"正解率：\", accuracy_score(y2, y_pred2))\n",
    "# 適合率\n",
    "print(\"適合率：\", precision_score(y2, y_pred2))\n",
    "# Recall（再現率）\n",
    "print(\"再現率：\", recall_score(y2, y_pred2))\n",
    "# F値\n",
    "print(\"F値：\", f1_score(y2, y_pred2))\n",
    "# 混同行列\n",
    "print(\"混同行列\\n\", confusion_matrix(y2, y_pred2))"
   ]
  },
  {
   "cell_type": "markdown",
   "metadata": {},
   "source": [
    "# 【問題6】決定領域の可視化\n",
    "決定領域を可視化してください。"
   ]
  },
  {
   "cell_type": "code",
   "execution_count": 8,
   "metadata": {},
   "outputs": [],
   "source": [
    "def decision_region(X, y, model, step=0.01, title='decision region', xlabel='x1',\n",
    "                    ylabel='x2', target_names=['setosa', 'versicolor', 'virginica']):\n",
    "    \"\"\"\n",
    "    2値分類を2次元の特徴量で学習したモデルの決定領域を描く。\n",
    "    背景の色が学習したモデルによる推定値から描画される。\n",
    "    散布図の点は訓練データまたは検証データである。\n",
    "\n",
    "    Parameters\n",
    "    ----------------\n",
    "    X : ndarray, shape(n_samples, 2)\n",
    "        特徴量\n",
    "    y : ndarray, shape(n_samples,)\n",
    "        ラベル\n",
    "    model : object\n",
    "        学習したモデルのインスンタスを入れる\n",
    "    step : float, (default : 0.1)\n",
    "        推定値を計算する間隔を設定する\n",
    "    title : str\n",
    "        グラフのタイトルの文章を与える\n",
    "    xlabel, ylabel : str\n",
    "        軸ラベルの文章を与える\n",
    "    target_names= : list of str\n",
    "        凡例の一覧を与える\n",
    "    \"\"\"\n",
    "    # setting\n",
    "    scatter_color = ['green', 'red', 'blue']\n",
    "    contourf_color = ['white', 'pink', 'skyblue']\n",
    "    # クラスの長さをクラス数\n",
    "    n_class = len(set(y))\n",
    "\n",
    "    # pred\n",
    "    mesh_f0, mesh_f1  = np.meshgrid(np.arange(np.min(X[:,0])-0.5, np.max(X[:,0])+0.5, step),\n",
    "                                    np.arange(np.min(X[:,1])-0.5, np.max(X[:,1])+0.5, step))\n",
    "    mesh = np.c_[np.ravel(mesh_f0),np.ravel(mesh_f1)]\n",
    "    y_pred = model.predict(mesh).reshape(mesh_f0.shape)\n",
    "    \n",
    "    # plot\n",
    "    plt.title(title)\n",
    "    plt.xlabel(xlabel)\n",
    "    plt.ylabel(ylabel)\n",
    "    \n",
    "    \n",
    "    # contourf_color、scatter_color、target_namesをクラス数に応じて変化\n",
    "    plt.contourf(mesh_f0, mesh_f1, y_pred, n_class-1, cmap=ListedColormap([contourf_color[n] for n in set(y)]))\n",
    "    plt.contour(mesh_f0, mesh_f1, y_pred, n_class-1, colors='y', linewidths=3, alpha=0.5)\n",
    "    for i, target in enumerate(set(y)):\n",
    "        plt.scatter(X[y==target][:, 0], X[y==target][:, 1], s=80,\n",
    "                    color=scatter_color[target],label=target_names[target], marker='o')\n",
    "    \n",
    "    patches = [mpatches.Patch(color=scatter_color[n], label=target_names[n]) for n in set(y)]\n",
    "    plt.legend(handles=patches)\n",
    "    plt.legend()\n",
    "    plt.show()"
   ]
  },
  {
   "cell_type": "code",
   "execution_count": 9,
   "metadata": {
    "scrolled": false
   },
   "outputs": [
    {
     "data": {
      "image/png": "[encoded data removed]",
      "text/plain": [
       "<Figure size 432x288 with 1 Axes>"
      ]
     },
     "metadata": {
      "needs_background": "light"
     },
     "output_type": "display_data"
    }
   ],
   "source": [
    "# グラフ化\n",
    "decision_region(X2, y2, sdt1, target_names=[\"0\", \"1\", \"2\"])"
   ]
  },
  {
   "cell_type": "markdown",
   "metadata": {},
   "source": [
    "# 【問題7】（アドバンス課題）深さ2の決定木分類器クラスの作成\n",
    "深さが2の決定木分類器のクラスScratchDecesionTreeClassifierDepth2を作成してください。\n",
    "\n",
    "\n",
    "深さ2とは空間の分割を2回行うことを指します。\n",
    "\n",
    "\n",
    "《ヒント》\n",
    "\n",
    "\n",
    "各ノードをインスタンスとして扱うと、任意の深さへの拡張が行いやすくなります。"
   ]
  },
  {
   "cell_type": "markdown",
   "metadata": {},
   "source": [
    "# 【問題8】（アドバンス課題）深さに制限のない決定木分類器クラスの作成\n",
    "深さに制限のない決定木分類器のクラスScratchDecesionTreeClassifierDepthInfを作成してください。\n",
    "\n",
    "\n",
    "任意の深さを指定できるようにするとともに、指定しない場合は全ての葉ノードがジニ不純度0となるまで続けられるようにもしてください。"
   ]
  },
  {
   "cell_type": "code",
   "execution_count": 27,
   "metadata": {},
   "outputs": [],
   "source": [
    "class ScratchDecesionTreeClassifierDepthf():\n",
    "    \"\"\"\n",
    "    深さ2の決定木分類器のスクラッチ実装\n",
    "\n",
    "    Parameters\n",
    "    ----------\n",
    "    verbose : bool\n",
    "      学習過程を出力する場合はTrue\n",
    "    \"\"\"\n",
    "    def __init__(self, depth=None, verbose=False):\n",
    "        # ハイパーパラメータを属性として記録\n",
    "        self.verbose = verbose\n",
    "        # 各ノードのインスタンス\n",
    "        self.y_left = 0\n",
    "        self.y_right = 0\n",
    "        \n",
    "        # [深さ毎[ノード毎]]の入れ子構造を記録するための各リスト\n",
    "        # →これを利用し「繰り返し処理」、「predict」を動かす\n",
    "        # ノードのy\n",
    "        self.y = []\n",
    "        # 分割時のX条件（閾値）\n",
    "        self.best_X_set = []\n",
    "        # 分割時のX列番号\n",
    "        self.best_col = []\n",
    "        # 分割後のleft, rightのクラス\n",
    "        self.best_class = []\n",
    "        # ノードのX\n",
    "        self.depth_node_list = []\n",
    "        \n",
    "        # 深さ\n",
    "        self.depth = depth\n",
    "        \n",
    "    def fit(self, X, y):\n",
    "        \"\"\"\n",
    "        決定木分類器を学習する\n",
    "        Parameters\n",
    "        ----------\n",
    "        X : 次の形のndarray, shape (n_samples, n_features)\n",
    "            学習用データの特徴量\n",
    "        y : 次の形のndarray, shape (n_samples, )\n",
    "            学習用データの正解値\n",
    "        \"\"\"\n",
    "        # 最も不純度が低下する組み合わせを網羅的に探索\n",
    "        \n",
    "        # 分岐に使用するX初期値をリストとして追加（深さ、ノードの入れ子構造）\n",
    "        self.depth_node_list.append(X)\n",
    "        #Xと同様にy初期値もリスト追加\n",
    "        self.y.append(y)\n",
    "        \n",
    "        # 深さの指定がない場合\n",
    "        if not self.depth:\n",
    "            # 仮の深さを設定（とりあえず1000000回を最大）\n",
    "            self.depth = 1000000\n",
    "        # 深さの記録\n",
    "        depth_log = 0\n",
    "        \n",
    "        # 深さの数だけ繰り返す、深さ指定なしの場合は純度マックスまで\n",
    "        for depth in range(self.depth): \n",
    "            # 深さの記録（深さの指定有無に関わらず記録することで、これをpredictに使用する）\n",
    "            depth_log +=1\n",
    "            # ノード毎の次ノードの記録リストを初期化\n",
    "            next_node_list = []\n",
    "            next_class_list = []\n",
    "            next_X_set_list = []\n",
    "            next_col_list = []\n",
    "            next_y_list = []\n",
    "            \n",
    "            # 次の繰り返しのためにノードの数を取得（depth０で分岐）\n",
    "            if depth==0:\n",
    "                node_len = len(self.depth_node_list)\n",
    "            else:\n",
    "                node_len = len(self.depth_node_list[depth])\n",
    "                    \n",
    "            # 各層のノードの数だけ繰り返し\n",
    "            for node_num in range(node_len):\n",
    "                # この時に注目するnodeのX、yを取得（depth０で分岐）\n",
    "                if depth==0:\n",
    "                    node_X = self.depth_node_list[depth]\n",
    "                    node_y = self.y[depth]\n",
    "                else:\n",
    "                    node_X = self.depth_node_list[depth][node_num]\n",
    "                    node_y = self.y[depth][node_num]\n",
    "                \n",
    "                # 最大利得の初期化\n",
    "                ig_max = 0\n",
    "                \n",
    "#                 # 確認用　ジニ不純度のリスト初期化\n",
    "#                 gain_list = []\n",
    "                     \n",
    "                # 純度がマックスでない場合    \n",
    "                if len(set(node_y))>1 and node_y!=\"stop\":\n",
    "                    # 特徴量毎に繰り返す\n",
    "                    for j in range(node_X.shape[1]): \n",
    "                        # Xの固有値リストを取得（setでソート済み）\n",
    "                        X_set = list(sorted(set(node_X[:, j])))\n",
    "\n",
    "                        # 「Xの固有値の数−１」で各分岐で不純度算出\n",
    "                        for i in range(len(X_set)-1):\n",
    "                            # 各node保持（利得計算gain_igで使用）\n",
    "                            self.y_left = node_y[np.where(node_X[:, j]<=X_set[i])]\n",
    "                            self.y_right = node_y[np.where(node_X[:, j]>X_set[i])]\n",
    "\n",
    "                            # 不純度の計算\n",
    "                            left_gini = gain_gini(self.y_left)\n",
    "                            right_gini = gain_gini(self.y_right)\n",
    "                            root_gini = gain_gini(node_y)\n",
    "\n",
    "                            # node_yの要素数をここで取得（利得計算gain_igで使用）\n",
    "                            root_len = len(node_y)\n",
    "                            \n",
    "                            # 利得の計算\n",
    "                            ig = gain_ig(self, root_gini, left_gini, right_gini, root_len)\n",
    "\n",
    "#                             # 確認用　ジニ不純度の記録\n",
    "#                             gain_list.append(ig)\n",
    "\n",
    "                            # 利得が最大となる組み合わせの保持\n",
    "                            if ig > ig_max:\n",
    "                                ig_max = ig                                \n",
    "                                best_X_set = X_set[i]\n",
    "                                best_col = j\n",
    "\n",
    "#                     # 確認用のprint                   \n",
    "#                     print(\"depth\", depth)\n",
    "#                     print(\"node_num\", node_num)\n",
    "#                     print(\"node_X\\n\", node_X)\n",
    "#                     print(\"node_y\", node_y)\n",
    "#                     print(\"best_col\", best_col)\n",
    "#                     print(\"best_X_set\", best_X_set)\n",
    "#                     print(\"node_X[:, best_col]\", node_X[:, best_col])\n",
    "#                     print(\"np.where(node_X[:, best_col]<=best_X_set)\", np.where(node_X[:, best_col]<=best_X_set))\n",
    "#                     print()\n",
    "                    \n",
    "                    # 次nodeのXを取得\n",
    "                    best_X_left = node_X[np.where(node_X[:, best_col]<=best_X_set)]\n",
    "                    best_X_right = node_X[np.where(node_X[:, best_col]>best_X_set)]\n",
    "\n",
    "                    # 次nodeのyを取得\n",
    "                    best_y_left = node_y[np.where(node_X[:, best_col]<=best_X_set)]\n",
    "                    best_y_right = node_y[np.where(node_X[:, best_col]>best_X_set)]\n",
    "                    \n",
    "                    # 次nodeのクラス設定\n",
    "                    best_class_left = collections.Counter(best_y_left).most_common(1)[0][0]\n",
    "                    best_class_right = collections.Counter(best_y_right).most_common(1)[0][0]\n",
    "                    \n",
    "                \n",
    "                # node_yの純度がマックスになった場合\n",
    "                else:\n",
    "                    # それぞれの記録を「\"stop\"」にする\n",
    "                    best_X_left = \"stop\"\n",
    "                    best_X_right = \"stop\"\n",
    "                    best_class_left = \"stop\"\n",
    "                    best_class_right = \"stop\"\n",
    "                    best_X_set = \"stop\"\n",
    "                    best_col = \"stop\"\n",
    "                    best_y_left = \"stop\"\n",
    "                    best_y_right = \"stop\"\n",
    "                             \n",
    "#                 # 確認用のprint\n",
    "#                 print(\"depth\", depth)\n",
    "#                 print(\"node_num\", node_num)\n",
    "#                 print(\"node_X\", node_X)\n",
    "#                 print(\"node_y\", node_y)\n",
    "#                 print(\"best_col\", best_col)\n",
    "#                 if best_col == \"stop\":\n",
    "#                     print(\"node_X[:, best_col]  best_col==stop\")\n",
    "#                 else:\n",
    "#                     print(\"node_X[:, best_col]\", node_X[:, best_col])\n",
    "#                 print(\"best_X_set\", best_X_set)\n",
    "#                 print(\"best_X_left\", best_X_left)\n",
    "#                 print(\"best_X_right\", best_X_right)\n",
    "#                 print('best_y_left', best_y_left)\n",
    "#                 print('best_y_right', best_y_right)\n",
    "#                 print(\"best_class_left\", best_class_left)\n",
    "#                 print(\"best_class_right\", best_class_right)\n",
    "#                 print(\"np.unique(best_y_left, return_counts=True)\", np.unique(best_y_left, return_counts=True))\n",
    "#                 print(\"np.unique(best_y_right, return_counts=True)\", np.unique(best_y_right, return_counts=True))\n",
    "#                 print(\"gain_list\", gain_list)\n",
    "#                 print(\"ig_max\", ig_max)\n",
    "#                 print()\n",
    "                \n",
    "                # ノード毎の次ノードX, yの記録、保持\n",
    "                next_node_list.append(best_X_left)\n",
    "                next_node_list.append(best_X_right)\n",
    "                next_y_list.append(best_y_left)\n",
    "                next_y_list.append(best_y_right)               \n",
    "                # best_class、best_colも同様に記録、保持\n",
    "                next_class_list.append(best_class_left)\n",
    "                next_class_list.append(best_class_right)\n",
    "                next_X_set_list.append(best_X_set)\n",
    "                next_col_list.append(best_col)            \n",
    "                \n",
    "            # 深さ毎のノードリストとして次ノードのX, y記録、保持\n",
    "            self.depth_node_list.append(next_node_list)\n",
    "            self.y.append(next_y_list)\n",
    "            # best_class、best_colも同様に記録、保持\n",
    "            self.best_class.append(next_class_list)\n",
    "            self.best_X_set.append(next_X_set_list)\n",
    "            self.best_col.append(next_col_list)            \n",
    "        \n",
    "            # 最終的な深さの保持（predictに使用できるように）\n",
    "            self.depth = depth_log\n",
    "            \n",
    "            # 全てが純度マックスになったら終了\n",
    "            if len(list(set(self.best_col[depth])))==1 and list(set(self.best_col[depth]))[0]==\"stop\":\n",
    "                return\n",
    "            \n",
    "        if self.verbose:\n",
    "            #verboseをTrueにした際は学習過程を出力\n",
    "            print()\n",
    "            \n",
    "        \n",
    "    def predict(self, X):\n",
    "        \"\"\"\n",
    "        決定木分類器を使いラベルを推定する\n",
    "        \"\"\"\n",
    "        # y_predの初期化、pandasにすることでインデックス指定で値を変更できる\n",
    "        blank = [0 for i in range(X.shape[0])]\n",
    "        y_pred = pd.DataFrame(blank)\n",
    "        \n",
    "        # y_pred更新した後のインデックス用リスト（深さ毎に各ノードを記録）\n",
    "        y_index_list = []\n",
    "        y_index_list.append(y_pred.index.values)\n",
    "              \n",
    "        # 深さの数だけ繰り返す        \n",
    "        for depth in range(self.depth):\n",
    "            # 各層のノードの数だけ繰り返し\n",
    "            if depth==0:\n",
    "                    node_len = 1\n",
    "            else:\n",
    "                node_len = len(self.depth_node_list[depth])\n",
    "            \n",
    "            # y_pred更新した後のインデックスを深さ毎にリスト化\n",
    "            y_index = []\n",
    "            \n",
    "            for node_num in range(node_len):\n",
    "                # 分離対象のy_predのインデックス\n",
    "                if depth==0:\n",
    "                    y_index_target = y_index_list[0]\n",
    "                else:\n",
    "                    y_index_target = y_index_list[depth][node_num]\n",
    "                \n",
    "#                 # 確認用のprint\n",
    "#                 print(\"depth\", depth)\n",
    "#                 print(\"node_num\", node_num)\n",
    "#                 print(\"処理前のy_pred\", y_pred.values.ravel())\n",
    "#                 print(\"y_indexのリスト\", y_index_list)\n",
    "#                 print(\"対象のy_index_target\", y_index_target)\n",
    "#                 if y_index_target==\"stop\":\n",
    "#                     print(\"対象のy_predはstop\")\n",
    "#                 else:\n",
    "#                     print(\"対象のy_pred\", y_pred.iloc[y_index_target].values.ravel())\n",
    "                \n",
    "                # y_predの純度がマックスでない場合\n",
    "                # かつ、fit時の純度がマックスでない場合\n",
    "                if len(set(y_index_target))>1 and y_index_target!=\"stop\" and self.best_col[depth][node_num]!=\"stop\":\n",
    "                    \n",
    "                    # 閾値となるXの特徴量の列番号\n",
    "                    col = self.best_col[depth][node_num]\n",
    "                    # 閾値\n",
    "                    best_X_set = self.best_X_set[depth][node_num]\n",
    "                    \n",
    "                     # 分離後のクラス\n",
    "                    left_class = self.best_class[depth][2*node_num]\n",
    "                    right_class = self.best_class[depth][2*node_num+1]\n",
    "                    \n",
    "                    # 分離条件で分けられたインデックス（出力は０スタート）\n",
    "                    left_index_0start = np.where(X[y_index_target, col]<=best_X_set)\n",
    "                    right_index_0start = np.where(X[y_index_target, col]>best_X_set)\n",
    "                    # 分離条件で分けられたインデックス（０スタートをy_predインデックスに対応した値に変換）\n",
    "                    left_index = y_pred.iloc[y_index_target].iloc[left_index_0start].index.values\n",
    "                    right_index = y_pred.iloc[y_index_target].iloc[right_index_0start].index.values\n",
    "                   \n",
    "                    # 分離後のクラス指定\n",
    "                    y_pred.iloc[left_index] = left_class\n",
    "                    y_pred.iloc[right_index] = right_class\n",
    "\n",
    "                    # 分離後の各ノードのインデックス取得\n",
    "                    y_index.append(left_index)\n",
    "                    y_index.append(right_index)\n",
    "                      \n",
    "#                     # 確認用のprint\n",
    "#                     print(\"col\", col)\n",
    "#                     print(\"best_X_set\", best_X_set)\n",
    "#                     print(\"left_index\", left_index)\n",
    "#                     print(\"right_index\", right_index)\n",
    "#                     print(\"分離後leftのy_pred\", y_pred.iloc[left_index].values.ravel())\n",
    "#                     print(\"分離後rightのy_pred\", y_pred.iloc[right_index].values.ravel())\n",
    "#                     print(\"self.best_class\", self.best_class)\n",
    "#                     print(\"self.best_class[depth]\", self.best_class[depth])\n",
    "#                     print(\"left用 2*node_num\", 2*node_num)\n",
    "#                     print(\"right用 2*node_num+1\", 2*node_num+1)\n",
    "#                     print(\"left_class\", left_class)\n",
    "#                     print(\"right_class\", right_class)\n",
    "#                     print(\"処理後のy_pred\", y_pred.values.ravel())\n",
    "#                     print()\n",
    "                    \n",
    "                # y_predの純度がマックスの時\n",
    "                # またはfit時の純度がマックスの場合(とりあえず「\"stop\"」を記録)\n",
    "                else:\n",
    "                    y_index.append(\"stop\")\n",
    "                    y_index.append(\"stop\")\n",
    "                    \n",
    "#                     # 確認用のprint\n",
    "#                     print(\"depth\", depth)\n",
    "#                     print(\"node_num\", node_num)\n",
    "#                     print(\"y_index\", y_index)\n",
    "#                     print()\n",
    "                        \n",
    "            # 分離後の深さ毎のインデックス記録、保持\n",
    "            y_index_list.append(y_index)\n",
    "        \n",
    "        return y_pred.values.ravel()"
   ]
  },
  {
   "cell_type": "markdown",
   "metadata": {},
   "source": [
    "## 深さ２"
   ]
  },
  {
   "cell_type": "code",
   "execution_count": 24,
   "metadata": {},
   "outputs": [
    {
     "name": "stderr",
     "output_type": "stream",
     "text": [
      "/Users/user/anaconda3/lib/python3.7/site-packages/ipykernel_launcher.py:91: FutureWarning: elementwise comparison failed; returning scalar instead, but in the future will perform elementwise comparison\n",
      "/Users/user/anaconda3/lib/python3.7/site-packages/ipykernel_launcher.py:256: FutureWarning: elementwise comparison failed; returning scalar instead, but in the future will perform elementwise comparison\n"
     ]
    },
    {
     "data": {
      "text/plain": [
       "array([0, 0, 0, 0, 0, 0, 0, 1, 0, 0, 0, 0, 0, 0, 0, 0, 0, 0, 1, 0, 0, 0,\n",
       "       1, 1, 1, 0, 0, 0, 0, 1, 1, 1, 0, 0, 0, 0, 0, 1, 1, 1])"
      ]
     },
     "execution_count": 24,
     "metadata": {},
     "output_type": "execute_result"
    }
   ],
   "source": [
    "# 学習　深さ２\n",
    "sdtf_2 = ScratchDecesionTreeClassifierDepthf(2)\n",
    "sdtf_2.fit(X2, y2)\n",
    "y_pred2_2 = sdtf_2.predict(X2)\n",
    "y_pred2_2"
   ]
  },
  {
   "cell_type": "code",
   "execution_count": 25,
   "metadata": {},
   "outputs": [
    {
     "name": "stdout",
     "output_type": "stream",
     "text": [
      "正解率： 0.675\n",
      "適合率： 0.8181818181818182\n",
      "再現率： 0.45\n",
      "F値： 0.5806451612903226\n",
      "混同行列\n",
      " [[18  2]\n",
      " [11  9]]\n"
     ]
    }
   ],
   "source": [
    "# 正解率　深さ２\n",
    "print(\"正解率：\", accuracy_score(y2, y_pred2_2))\n",
    "# 適合率\n",
    "print(\"適合率：\", precision_score(y2, y_pred2_2))\n",
    "# Recall（再現率）\n",
    "print(\"再現率：\", recall_score(y2, y_pred2_2))\n",
    "# F値\n",
    "print(\"F値：\", f1_score(y2, y_pred2_2))\n",
    "# 混同行列\n",
    "print(\"混同行列\\n\", confusion_matrix(y2, y_pred2_2))"
   ]
  },
  {
   "cell_type": "code",
   "execution_count": 26,
   "metadata": {},
   "outputs": [
    {
     "name": "stderr",
     "output_type": "stream",
     "text": [
      "/Users/user/anaconda3/lib/python3.7/site-packages/ipykernel_launcher.py:256: FutureWarning: elementwise comparison failed; returning scalar instead, but in the future will perform elementwise comparison\n"
     ]
    },
    {
     "data": {
      "image/png": "[encoded data removed]",
      "text/plain": [
       "<Figure size 432x288 with 1 Axes>"
      ]
     },
     "metadata": {
      "needs_background": "light"
     },
     "output_type": "display_data"
    }
   ],
   "source": [
    "# グラフ化　深さ指定なし\n",
    "decision_region(X2, y2, sdtf_2, target_names=[\"0\", \"1\", \"2\"])"
   ]
  },
  {
   "cell_type": "markdown",
   "metadata": {},
   "source": [
    "## 深さ指定なし"
   ]
  },
  {
   "cell_type": "code",
   "execution_count": 14,
   "metadata": {
    "scrolled": false
   },
   "outputs": [
    {
     "name": "stderr",
     "output_type": "stream",
     "text": [
      "/Users/user/anaconda3/lib/python3.7/site-packages/ipykernel_launcher.py:91: FutureWarning: elementwise comparison failed; returning scalar instead, but in the future will perform elementwise comparison\n",
      "/Users/user/anaconda3/lib/python3.7/site-packages/ipykernel_launcher.py:256: FutureWarning: elementwise comparison failed; returning scalar instead, but in the future will perform elementwise comparison\n"
     ]
    },
    {
     "data": {
      "text/plain": [
       "array([0, 0, 0, 0, 0, 0, 0, 0, 0, 0, 0, 0, 0, 0, 0, 0, 0, 0, 0, 0, 1, 1,\n",
       "       1, 1, 1, 1, 1, 1, 1, 1, 1, 1, 1, 1, 1, 1, 1, 1, 1, 1])"
      ]
     },
     "execution_count": 14,
     "metadata": {},
     "output_type": "execute_result"
    }
   ],
   "source": [
    "# 学習　深さ指定なし\n",
    "sdtf_f = ScratchDecesionTreeClassifierDepthf()\n",
    "sdtf_f.fit(X2, y2)\n",
    "y_pred2_f = sdtf_f.predict(X2)\n",
    "y_pred2_f"
   ]
  },
  {
   "cell_type": "code",
   "execution_count": 15,
   "metadata": {},
   "outputs": [
    {
     "name": "stdout",
     "output_type": "stream",
     "text": [
      "正解率： 1.0\n",
      "適合率： 1.0\n",
      "再現率： 1.0\n",
      "F値： 1.0\n",
      "混同行列\n",
      " [[20  0]\n",
      " [ 0 20]]\n"
     ]
    }
   ],
   "source": [
    "# 正解率　深さ指定なし\n",
    "print(\"正解率：\", accuracy_score(y2, y_pred2_f))\n",
    "# 適合率\n",
    "print(\"適合率：\", precision_score(y2, y_pred2_f))\n",
    "# Recall（再現率）\n",
    "print(\"再現率：\", recall_score(y2, y_pred2_f))\n",
    "# F値\n",
    "print(\"F値：\", f1_score(y2, y_pred2_f))\n",
    "# 混同行列\n",
    "print(\"混同行列\\n\", confusion_matrix(y2, y_pred2_f))"
   ]
  },
  {
   "cell_type": "code",
   "execution_count": 16,
   "metadata": {
    "scrolled": true
   },
   "outputs": [
    {
     "name": "stderr",
     "output_type": "stream",
     "text": [
      "/Users/user/anaconda3/lib/python3.7/site-packages/ipykernel_launcher.py:256: FutureWarning: elementwise comparison failed; returning scalar instead, but in the future will perform elementwise comparison\n"
     ]
    },
    {
     "data": {
      "image/png": "[encoded data removed]",
      "text/plain": [
       "<Figure size 432x288 with 1 Axes>"
      ]
     },
     "metadata": {
      "needs_background": "light"
     },
     "output_type": "display_data"
    }
   ],
   "source": [
    "# グラフ化　深さ指定なし\n",
    "decision_region(X2, y2, sdtf_f, target_names=[\"0\", \"1\", \"2\"])"
   ]
  },
  {
   "cell_type": "markdown",
   "metadata": {},
   "source": [
    "## ボツコード\n",
    "* ２層目以降、内部ノードが全てルートノードになっている。（ジニ不純度計算、閾値による分離で狂う）\n",
    "* 純度がマックスの際の処理\n",
    "* predictでの処理する y のインデックス（numpyのままではインデックスで処理できない）"
   ]
  },
  {
   "cell_type": "code",
   "execution_count": 17,
   "metadata": {
    "scrolled": false
   },
   "outputs": [],
   "source": [
    "class ScratchDecesionTreeClassifierDepth2():\n",
    "    \"\"\"\n",
    "    深さ2の決定木分類器のスクラッチ実装\n",
    "\n",
    "    Parameters\n",
    "    ----------\n",
    "    verbose : bool\n",
    "      学習過程を出力する場合はTrue\n",
    "    \"\"\"\n",
    "    def __init__(self, verbose=False):\n",
    "        # ハイパーパラメータを属性として記録\n",
    "        self.verbose = verbose\n",
    "        # 各ノードのインスタンス\n",
    "        self.y_left = 0\n",
    "        self.y_right = 0\n",
    "        # 最適なXの分割ポイント\n",
    "        self.best_X_set = []\n",
    "        self.best_col = []\n",
    "        self.best_class = []\n",
    "        # 深さ分だけ繰り返すための途中ノード記録リスト\n",
    "        self.depth_node_list = []\n",
    "        # 深さ\n",
    "        self.depth = 2\n",
    "    def fit(self, X, y):\n",
    "        \"\"\"\n",
    "        決定木分類器を学習する\n",
    "        Parameters\n",
    "        ----------\n",
    "        X : 次の形のndarray, shape (n_samples, n_features)\n",
    "            学習用データの特徴量\n",
    "        y : 次の形のndarray, shape (n_samples, )\n",
    "            学習用データの正解値\n",
    "        \"\"\"\n",
    "        #rootの不純度の計算\n",
    "        root_gini = gain_gini(y)\n",
    "        \n",
    "        # 最大利得の初期化\n",
    "        ig_max = 0\n",
    "        \n",
    "        # 最も不純度が低下する組み合わせを網羅的に探索\n",
    "        # 分岐に使用するX初期値をリストとして追加（深さ、ノードの入れ子構造）\n",
    "        self.depth_node_list.append(X)\n",
    "        \n",
    "        # 深さの数だけ繰り返す\n",
    "        for depth in range(self.depth):\n",
    "            # ノード毎の次ノードの記録リストを初期化\n",
    "            next_node_list = []\n",
    "            next_class_list = []\n",
    "            next_X_set_list = []\n",
    "            next_col_list = []\n",
    "            \n",
    "            # 次の繰り返しのためにノードの数を取得（depth０で分岐）\n",
    "            if depth==0:\n",
    "                node_len = len(self.depth_node_list)\n",
    "            else:\n",
    "                node_len = len(self.depth_node_list[depth])\n",
    "                    \n",
    "            # 各層のノードの数だけ繰り返し\n",
    "            for node_num in range(node_len):\n",
    "                # この時に注目するnode_Xを取得（depth０で分岐）\n",
    "                if depth==0:\n",
    "                    node_X = self.depth_node_list[depth]\n",
    "                else:\n",
    "                    node_X = self.depth_node_list[depth][node_num]\n",
    "                     \n",
    "                # 特徴量毎に繰り返す\n",
    "                for j in range(node_X.shape[1]): \n",
    "                    # Xの固有値リストを取得（setでソート済み）\n",
    "                    X_set = list(set(node_X[:, j]))\n",
    "\n",
    "                    # 「Xの固有値の数−１」for\n",
    "                    for i in range(len(X_set)-1):\n",
    "                        # Xの固有値を元に分割\n",
    "                        # 各node保持\n",
    "                        self.y_left = y[np.where(node_X[:, j]<=X_set[i])]\n",
    "                        self.y_right = y[np.where(node_X[:, j]>X_set[i])]\n",
    "\n",
    "                        # 不純度の計算\n",
    "                        left_gini = gain_gini(self.y_left)\n",
    "                        right_gini = gain_gini(self.y_right)\n",
    "\n",
    "                        # 利得の計算\n",
    "                        root_len = len(y)\n",
    "                        ig = gain_ig(self, root_gini, left_gini, right_gini, root_len)\n",
    "\n",
    "                        # 利得が最大となる組み合わせの保持\n",
    "                        if ig > ig_max:\n",
    "                            ig_max = ig\n",
    "                            best_class_left = np.unique(self.y_left,\n",
    "                                                        return_counts=True)[1].argmax()\n",
    "                            if best_class_left==0:\n",
    "                                best_class_right = 1\n",
    "                            else:\n",
    "                                best_class_right = 0\n",
    "                            best_X_set = X_set[i]\n",
    "                            best_col = j\n",
    "\n",
    "                            # 深さぶん繰り返すため次ノードを取得\n",
    "                            best_X_left = node_X[np.where(node_X[:, j]<=X_set[i])]\n",
    "                            best_X_right = node_X[np.where(node_X[:, j]>X_set[i])]\n",
    "                \n",
    "                # ノード毎の次ノードの記録、保持\n",
    "                next_node_list.append(best_X_left)\n",
    "                next_node_list.append(best_X_right)\n",
    "                \n",
    "                # best_class、best_colも同様に記録、保持\n",
    "                next_class_list.append(best_class_left)\n",
    "                next_class_list.append(best_class_right)\n",
    "                next_X_set_list.append(best_X_set)\n",
    "                next_col_list.append(best_col)\n",
    "                \n",
    "            # 深さ毎のノードリストとして次ノードを記録、保持\n",
    "            self.depth_node_list.append(next_node_list)\n",
    "            \n",
    "            # best_class、best_colも同様に記録、保持\n",
    "            self.best_class.append(next_class_list)\n",
    "            self.best_X_set.append(next_X_set_list)\n",
    "            self.best_col.append(next_col_list)\n",
    "\n",
    "        if self.verbose:\n",
    "            #verboseをTrueにした際は学習過程を出力\n",
    "            print()\n",
    "            \n",
    "        \n",
    "    def predict(self, X):\n",
    "        \"\"\"\n",
    "        決定木分類器を使いラベルを推定する\n",
    "        \"\"\"\n",
    "        # y_predの初期化、pandas！！\n",
    "        # y_pred = pd.DataFrame(X.shape[0])\n",
    "        blank = [0 for i in range(X.shape[0])]\n",
    "        y_pred = pd.DataFrame(blank)\n",
    "        \n",
    "        # y_pred更新した後のインデックス用リスト\n",
    "        y_index_list = []\n",
    "        y_index_list.append(y_pred.index.values)\n",
    "              \n",
    "        # 深さの数だけ繰り返す        \n",
    "        for depth in range(self.depth):\n",
    "            # 各層のノードの数だけ繰り返し\n",
    "            if depth==0:\n",
    "                    node_len = 1\n",
    "            else:\n",
    "                node_len = len(self.depth_node_list[depth])\n",
    "            \n",
    "            for node_num in range(node_len):\n",
    "                # 閾値となるXの特徴量の列番号\n",
    "                col = self.best_col[depth][node_num]\n",
    "                # 閾値\n",
    "                best_X_set = self.best_X_set[depth][node_num]\n",
    "                # 分離対象のy_predのインデックス\n",
    "                if depth==0:\n",
    "                    y_index_target = y_index_list[0]\n",
    "                else:\n",
    "                    y_index_target = y_index_list[depth][node_num]\n",
    "                \n",
    "                # 分離条件で分けられたインデックス（行番号はy_predのインデックス）\n",
    "                left_index = np.where(X[y_index_target, col]<=best_X_set)\n",
    "                right_index = np.where(X[y_index_target, col]>best_X_set)\n",
    "                # 分離後のクラス\n",
    "                left_class = self.best_class[depth][2*node_num]\n",
    "                right_class = self.best_class[depth][2*node_num+1]\n",
    "                           \n",
    "                # 分離\n",
    "                y_pred.iloc[left_index] = left_class\n",
    "                y_pred.iloc[right_index] = right_class\n",
    "                \n",
    "                # 分離後のインデックス取得\n",
    "                y_index = []\n",
    "                y_index.append(*left_index)\n",
    "                y_index.append(*right_index)\n",
    "\n",
    "            y_index_list.append(y_index)\n",
    "                \n",
    "        return y_pred.values.ravel()"
   ]
  },
  {
   "cell_type": "code",
   "execution_count": 18,
   "metadata": {
    "scrolled": false
   },
   "outputs": [
    {
     "data": {
      "text/plain": [
       "array([0, 0, 1, 0, 1, 1, 0, 1, 1, 0, 1, 0, 0, 1, 1, 1, 1, 0, 1, 1, 1, 0,\n",
       "       0, 1, 1, 0, 0, 0, 1, 1, 1, 1, 0, 0, 0, 0, 0, 1, 1, 1])"
      ]
     },
     "execution_count": 18,
     "metadata": {},
     "output_type": "execute_result"
    }
   ],
   "source": [
    "# 学習\n",
    "sdt2 = ScratchDecesionTreeClassifierDepth2()\n",
    "sdt2.fit(X2, y2)\n",
    "y_pred2_2 = sdt2.predict(X2)\n",
    "y_pred2_2"
   ]
  },
  {
   "cell_type": "code",
   "execution_count": 19,
   "metadata": {},
   "outputs": [
    {
     "name": "stdout",
     "output_type": "stream",
     "text": [
      "正解率： 0.45\n",
      "適合率： 0.45454545454545453\n",
      "再現率： 0.5\n",
      "F値： 0.47619047619047616\n",
      "混同行列\n",
      " [[ 8 12]\n",
      " [10 10]]\n"
     ]
    }
   ],
   "source": [
    "# 正解率\n",
    "print(\"正解率：\", accuracy_score(y2, y_pred2_2))\n",
    "# 適合率\n",
    "print(\"適合率：\", precision_score(y2, y_pred2_2))\n",
    "# Recall（再現率）\n",
    "print(\"再現率：\", recall_score(y2, y_pred2_2))\n",
    "# F値\n",
    "print(\"F値：\", f1_score(y2, y_pred2_2))\n",
    "# 混同行列\n",
    "print(\"混同行列\\n\", confusion_matrix(y2, y_pred2_2))"
   ]
  },
  {
   "cell_type": "code",
   "execution_count": 20,
   "metadata": {},
   "outputs": [
    {
     "data": {
      "image/png": "[encoded data removed]",
      "text/plain": [
       "<Figure size 432x288 with 1 Axes>"
      ]
     },
     "metadata": {
      "needs_background": "light"
     },
     "output_type": "display_data"
    }
   ],
   "source": [
    "# グラフ化\n",
    "decision_region(X2, y2, sdt2, target_names=[\"0\", \"1\", \"2\"])"
   ]
  },
  {
   "cell_type": "code",
   "execution_count": null,
   "metadata": {},
   "outputs": [],
   "source": []
  }
 ],
 "metadata": {
  "kernelspec": {
   "display_name": "Python 3",
   "language": "python",
   "name": "python3"
  },
  "language_info": {
   "codemirror_mode": {
    "name": "ipython",
    "version": 3
   },
   "file_extension": ".py",
   "mimetype": "text/x-python",
   "name": "python",
   "nbconvert_exporter": "python",
   "pygments_lexer": "ipython3",
   "version": "3.7.3"
  }
 },
 "nbformat": 4,
 "nbformat_minor": 2
}
