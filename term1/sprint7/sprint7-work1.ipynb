{
 "cells": [
  {
   "cell_type": "markdown",
   "metadata": {},
   "source": [
    "# sprint アンサンブル学習"
   ]
  },
  {
   "cell_type": "markdown",
   "metadata": {},
   "source": [
    "# 小さなデータセットの用意\n",
    "以前も利用した回帰のデータセットを用意します。\n",
    "\n",
    "\n",
    "House Prices: Advanced Regression Techniques\n",
    "\n",
    "\n",
    "この中のtrain.csvをダウンロードし、目的変数としてSalePrice、説明変数として、GrLivAreaとYearBuiltを使います。\n",
    "\n",
    "\n",
    "train.csvを学習用（train）8割、検証用（val）2割に分割してください。"
   ]
  },
  {
   "cell_type": "code",
   "execution_count": 253,
   "metadata": {},
   "outputs": [],
   "source": [
    "import matplotlib.pyplot as plt\n",
    "%matplotlib inline\n",
    "import numpy as np\n",
    "import pandas as pd\n",
    "import seaborn as sns\n",
    "from sklearn.model_selection import train_test_split\n",
    "from sklearn.preprocessing import StandardScaler\n",
    "from sklearn.linear_model import LinearRegression\n",
    "from sklearn.svm import SVR\n",
    "from sklearn.tree import DecisionTreeRegressor\n",
    "from sklearn.metrics import mean_squared_error\n",
    "import random"
   ]
  },
  {
   "cell_type": "code",
   "execution_count": 254,
   "metadata": {
    "scrolled": false
   },
   "outputs": [
    {
     "data": {
      "text/html": [
       "<div>\n",
       "<style scoped>\n",
       "    .dataframe tbody tr th:only-of-type {\n",
       "        vertical-align: middle;\n",
       "    }\n",
       "\n",
       "    .dataframe tbody tr th {\n",
       "        vertical-align: top;\n",
       "    }\n",
       "\n",
       "    .dataframe thead th {\n",
       "        text-align: right;\n",
       "    }\n",
       "</style>\n",
       "<table border=\"1\" class=\"dataframe\">\n",
       "  <thead>\n",
       "    <tr style=\"text-align: right;\">\n",
       "      <th></th>\n",
       "      <th>YearBuilt</th>\n",
       "      <th>GrLivArea</th>\n",
       "      <th>SalePrice</th>\n",
       "    </tr>\n",
       "  </thead>\n",
       "  <tbody>\n",
       "    <tr>\n",
       "      <th>0</th>\n",
       "      <td>2003</td>\n",
       "      <td>1710</td>\n",
       "      <td>208500</td>\n",
       "    </tr>\n",
       "    <tr>\n",
       "      <th>1</th>\n",
       "      <td>1976</td>\n",
       "      <td>1262</td>\n",
       "      <td>181500</td>\n",
       "    </tr>\n",
       "    <tr>\n",
       "      <th>2</th>\n",
       "      <td>2001</td>\n",
       "      <td>1786</td>\n",
       "      <td>223500</td>\n",
       "    </tr>\n",
       "    <tr>\n",
       "      <th>3</th>\n",
       "      <td>1915</td>\n",
       "      <td>1717</td>\n",
       "      <td>140000</td>\n",
       "    </tr>\n",
       "    <tr>\n",
       "      <th>4</th>\n",
       "      <td>2000</td>\n",
       "      <td>2198</td>\n",
       "      <td>250000</td>\n",
       "    </tr>\n",
       "  </tbody>\n",
       "</table>\n",
       "</div>"
      ],
      "text/plain": [
       "   YearBuilt  GrLivArea  SalePrice\n",
       "0       2003       1710     208500\n",
       "1       1976       1262     181500\n",
       "2       2001       1786     223500\n",
       "3       1915       1717     140000\n",
       "4       2000       2198     250000"
      ]
     },
     "execution_count": 254,
     "metadata": {},
     "output_type": "execute_result"
    }
   ],
   "source": [
    "df = pd.read_csv(\"../example_input/house_prices/train.csv\",\n",
    "                 usecols=[\"GrLivArea\", \"YearBuilt\", \"SalePrice\"])\n",
    "df.head()"
   ]
  },
  {
   "cell_type": "code",
   "execution_count": 316,
   "metadata": {},
   "outputs": [],
   "source": [
    "# 対数変換\n",
    "df = np.log(df)\n",
    "\n",
    "# 分割\n",
    "X = df[[\"YearBuilt\", \"GrLivArea\"]]\n",
    "y = df[[\"SalePrice\"]]\n",
    "# ndarray変換\n",
    "X_array = X.values\n",
    "y_array = y.values\n",
    "# 分割、シャフルTrue\n",
    "X_train, X_valid, y_train, y_valid = train_test_split(\n",
    "    X_array, y_array, test_size=0.2, random_state=0, shuffle=True)\n",
    "\n",
    "# 各特徴量の標準化\n",
    "# X、yを分けてインスタンス化\n",
    "scaler_X = StandardScaler()\n",
    "scaler_y = StandardScaler()\n",
    "X_train = scaler_X.fit_transform(X_train)\n",
    "X_valid = scaler_X.transform(X_valid)\n",
    "y_train = scaler_y.fit_transform(y_train).ravel()\n",
    "y_valid = scaler_y.transform(y_valid).ravel()\n",
    "\n",
    "# y_train = y_train.ravel()\n",
    "# y_valid = y_valid.ravel()"
   ]
  },
  {
   "cell_type": "markdown",
   "metadata": {},
   "source": [
    "## 単体での結果"
   ]
  },
  {
   "cell_type": "code",
   "execution_count": 317,
   "metadata": {},
   "outputs": [
    {
     "name": "stdout",
     "output_type": "stream",
     "text": [
      "MSE : LinearRegression\n",
      "2.8e-01\n"
     ]
    }
   ],
   "source": [
    "# LinearRegression\n",
    "reg_b = LinearRegression().fit(X_train, y_train)\n",
    "pred_reg_b = reg_b.predict(X_valid)\n",
    "print(\"MSE : LinearRegression\")\n",
    "print('{:.1e}'.format(mean_squared_error(y_valid, pred_reg_b)))  "
   ]
  },
  {
   "cell_type": "code",
   "execution_count": 318,
   "metadata": {
    "scrolled": true
   },
   "outputs": [
    {
     "name": "stdout",
     "output_type": "stream",
     "text": [
      "MSE : SVR\n",
      "2.3e-01\n"
     ]
    }
   ],
   "source": [
    "# SVR\n",
    "svr_b = SVR().fit(X_train, y_train)\n",
    "pred_svr_b = svr_b.predict(X_valid)\n",
    "print(\"MSE : SVR\")\n",
    "print('{:.1e}'.format(mean_squared_error(y_valid, pred_svr_b)))  "
   ]
  },
  {
   "cell_type": "code",
   "execution_count": 319,
   "metadata": {},
   "outputs": [
    {
     "name": "stdout",
     "output_type": "stream",
     "text": [
      "MSE : DecisionTreeRegressor\n",
      "4.7e-01\n"
     ]
    }
   ],
   "source": [
    "# DecisionTreeRegressor\n",
    "dt_b = DecisionTreeRegressor().fit(X_train, y_train)\n",
    "pred_dt_b = dt_b.predict(X_valid)\n",
    "print(\"MSE : DecisionTreeRegressor\")\n",
    "print('{:.1e}'.format(mean_squared_error(y_valid, pred_dt_b))) "
   ]
  },
  {
   "cell_type": "markdown",
   "metadata": {},
   "source": [
    "# 【問題1】ブレンディングのスクラッチ実装\n",
    "ブレンディング をスクラッチ実装し、単一モデルより精度があがる例を 最低3つ 示してください。精度があがるとは、検証用データに対する平均二乗誤差（MSE）が小さくなることを指します。"
   ]
  },
  {
   "cell_type": "code",
   "execution_count": 320,
   "metadata": {
    "scrolled": false
   },
   "outputs": [
    {
     "name": "stdout",
     "output_type": "stream",
     "text": [
      "MSE\n",
      "LinearRegression + SVR : \n",
      "2.5e-01\n",
      "\n",
      "LinearRegression + DecisionTreeRegressor : \n",
      "3.0e-01\n",
      "\n",
      "SVR + DecisionTreeRegressor : \n",
      "3.2e-01\n"
     ]
    }
   ],
   "source": [
    "# ブレンディング（平均）\n",
    "\n",
    "# LinearRegression + SVR\n",
    "pred_reg_svr = (pred_reg_b + pred_svr_b)/2\n",
    "# LinearRegression + DecisionTreeRegressor\n",
    "pred_reg_dt = (pred_reg_b + pred_dt_b)/2\n",
    "# SVR + DecisionTreeRegressor\n",
    "pred_svr_dt = (pred_svr_b + pred_dt_b)/3\n",
    "\n",
    "print(\"MSE\")\n",
    "print(\"LinearRegression + SVR : \")\n",
    "print('{:.1e}\\n'.format(mean_squared_error(y_valid, pred_reg_svr))) \n",
    "print(\"LinearRegression + DecisionTreeRegressor : \")\n",
    "print('{:.1e}\\n'.format(mean_squared_error(y_valid, pred_reg_dt))) \n",
    "print(\"SVR + DecisionTreeRegressor : \")\n",
    "print('{:.1e}'.format(mean_squared_error(y_valid, pred_svr_dt))) "
   ]
  },
  {
   "cell_type": "markdown",
   "metadata": {},
   "source": [
    "# 【問題2】バギングのスクラッチ実装\n",
    "バギング をスクラッチ実装し、単一モデルより精度があがる例を 最低1つ 示してください。"
   ]
  },
  {
   "cell_type": "code",
   "execution_count": 321,
   "metadata": {},
   "outputs": [
    {
     "data": {
      "text/plain": [
       "1168"
      ]
     },
     "execution_count": 321,
     "metadata": {},
     "output_type": "execute_result"
    }
   ],
   "source": [
    "# サンプル数を確認\n",
    "X_train.shape[0]"
   ]
  },
  {
   "cell_type": "code",
   "execution_count": 323,
   "metadata": {},
   "outputs": [
    {
     "name": "stdout",
     "output_type": "stream",
     "text": [
      "MSE : DecisionTreeRegressor / bagging\n",
      "2.9e-01\n"
     ]
    }
   ],
   "source": [
    "# サンプルのインデックスから重複ありでランダムサンプリング　500個\n",
    "index_list = [i for i in range(X_train.shape[0])]\n",
    "\n",
    "# 予測値の初期化\n",
    "pred = 0\n",
    "# 繰り返し回数10回\n",
    "for n in range(10):\n",
    "    index = random.choices(index_list, k=500)\n",
    "    # DecisionTreeRegressor\n",
    "    dt = DecisionTreeRegressor().fit(X_train[index], y_train[index])\n",
    "    pred_dt = dt.predict(X_valid)\n",
    "    # 合算\n",
    "    pred += pred_dt\n",
    "\n",
    "# 平均を出力\n",
    "print(\"MSE : DecisionTreeRegressor / bagging\")\n",
    "print('{:.1e}'.format(mean_squared_error(y_valid, pred/10))) "
   ]
  },
  {
   "cell_type": "markdown",
   "metadata": {},
   "source": [
    "# 【問題3】スタッキングのスクラッチ実装\n",
    "スタッキング をスクラッチ実装し、単一モデルより精度があがる例を 最低1つ 示してください。"
   ]
  },
  {
   "cell_type": "code",
   "execution_count": 448,
   "metadata": {
    "scrolled": true
   },
   "outputs": [
    {
     "name": "stdout",
     "output_type": "stream",
     "text": [
      "(1168, 3)\n"
     ]
    },
    {
     "name": "stderr",
     "output_type": "stream",
     "text": [
      "/Users/user/anaconda3/lib/python3.7/site-packages/sklearn/svm/base.py:193: FutureWarning: The default value of gamma will change from 'auto' to 'scale' in version 0.22 to account better for unscaled features. Set gamma explicitly to 'auto' or 'scale' to avoid this warning.\n",
      "  \"avoid this warning.\", FutureWarning)\n",
      "/Users/user/anaconda3/lib/python3.7/site-packages/sklearn/svm/base.py:193: FutureWarning: The default value of gamma will change from 'auto' to 'scale' in version 0.22 to account better for unscaled features. Set gamma explicitly to 'auto' or 'scale' to avoid this warning.\n",
      "  \"avoid this warning.\", FutureWarning)\n",
      "/Users/user/anaconda3/lib/python3.7/site-packages/sklearn/svm/base.py:193: FutureWarning: The default value of gamma will change from 'auto' to 'scale' in version 0.22 to account better for unscaled features. Set gamma explicitly to 'auto' or 'scale' to avoid this warning.\n",
      "  \"avoid this warning.\", FutureWarning)\n",
      "/Users/user/anaconda3/lib/python3.7/site-packages/sklearn/svm/base.py:193: FutureWarning: The default value of gamma will change from 'auto' to 'scale' in version 0.22 to account better for unscaled features. Set gamma explicitly to 'auto' or 'scale' to avoid this warning.\n",
      "  \"avoid this warning.\", FutureWarning)\n"
     ]
    }
   ],
   "source": [
    "# クロスバリデーション 学習\n",
    "# K-foldごとスクラッチ\n",
    "\n",
    "# 分割数\n",
    "N = 4\n",
    "# 分割後のサンプル数\n",
    "num = X_train.shape[0]//N\n",
    "\n",
    "# 学習モデルのリスト\n",
    "model_list = [LinearRegression, SVR, DecisionTreeRegressor]\n",
    "# 学習済みモデルの取得用リスト\n",
    "model_para= []\n",
    "model_para_all = []\n",
    "# ブレンドデータを格納する空データ\n",
    "blend_data = np.zeros([y_train.shape[0], 3])\n",
    "\n",
    "for i, model in enumerate(model_list):\n",
    "    # モデル毎リストの初期化\n",
    "    model_para = []\n",
    "    for n in range(N):\n",
    "        # train_test_splitでシャッフルしてるから、ここでのシャッフル無し\n",
    "        # 分割後のインデックスを取得\n",
    "        index_valid = [a for a in range(num*n, num*(n+1))]\n",
    "        index_train = [i for i in index_list if i not in index_valid]\n",
    "        # 学習\n",
    "        model_reg = model().fit(X_train[index_train], y_train[index_train])\n",
    "        # 予測\n",
    "        blend_data[index_valid, i] = model_reg.predict(X_train[index_valid])\n",
    "        # モデルの取得\n",
    "        model_para.append(model_reg)\n",
    "    model_para_all.append(model_para)\n",
    "\n",
    "print(blend_data.shape)"
   ]
  },
  {
   "cell_type": "code",
   "execution_count": 449,
   "metadata": {},
   "outputs": [],
   "source": [
    "# ブレンドデータに対する学習\n",
    "svr_st = SVR(C=1.0, epsilon=0.2, kernel=\"linear\").fit(blend_data, y_train)"
   ]
  },
  {
   "cell_type": "code",
   "execution_count": 450,
   "metadata": {},
   "outputs": [],
   "source": [
    "# クロスバリデーション 予測\n",
    "\n",
    "# 予測値の初期化\n",
    "blend_pred = np.zeros([y_valid.shape[0], 3], dtype=np.float)\n",
    "# 予測\n",
    "for n, models in enumerate(model_para_all):\n",
    "    # モデル毎の予測値の初期化\n",
    "    pred = np.zeros_like(y_valid)\n",
    "    for model in models:\n",
    "        pred = pred +  model.predict(X_valid)\n",
    "    blend_pred[:, n] = pred/3"
   ]
  },
  {
   "cell_type": "code",
   "execution_count": 451,
   "metadata": {},
   "outputs": [
    {
     "name": "stdout",
     "output_type": "stream",
     "text": [
      "MSE : stacking\n",
      "2.9e-01\n"
     ]
    }
   ],
   "source": [
    "# ブレンドデータに対する予測\n",
    "print(\"MSE : stacking\")\n",
    "print('{:.1e}'.format(mean_squared_error(y_valid, svr_st.predict(blend_pred))))  "
   ]
  },
  {
   "cell_type": "markdown",
   "metadata": {},
   "source": [
    "* スタッキングしてもあまり良くならない  \n",
    "→決定木の深さを決めずに実行しているからか学習してる？"
   ]
  },
  {
   "cell_type": "code",
   "execution_count": null,
   "metadata": {},
   "outputs": [],
   "source": []
  }
 ],
 "metadata": {
  "kernelspec": {
   "display_name": "Python 3",
   "language": "python",
   "name": "python3"
  },
  "language_info": {
   "codemirror_mode": {
    "name": "ipython",
    "version": 3
   },
   "file_extension": ".py",
   "mimetype": "text/x-python",
   "name": "python",
   "nbconvert_exporter": "python",
   "pygments_lexer": "ipython3",
   "version": "3.7.6"
  }
 },
 "nbformat": 4,
 "nbformat_minor": 2
}
