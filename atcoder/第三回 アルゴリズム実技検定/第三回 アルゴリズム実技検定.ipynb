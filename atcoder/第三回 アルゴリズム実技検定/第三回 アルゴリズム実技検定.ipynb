{
 "cells": [
  {
   "cell_type": "markdown",
   "metadata": {},
   "source": [
    "# 第三回 アルゴリズム実技検定"
   ]
  },
  {
   "cell_type": "markdown",
   "metadata": {},
   "source": [
    "## A - ケース・センシティブ"
   ]
  },
  {
   "cell_type": "code",
   "execution_count": 8,
   "metadata": {},
   "outputs": [
    {
     "name": "stdout",
     "output_type": "stream",
     "text": [
      "aDs\n",
      "kjH\n",
      "different\n"
     ]
    }
   ],
   "source": [
    "s = input()\n",
    "t = input()\n",
    "\n",
    "if s == t:\n",
    "    print(\"same\")\n",
    "elif s.lower() == t.lower():\n",
    "    print(\"case-insensitive\")\n",
    "else:\n",
    "    print(\"different\")"
   ]
  },
  {
   "cell_type": "markdown",
   "metadata": {},
   "source": [
    "## B - ダイナミック・スコアリング / "
   ]
  },
  {
   "cell_type": "code",
   "execution_count": 147,
   "metadata": {
    "scrolled": false
   },
   "outputs": [
    {
     "name": "stdout",
     "output_type": "stream",
     "text": [
      "2 1 6\n",
      "2 1 1\n",
      "1 1\n",
      "1\n",
      "1 2\n",
      "0\n",
      "2 2 1\n",
      "1 1\n",
      "0\n",
      "1 2\n",
      "0\n"
     ]
    }
   ],
   "source": [
    "# 各問題に対し 「for 人」→人数は10^5以下なので計算コスト高い！！\n",
    "\n",
    "N, M, Q = list(map(int, input().split()))\n",
    "ans = [0]*N\n",
    "score = [N]*M\n",
    "# ans_num = [[]]*M\n",
    "ans_num = [[] for _ in range(M)]\n",
    "\n",
    "for n in range(Q):\n",
    "    s_list = list(map(int, input().split()))\n",
    "    \n",
    "    if s_list[0]==1:\n",
    "        ans_index = s_list[1] - 1\n",
    "        print(ans[ans_index])\n",
    "    \n",
    "    elif s_list[0]==2:\n",
    "        score_index = s_list[2] - 1\n",
    "        ans_index = s_list[1] - 1\n",
    "        \n",
    "#         temp = ans_num[score_index].copy()\n",
    "#         temp.append(ans_index)\n",
    "#         ans_num[score_index] = temp.copy()\n",
    "        \n",
    "        ans_num[score_index].append(ans_index)\n",
    "        \n",
    "        score[score_index] -= 1\n",
    "        for num in ans_num[score_index]:\n",
    "            if ans_index==num:\n",
    "                ans[num] += score[score_index]\n",
    "            else:\n",
    "                ans[num] -= 1"
   ]
  },
  {
   "cell_type": "code",
   "execution_count": 149,
   "metadata": {},
   "outputs": [
    {
     "name": "stdout",
     "output_type": "stream",
     "text": [
      "2 1 6\n",
      "2 1 1\n",
      "1 1\n",
      "1\n",
      "1 2\n",
      "0\n",
      "2 2 1\n",
      "1 1\n",
      "0\n",
      "1 2\n",
      "0\n"
     ]
    }
   ],
   "source": [
    "# 「for 問題」\n",
    "\n",
    "N, M, Q = list(map(int, input().split()))\n",
    "# ans = [0]*N\n",
    "score = [N]*M\n",
    "# ans_num = [[]]*M\n",
    "ans_num = [[] for _ in range(N)]    # 問題✖️人→人✖️問題\n",
    "\n",
    "for n in range(Q):\n",
    "    s_list = list(map(int, input().split()))\n",
    "    \n",
    "    if s_list[0]==1:\n",
    "        ans_index = s_list[1] - 1\n",
    "#         print(ans[ans_index])\n",
    "        \n",
    "        _sum = 0\n",
    "        for score_index in ans_num[ans_index]:\n",
    "            _sum += score[score_index]\n",
    "        print(_sum)\n",
    "    \n",
    "    elif s_list[0]==2:\n",
    "        score_index = s_list[2] - 1\n",
    "        ans_index = s_list[1] - 1\n",
    "        \n",
    "#         temp = ans_num[score_index].copy()\n",
    "#         temp.append(ans_index)\n",
    "#         ans_num[score_index] = temp.copy()\n",
    "        \n",
    "        ans_num[ans_index].append(score_index)\n",
    "        \n",
    "        score[score_index] -= 1\n",
    "#         for num in ans_num[score_index]:\n",
    "#             if ans_index==num:\n",
    "#                 ans[num] += score[score_index]\n",
    "#             else:\n",
    "#                 ans[num] -= 1"
   ]
  },
  {
   "cell_type": "code",
   "execution_count": null,
   "metadata": {},
   "outputs": [],
   "source": [
    "# 代表例\n",
    "n, m, q = map(int, input().split())\n",
    "\n",
    "cnt = [0 for _ in range(m)]\n",
    "a = [[] for _ in range(n)]\n",
    "for id in range(q):\n",
    "    query = list(map(int, input().split()))\n",
    "    if query[0] == 1:\n",
    "        query[1] -= 1\n",
    "        ans = 0\n",
    "        for j in a[query[1]]:\n",
    "            ans += n-cnt[j]\n",
    "        print(ans)\n",
    "    else:\n",
    "        query[1] -= 1\n",
    "        query[2] -= 1\n",
    "        cnt[query[2]] += 1\n",
    "        a[query[1]].append(query[2])\n",
    "        \n",
    "        print(a, query)"
   ]
  },
  {
   "cell_type": "markdown",
   "metadata": {},
   "source": [
    "# C - 等比数列"
   ]
  },
  {
   "cell_type": "code",
   "execution_count": 75,
   "metadata": {},
   "outputs": [
    {
     "name": "stdout",
     "output_type": "stream",
     "text": [
      "12 34 5\n",
      "16036032\n"
     ]
    }
   ],
   "source": [
    "A, R, N = list(map(int, input().split()))\n",
    "\n",
    "for n in range(0, N):\n",
    "    if R==1:\n",
    "        print(A)\n",
    "        break\n",
    "    \n",
    "    if n==0:\n",
    "        ans = A\n",
    "    else:\n",
    "        ans *= R\n",
    "        \n",
    "    if ans>10**9:\n",
    "        print(\"large\")\n",
    "        break\n",
    "    \n",
    "    if n==N-1:\n",
    "        print(ans)\n",
    "        \n",
    "\n",
    "# ans = A*(R**(N-1))\n",
    "# if ans>10**9:\n",
    "#     print(\"large\")\n",
    "# else:\n",
    "#     print(ans)\n"
   ]
  },
  {
   "cell_type": "markdown",
   "metadata": {},
   "source": [
    "# D - 電光掲示板"
   ]
  },
  {
   "cell_type": "code",
   "execution_count": 98,
   "metadata": {},
   "outputs": [
    {
     "name": "stdout",
     "output_type": "stream",
     "text": [
      "29\n",
      ".###.###.###.###.###.###.###.###.###.#.#.###.#.#.#.#.#.#.###.###.###.###..#..###.###.###.###.###.#.#.###.###.###.###.\n",
      "...#.#.#...#.#.#.#.#.#...#.#...#.#.#.#.#.#...#.#.#.#.#.#.#.....#.#.#.#.#.##..#.#...#.#.#...#.#...#.#...#.#.....#...#.\n",
      ".###.#.#...#.###.#.#.###.###...#.###.###.###.###.###.###.###...#.###.#.#..#..###...#.###.###.###.###.###.###.###.###.\n",
      ".#...#.#...#...#.#.#.#.#...#...#.#.#...#.#.#...#...#...#.#.#...#...#.#.#..#..#.#...#...#.#...#.#...#.#.....#...#.#...\n",
      ".###.###...#.###.###.###.###...#.###...#.###...#...#...#.###...#.###.###.###.###...#.###.###.###...#.###.###.###.###.\n",
      "20790697846444679018792642532\n"
     ]
    }
   ],
   "source": [
    "N = int(input())\n",
    "s_list = []\n",
    "for n in range(5):\n",
    "    s_list.append(list(input()))\n",
    "\n",
    "ans = []\n",
    "for n in range(1, N+1):\n",
    "    if s_list[1][4*n-2]==\".\" and s_list[2][4*n-2]==\".\" and s_list[1][4*n-3]==\"#\":\n",
    "        ans.append(0)\n",
    "    elif s_list[2][4*n-1]==\".\" and s_list[2][4*n-2]==\"#\" and s_list[2][4*n-3]==\".\":\n",
    "        ans.append(1)\n",
    "    elif s_list[3][4*n-1]==\".\" and s_list[1][4*n-3]==\".\":\n",
    "        ans.append(2)\n",
    "    elif s_list[1][4*n-3]==\".\" and s_list[2][4*n-3]==\"#\" and s_list[3][4*n-3]==\".\":\n",
    "        ans.append(3)\n",
    "    elif s_list[0][4*n-1]==\"#\" and s_list[0][4*n-2]==\".\" and s_list[0][4*n-3]==\"#\":\n",
    "        ans.append(4)\n",
    "    elif s_list[1][4*n-1]==\".\" and s_list[3][4*n-2]==\".\" and s_list[3][4*n-3]==\".\":\n",
    "        ans.append(5)\n",
    "    elif s_list[1][4*n-1]==\".\" and s_list[3][4*n-3]==\"#\":\n",
    "        ans.append(6)\n",
    "    elif s_list[1][4*n-3]==\".\" and s_list[2][4*n-3]==\".\":\n",
    "        ans.append(7)\n",
    "    elif s_list[1][4*n-1]==\"#\" and s_list[1][4*n-3]==\"#\" and s_list[3][4*n-3]==\"#\" and s_list[2][4*n-2]==\"#\":\n",
    "        ans.append(8)\n",
    "    else:\n",
    "        ans.append(9)\n",
    "\n",
    "print(\"\".join(map(str, ans)))"
   ]
  },
  {
   "cell_type": "markdown",
   "metadata": {},
   "source": [
    "# E - スプリンクラー"
   ]
  },
  {
   "cell_type": "code",
   "execution_count": 128,
   "metadata": {},
   "outputs": [
    {
     "name": "stdout",
     "output_type": "stream",
     "text": [
      "30 10 20\n",
      "11 11 13\n"
     ]
    },
    {
     "ename": "ValueError",
     "evalue": "too many values to unpack (expected 2)",
     "output_type": "error",
     "traceback": [
      "\u001b[0;31m---------------------------------------------------------------------------\u001b[0m",
      "\u001b[0;31mValueError\u001b[0m                                Traceback (most recent call last)",
      "\u001b[0;32m<ipython-input-128-72fb0dc59594>\u001b[0m in \u001b[0;36m<module>\u001b[0;34m\u001b[0m\n\u001b[1;32m      4\u001b[0m \u001b[0mm_list\u001b[0m \u001b[0;34m=\u001b[0m \u001b[0;34m[\u001b[0m\u001b[0;34m]\u001b[0m\u001b[0;34m\u001b[0m\u001b[0;34m\u001b[0m\u001b[0m\n\u001b[1;32m      5\u001b[0m \u001b[0;32mfor\u001b[0m \u001b[0mm\u001b[0m \u001b[0;32min\u001b[0m \u001b[0mrange\u001b[0m\u001b[0;34m(\u001b[0m\u001b[0mM\u001b[0m\u001b[0;34m)\u001b[0m\u001b[0;34m:\u001b[0m\u001b[0;34m\u001b[0m\u001b[0;34m\u001b[0m\u001b[0m\n\u001b[0;32m----> 6\u001b[0;31m     \u001b[0mu\u001b[0m\u001b[0;34m,\u001b[0m \u001b[0mv\u001b[0m \u001b[0;34m=\u001b[0m \u001b[0mlist\u001b[0m\u001b[0;34m(\u001b[0m\u001b[0mmap\u001b[0m\u001b[0;34m(\u001b[0m\u001b[0mint\u001b[0m\u001b[0;34m,\u001b[0m \u001b[0minput\u001b[0m\u001b[0;34m(\u001b[0m\u001b[0;34m)\u001b[0m\u001b[0;34m.\u001b[0m\u001b[0msplit\u001b[0m\u001b[0;34m(\u001b[0m\u001b[0;34m)\u001b[0m\u001b[0;34m)\u001b[0m\u001b[0;34m)\u001b[0m\u001b[0;34m\u001b[0m\u001b[0;34m\u001b[0m\u001b[0m\n\u001b[0m\u001b[1;32m      7\u001b[0m     \u001b[0mm_list\u001b[0m\u001b[0;34m.\u001b[0m\u001b[0mappend\u001b[0m\u001b[0;34m(\u001b[0m\u001b[0mu\u001b[0m\u001b[0;34m)\u001b[0m\u001b[0;34m\u001b[0m\u001b[0;34m\u001b[0m\u001b[0m\n\u001b[1;32m      8\u001b[0m     \u001b[0mm_list\u001b[0m\u001b[0;34m.\u001b[0m\u001b[0mappend\u001b[0m\u001b[0;34m(\u001b[0m\u001b[0mv\u001b[0m\u001b[0;34m)\u001b[0m\u001b[0;34m\u001b[0m\u001b[0;34m\u001b[0m\u001b[0m\n",
      "\u001b[0;31mValueError\u001b[0m: too many values to unpack (expected 2)"
     ]
    }
   ],
   "source": [
    "N, M, Q = list(map(int, input().split()))\n",
    "\n",
    "# m_list = [[v for v in list(map(int, input().split()))] for _ in range(M)]\n",
    "m_list = []\n",
    "for m in range(M):\n",
    "    u, v = list(map(int, input().split()))\n",
    "    m_list.append(u)\n",
    "    m_list.append(v)\n",
    "    \n",
    "n_c = list(map(int, input().split()))\n",
    "\n",
    "for n in range(Q):\n",
    "    act = list(map(int, input().split()))\n",
    "    n_index = act[1]\n",
    "    print(n_c[n_index-1])\n",
    "    \n",
    "    if act[0]==1:\n",
    "#         m_index = m_list.index(n_index)\n",
    "        m_index_list = [i for i, x in enumerate(m_list) if x == n_index]\n",
    "        for m_index in m_index_list:\n",
    "            if m_index%2==0:\n",
    "                n_ano_index = m_list[m_index+1]\n",
    "            else:\n",
    "                n_ano_index = m_list[m_index-1]\n",
    "            n_c[n_ano_index-1] = n_c[n_index-1]\n",
    "    \n",
    "    else:\n",
    "        n_c[n_index-1] = act[2]"
   ]
  },
  {
   "cell_type": "markdown",
   "metadata": {},
   "source": [
    "# F - 回文行列"
   ]
  },
  {
   "cell_type": "code",
   "execution_count": null,
   "metadata": {},
   "outputs": [],
   "source": []
  }
 ],
 "metadata": {
  "kernelspec": {
   "display_name": "Python 3",
   "language": "python",
   "name": "python3"
  },
  "language_info": {
   "codemirror_mode": {
    "name": "ipython",
    "version": 3
   },
   "file_extension": ".py",
   "mimetype": "text/x-python",
   "name": "python",
   "nbconvert_exporter": "python",
   "pygments_lexer": "ipython3",
   "version": "3.7.3"
  }
 },
 "nbformat": 4,
 "nbformat_minor": 2
}
