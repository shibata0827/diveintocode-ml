{
 "cells": [
  {
   "cell_type": "markdown",
   "metadata": {},
   "source": [
    "# A - Study Scheduling"
   ]
  },
  {
   "cell_type": "code",
   "execution_count": 4,
   "metadata": {},
   "outputs": [
    {
     "name": "stdout",
     "output_type": "stream",
     "text": [
      "10 0 15 0 30\n",
      "-270\n"
     ]
    }
   ],
   "source": [
    "h1, m1, h2, m2, k = list(map(int, input().split()))\n",
    "\n",
    "h = h2 - h1\n",
    "m = m2 - m1\n",
    "delta = m + h*60\n",
    "ans = delta - k\n",
    "print(ans)"
   ]
  },
  {
   "cell_type": "markdown",
   "metadata": {},
   "source": [
    "# B - Postdocs"
   ]
  },
  {
   "cell_type": "code",
   "execution_count": 22,
   "metadata": {
    "scrolled": true
   },
   "outputs": [
    {
     "name": "stdout",
     "output_type": "stream",
     "text": [
      "PD?D??P\n",
      "PDPDPDP\n"
     ]
    }
   ],
   "source": [
    "s = list(input())\n",
    "\n",
    "if s[-1] == \"?\":\n",
    "    s[-1] = \"D\"\n",
    "    \n",
    "for n in range(len(s)-1):\n",
    "    if s[n] == \"?\":\n",
    "        if s[n-1]==\"P\" and n!=0:\n",
    "            s[n] = \"D\"\n",
    "        elif s[n+1]==\"D\" or s[n+1]==\"?\":\n",
    "            s[n] = \"P\"\n",
    "        else:\n",
    "            s[n] = \"D\"\n",
    "print(\"\".join(s))"
   ]
  },
  {
   "cell_type": "code",
   "execution_count": 79,
   "metadata": {},
   "outputs": [
    {
     "data": {
      "text/plain": [
       "[1, '', '', '', '', '', '', '', '', '']"
      ]
     },
     "execution_count": 79,
     "metadata": {},
     "output_type": "execute_result"
    }
   ],
   "source": [
    "A = [\"\"]*10\n",
    "A[0] = 1\n",
    "A"
   ]
  },
  {
   "cell_type": "markdown",
   "metadata": {},
   "source": [
    "# C - Folia"
   ]
  },
  {
   "cell_type": "code",
   "execution_count": 13,
   "metadata": {},
   "outputs": [
    {
     "name": "stdout",
     "output_type": "stream",
     "text": [
      "10\n",
      "0 0 1 1 2 3 5 8 13 21 34\n",
      "264\n"
     ]
    }
   ],
   "source": [
    "N = int(input())\n",
    "a_list = [int(a) for a in input().split()]\n",
    "\n",
    "if a_list[0] > 1:\n",
    "    print(-1)\n",
    "    exit()\n",
    "\n",
    "ans = 1\n",
    "temp1 = [\"\"]*(N+1)\n",
    "temp1[-1] = a_list[-1]\n",
    "for n in range(N-1, 0, -1):\n",
    "    temp1[n] = temp1[n+1]+a_list[n]\n",
    "    \n",
    "temp2 = 1\n",
    "for n in range(1, N+1):\n",
    "    temp2 = (temp2-a_list[n-1])*2\n",
    "#     print(temp2, temp1[n])\n",
    "    ans_temp = min(temp2, temp1[n])\n",
    "    temp2 = min(temp2, temp1[n])\n",
    "    \n",
    "    if ans_temp < a_list[n]:\n",
    "        print(-1)\n",
    "        exit()\n",
    "    \n",
    "    ans += ans_temp\n",
    "    \n",
    "print(ans)"
   ]
  },
  {
   "cell_type": "markdown",
   "metadata": {},
   "source": [
    "front"
   ]
  },
  {
   "cell_type": "code",
   "execution_count": null,
   "metadata": {},
   "outputs": [],
   "source": []
  }
 ],
 "metadata": {
  "kernelspec": {
   "display_name": "Python 3",
   "language": "python",
   "name": "python3"
  },
  "language_info": {
   "codemirror_mode": {
    "name": "ipython",
    "version": 3
   },
   "file_extension": ".py",
   "mimetype": "text/x-python",
   "name": "python",
   "nbconvert_exporter": "python",
   "pygments_lexer": "ipython3",
   "version": "3.7.3"
  }
 },
 "nbformat": 4,
 "nbformat_minor": 2
}
