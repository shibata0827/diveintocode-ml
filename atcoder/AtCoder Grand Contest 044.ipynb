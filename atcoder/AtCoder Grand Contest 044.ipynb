{
 "cells": [
  {
   "cell_type": "markdown",
   "metadata": {},
   "source": [
    "# A - Pay to Win\n",
    "### A枚のコインを支払い、持っている数を 2倍する。\n",
    "### B枚のコインを支払い、持っている数を 3倍する。\n",
    "### C枚のコインを支払い、持っている数を 5倍する。\n",
    "### D枚のコインを支払い、持っている数を 1増やす、または 1減らす。"
   ]
  },
  {
   "cell_type": "code",
   "execution_count": 1,
   "metadata": {},
   "outputs": [
    {
     "name": "stdout",
     "output_type": "stream",
     "text": [
      "5\n",
      "11 1 2 4 8\n",
      "20\n",
      "11 1 2 2 8\n",
      "19\n",
      "32 10 8 5 4\n",
      "26\n",
      "29384293847243 454353412 332423423 934923490 1\n",
      "3821859835\n",
      "900000000000000000 332423423 454353412 934923490 987654321\n",
      "23441258666\n"
     ]
    }
   ],
   "source": [
    "import sys\n",
    "sys.setrecursionlimit(10**8)   # 再帰回数の制限！！\n",
    "T = int(input())\n",
    "for _ in range(T):\n",
    "    N,A,B,C,D = map(int,input().split())\n",
    "    INF = float('inf')\n",
    "    mem = {}    # 過去に計算した際の結果を保存、無意味に計算を増やさない工夫\n",
    "    def solve(n):\n",
    "        if n==0: return 0\n",
    "        if n==1: return D\n",
    "        if n in mem: return mem[n]    # 過去の結果を使って出力\n",
    "        \n",
    "        # A<B<C<Dの順なので、その順番で場合分け\n",
    "        # 割り切れる場合、割り切れるまで減らす場合、割り切れるまで増やす場合\n",
    "        tmp = n*D\n",
    "        if n%2==0:\n",
    "            tmp = min(tmp, solve(n//2) + A)\n",
    "        else:\n",
    "            tmp = min(tmp, solve(n//2) + A+D, solve(n//2+1) + A+D)\n",
    "        if n%3==0:\n",
    "            tmp = min(tmp, solve(n//3) + B)\n",
    "        else:\n",
    "            d = n%3\n",
    "            u = 3-d\n",
    "            tmp = min(tmp, solve(n//3) + B+d*D, solve(n//3+1) + B+u*D)\n",
    "        if n%5==0:\n",
    "            tmp = min(tmp, solve(n//5) + C)\n",
    "        else:\n",
    "            d = n%5\n",
    "            u = 5-d\n",
    "            tmp = min(tmp, solve(n//5) + C+d*D, solve(n//5+1) + C+u*D)\n",
    "        mem[n] = tmp\n",
    "        return tmp\n",
    "    print(solve(N))"
   ]
  },
  {
   "cell_type": "code",
   "execution_count": null,
   "metadata": {},
   "outputs": [
    {
     "name": "stdout",
     "output_type": "stream",
     "text": [
      "5\n",
      "29384293847243 454353412 332423423 934923490 1\n"
     ]
    }
   ],
   "source": [
    "# 時間かかり過ぎ\n",
    "def dist(n):\n",
    "    if n == 0:\n",
    "        return 0\n",
    "    if n == 1:\n",
    "        return D\n",
    "    \n",
    "    ret = min(\n",
    "        D * n,\n",
    "        D * abs(n - n//5*5) + C + dist(n//5),\n",
    "        D * abs(n - (n+4)//5*5) + C + dist((n+4)//5),\n",
    "        D * abs(n - n//3*3) + B + dist(n//3),\n",
    "        D * abs(n - (n+2)//3*3) + B + dist((n+2)//3),\n",
    "        D * abs(n - n//2*2) + A + dist(n//2),\n",
    "        D * abs(n - (n+1)//2*2) + A + dist((n+1)//2)\n",
    "    )\n",
    "\n",
    "    return ret\n",
    "\n",
    "# import sys\n",
    "# sys.setrecursionlimit(10**8)\n",
    "T = int(input())\n",
    "for _ in range(T):\n",
    "    N,A,B,C,D = map(int,input().split())\n",
    "    print(dist(N))\n",
    "    "
   ]
  },
  {
   "cell_type": "markdown",
   "metadata": {},
   "source": [
    "# B - Joker"
   ]
  },
  {
   "cell_type": "code",
   "execution_count": 1,
   "metadata": {},
   "outputs": [
    {
     "name": "stdout",
     "output_type": "stream",
     "text": [
      "pi, 3.141591548, elapsed=3.9707651138305664\n"
     ]
    }
   ],
   "source": [
    "# 並列処理numbaの例\n",
    "import random\n",
    "from numba import jit, prange\n",
    "import time\n",
    "\n",
    "\n",
    "@jit(nopython=True, parallel=True)\n",
    "def calc_pi(NUM):\n",
    "    counter = 0\n",
    "    for i in prange(NUM):\n",
    "        x = random.random()\n",
    "        y = random.random()\n",
    "        if x*x+y*y < 1.0:\n",
    "            counter += 1\n",
    "    pi = 4.0*counter/NUM\n",
    "    return pi\n",
    "\n",
    "\n",
    "def main():\n",
    "    NUM = 1000000000\n",
    "    start = time.time()\n",
    "    pi = calc_pi(NUM)\n",
    "    end = time.time()\n",
    "    print(\"pi, {}, elapsed={}\".format(pi, end-start))\n",
    "\n",
    "if __name__ == '__main__':\n",
    "    main()"
   ]
  },
  {
   "cell_type": "code",
   "execution_count": 2,
   "metadata": {},
   "outputs": [
    {
     "name": "stdout",
     "output_type": "stream",
     "text": [
      "pi, 3.141545936, elapsed=251.83397674560547\n"
     ]
    }
   ],
   "source": [
    "# 並列処理なし\n",
    "def calc_pi(NUM):\n",
    "    counter = 0\n",
    "    for i in range(NUM):\n",
    "        x = random.random()\n",
    "        y = random.random()\n",
    "        if x*x+y*y < 1.0:\n",
    "            counter += 1\n",
    "    pi = 4.0*counter/NUM\n",
    "    return pi\n",
    "\n",
    "\n",
    "def main():\n",
    "    NUM = 1000000000\n",
    "    start = time.time()\n",
    "    pi = calc_pi(NUM)\n",
    "    end = time.time()\n",
    "    print(\"pi, {}, elapsed={}\".format(pi, end-start))\n",
    "\n",
    "if __name__ == '__main__':\n",
    "    main()"
   ]
  },
  {
   "cell_type": "code",
   "execution_count": null,
   "metadata": {},
   "outputs": [],
   "source": [
    "from numba import njit\n",
    "import numpy as np\n",
    "\n",
    "def cc_export():\n",
    "    @njit('(i8, i8, i8[:], i8[:], i8[:], i8)')\n",
    "    def update(n, w, que, there, cost, pos):\n",
    "        que[0] = pos\n",
    "        i, l = 0, 1\n",
    "        while i < l:\n",
    "            pos = que[i]\n",
    "            i += 1\n",
    "            c = cost[pos]\n",
    "            t = there[pos]\n",
    "            k = c + t\n",
    "            for df in (-w, w, -1, 1):\n",
    "                pp = pos + df\n",
    "                if cost[pp] > k:\n",
    "                    cost[pp] = k\n",
    "                    que[l] = pp\n",
    "                    l += 1\n",
    "\n",
    "    @njit('(i8, i8[:])')\n",
    "    def main(n, p):\n",
    "        w = n + 2\n",
    "        que = np.zeros(4 * w * w, dtype=np.int64)\n",
    "        there = np.ones(w * w, dtype=np.int64)\n",
    "        # there = np.array([\n",
    "        #     1 if 1 <= i and i <= n and 1 <= j and j <= n else 0\n",
    "        #     for j in range(w) for i in range(w)\n",
    "        # ],\n",
    "        #                  dtype=np.int64)\n",
    "        cost = np.array([\n",
    "            -1 if i == 0 or i == n + 1 or j == 0 or j == n + 1 else min(\n",
    "                i - 1, n - i, j - 1, n - j) for j in range(w) for i in range(w)\n",
    "        ],\n",
    "                        dtype=np.int64)\n",
    "\n",
    "        ans = 0\n",
    "        for pos in p:\n",
    "            # v = list(map(lambda x: ' ' if x == 0 else '*', list(there)))\n",
    "            # for i in range(w):\n",
    "            #     print(' '.join(v[i * w:(i + 1) * w]))\n",
    "            # print(cost.reshape((w, w)))\n",
    "            # print(\"add\", cost[pos], \"for\", divmod(pos, w))\n",
    "            ans += cost[pos]\n",
    "            there[pos] = 0\n",
    "            update(n, w, que, there, cost, pos)\n",
    "        return ans\n",
    "\n",
    "    from numba.pycc import CC\n",
    "    cc = CC('solution')\n",
    "    cc.export('update', '(i8, i8, i8[:], i8[:], i8[:], i8)')(update)\n",
    "    cc.export('main', '(i8, i8[:])')(main)\n",
    "    cc.compile()\n",
    "\n",
    "\n",
    "if __name__ == '__main__':\n",
    "    import sys\n",
    "    if sys.argv[-1] == 'ONLINE_JUDGE':\n",
    "        cc_export()\n",
    "        sys.exit(0)\n",
    "\n",
    "    def transform(t):\n",
    "        y, x = divmod(int(t) - 1, n)\n",
    "        return (y + 1) * (n + 2) + (x + 1)\n",
    "\n",
    "    from solution import update, main\n",
    "    n = int(input())\n",
    "    p = np.array(list(map(transform, input().split())), dtype=np.int64)\n",
    "    print(main(n, p))"
   ]
  }
 ],
 "metadata": {
  "kernelspec": {
   "display_name": "Python 3",
   "language": "python",
   "name": "python3"
  },
  "language_info": {
   "codemirror_mode": {
    "name": "ipython",
    "version": 3
   },
   "file_extension": ".py",
   "mimetype": "text/x-python",
   "name": "python",
   "nbconvert_exporter": "python",
   "pygments_lexer": "ipython3",
   "version": "3.7.3"
  }
 },
 "nbformat": 4,
 "nbformat_minor": 2
}
