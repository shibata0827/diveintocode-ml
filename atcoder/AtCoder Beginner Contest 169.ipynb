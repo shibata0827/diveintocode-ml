{
 "cells": [
  {
   "cell_type": "markdown",
   "metadata": {},
   "source": [
    "# Multiplication 1"
   ]
  },
  {
   "cell_type": "code",
   "execution_count": 2,
   "metadata": {},
   "outputs": [
    {
     "name": "stdout",
     "output_type": "stream",
     "text": [
      "3\n",
      "0 1 2 \n",
      "0 2 1 \n",
      "1 0 2 \n",
      "1 2 0 \n",
      "2 0 1 \n",
      "2 1 0 \n"
     ]
    }
   ],
   "source": [
    "import itertools\n",
    " \n",
    "n = int(input())\n",
    "lis = [x for x in range(n)] # 0からn-1までのリスト\n",
    " \n",
    "permutations_lis = itertools.permutations(lis)# 全ての場合のリストを生成\n",
    "# 以下出力\n",
    "for one_case in permutations_lis: \n",
    "    for num in one_case:\n",
    "        print(num, end=\" \")\n",
    "    print(\"\")"
   ]
  },
  {
   "cell_type": "markdown",
   "metadata": {},
   "source": [
    "# B - Multiplication 2"
   ]
  },
  {
   "cell_type": "code",
   "execution_count": 50,
   "metadata": {},
   "outputs": [
    {
     "name": "stdout",
     "output_type": "stream",
     "text": [
      "31\n",
      "4 1 5 9 2 6 5 3 5 8 9 7 9 3 2 3 8 4 6 2 6 4 3 3 8 3 2 7 9 5 0\n",
      "0\n"
     ]
    }
   ],
   "source": [
    "import sys\n",
    "\n",
    "N = int(input())\n",
    "A = input().split()\n",
    "\n",
    "if \"0\" in A:\n",
    "    print(0)\n",
    "\n",
    "else:\n",
    "    ans = 1\n",
    "        \n",
    "    for n in range(N):\n",
    "        ans = ans*int(A[n])\n",
    "\n",
    "        if ans>10**18:\n",
    "            print(-1)\n",
    "            sys.exit()\n",
    "            \n",
    "    if ans<=10**18:\n",
    "        print(ans)"
   ]
  },
  {
   "cell_type": "code",
   "execution_count": 92,
   "metadata": {},
   "outputs": [
    {
     "name": "stdout",
     "output_type": "stream",
     "text": [
      "3\n",
      "99999999999999999 999999999999999999 999999999999\n",
      "int64\n",
      "-8548984965158465537\n"
     ]
    }
   ],
   "source": [
    "# np.prod　→　オーバーフローを考慮できない\n",
    "# 一方計算速度は早い\n",
    "\n",
    "import numpy as np\n",
    "import sys\n",
    "\n",
    "N = int(input())\n",
    "A = [int(a) for a in input().split()]\n",
    "# print(A)\n",
    "\n",
    "if 0 in A:\n",
    "    print(0)\n",
    "else:\n",
    "    ans = np.prod(A)\n",
    "    if ans>10**18:\n",
    "        print(-1)\n",
    "        sys.exit()\n",
    "    else:\n",
    "        print(ans)"
   ]
  },
  {
   "cell_type": "markdown",
   "metadata": {},
   "source": [
    "# Multiplication 3"
   ]
  },
  {
   "cell_type": "code",
   "execution_count": 468,
   "metadata": {},
   "outputs": [],
   "source": [
    "# https://www.sejuku.net/blog/73255\n",
    "# https://note.nkmk.me/python-math-isclose/\n",
    "# https://maspypy.com/atcoder-%E5%8F%82%E5%8A%A0%E6%84%9F%E6%83%B3-2020-05-31abc-169\n",
    "# 二進法、十進法の誤差"
   ]
  },
  {
   "cell_type": "code",
   "execution_count": 218,
   "metadata": {},
   "outputs": [
    {
     "name": "stdout",
     "output_type": "stream",
     "text": [
      "198 1.10\n",
      "217\n"
     ]
    }
   ],
   "source": [
    "from decimal import Decimal\n",
    "\n",
    "A, B = list(input().split())\n",
    "A = Decimal(A)\n",
    "B = Decimal(B)\n",
    "\n",
    "print(int(A*B))"
   ]
  },
  {
   "cell_type": "code",
   "execution_count": null,
   "metadata": {},
   "outputs": [],
   "source": [
    "a,b = map(float,input().split())\n",
    " \n",
    "a = int(a)\n",
    "b = round(float(b) * 100)\n",
    " \n",
    "print(a*b//100)"
   ]
  },
  {
   "cell_type": "code",
   "execution_count": null,
   "metadata": {},
   "outputs": [],
   "source": [
    "X = list(input().split())\n",
    "A = int(X[0])\n",
    "B = float(X[1])\n",
    " \n",
    "ans = (A*int(B*100+0.5))//100\n",
    "print(ans)"
   ]
  },
  {
   "cell_type": "markdown",
   "metadata": {},
   "source": [
    "# D - Div Game"
   ]
  },
  {
   "cell_type": "code",
   "execution_count": 469,
   "metadata": {},
   "outputs": [],
   "source": [
    "# 素べき、べき数の等差数列"
   ]
  },
  {
   "cell_type": "code",
   "execution_count": 480,
   "metadata": {},
   "outputs": [
    {
     "data": {
      "text/plain": [
       "6"
      ]
     },
     "execution_count": 480,
     "metadata": {},
     "output_type": "execute_result"
    }
   ],
   "source": [
    "n = 24\n",
    "int(-(-n**0.5//1))+1    # 切り上げたいからマイナス付ける"
   ]
  },
  {
   "cell_type": "code",
   "execution_count": 508,
   "metadata": {},
   "outputs": [
    {
     "name": "stdout",
     "output_type": "stream",
     "text": [
      "997764507000\n",
      "7\n"
     ]
    }
   ],
   "source": [
    "def solve(n):\n",
    "    arr = []\n",
    "    temp = n\n",
    "    for i in range(2, int(-(-n**0.5//1))+1):\n",
    "        if temp%i==0:\n",
    "            cnt=0\n",
    "            while temp%i==0:\n",
    "                cnt+=1\n",
    "                temp //= i\n",
    "            arr.append([i, cnt])\n",
    "\n",
    "    if temp!=1:\n",
    "        arr.append([temp, 1])\n",
    "\n",
    "    if arr==[]:\n",
    "        arr.append([n, 1])\n",
    "\n",
    "    return arr\n",
    "\n",
    "n = int(input())\n",
    "arr = solve(n)\n",
    "\n",
    "cnt = 0\n",
    "for n in arr:\n",
    "    a=1\n",
    "    if n[0]==1:\n",
    "        break\n",
    "    while n[1]>=a:\n",
    "        n[1] -= a\n",
    "        a += 1\n",
    "        cnt += 1\n",
    "\n",
    "print(cnt)"
   ]
  },
  {
   "cell_type": "markdown",
   "metadata": {},
   "source": [
    "# E - Count Median"
   ]
  },
  {
   "cell_type": "code",
   "execution_count": 3,
   "metadata": {},
   "outputs": [
    {
     "data": {
      "application/vnd.jupyter.widget-view+json": {
       "model_id": "2f40cff0b1294479bf46f79cd893d623",
       "version_major": 2,
       "version_minor": 0
      },
      "text/plain": [
       "Textarea(value='')"
      ]
     },
     "metadata": {},
     "output_type": "display_data"
    }
   ],
   "source": [
    "from ipywidgets import Textarea\n",
    "import io\n",
    "\n",
    "if 'open' in globals():\n",
    "    del open\n",
    "original_open = open\n",
    "\n",
    "class custom_open():\n",
    "    def __init__(self):\n",
    "        self.text = ''\n",
    "\n",
    "    def __call__(self, file, *args, **kwargs):\n",
    "        if file == 0:\n",
    "            return io.StringIO(self.text)\n",
    "        return original_open(file, *args, **kwargs)\n",
    "\n",
    "    def updater(self, change):\n",
    "        self.text = change[\"new\"]\n",
    "\n",
    "open = custom_open()\n",
    "text_area = Textarea()\n",
    "text_area.observe(open.updater, names='value')\n",
    "display(text_area)"
   ]
  },
  {
   "cell_type": "code",
   "execution_count": 13,
   "metadata": {},
   "outputs": [
    {
     "name": "stdout",
     "output_type": "stream",
     "text": [
      "[1, 2, 2, 3]\n",
      "3\n"
     ]
    }
   ],
   "source": [
    "# E - Count Median\n",
    "def main():\n",
    "    N, *AB = map(int, open(0).read().split())\n",
    "    A, B = AB[::2], AB[1::2]\n",
    "    A.sort(), B.sort()\n",
    "    mid = N // 2\n",
    "    if N % 2:\n",
    "        print(B[mid] - A[mid] + 1)\n",
    "    else:\n",
    "        print((B[mid] + B[mid - 1]) - (A[mid] + A[mid - 1]) + 1)\n",
    " \n",
    " \n",
    "if __name__ == \"__main__\":\n",
    "    main()"
   ]
  },
  {
   "cell_type": "code",
   "execution_count": 15,
   "metadata": {},
   "outputs": [
    {
     "ename": "SyntaxError",
     "evalue": "starred assignment target must be in a list or tuple (<ipython-input-15-a94d4e811d72>, line 4)",
     "output_type": "error",
     "traceback": [
      "\u001b[0;36m  File \u001b[0;32m\"<ipython-input-15-a94d4e811d72>\"\u001b[0;36m, line \u001b[0;32m4\u001b[0m\n\u001b[0;31mSyntaxError\u001b[0m\u001b[0;31m:\u001b[0m starred assignment target must be in a list or tuple\n"
     ]
    }
   ],
   "source": [
    "*Z = map(int, input().split())\n",
    "print(Z)"
   ]
  },
  {
   "cell_type": "code",
   "execution_count": null,
   "metadata": {},
   "outputs": [],
   "source": []
  }
 ],
 "metadata": {
  "kernelspec": {
   "display_name": "Python 3",
   "language": "python",
   "name": "python3"
  },
  "language_info": {
   "codemirror_mode": {
    "name": "ipython",
    "version": 3
   },
   "file_extension": ".py",
   "mimetype": "text/x-python",
   "name": "python",
   "nbconvert_exporter": "python",
   "pygments_lexer": "ipython3",
   "version": "3.7.3"
  }
 },
 "nbformat": 4,
 "nbformat_minor": 2
}
