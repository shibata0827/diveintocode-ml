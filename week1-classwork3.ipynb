{
 "cells": [
  {
   "cell_type": "markdown",
   "metadata": {},
   "source": [
    "【問題】栗まんじゅうが太陽系を覆う日\n",
    "\n",
    "1個の栗まんじゅうにバイバインを振りかけた場合、太陽系が栗まんじゅうで覆われるのは何分後でしょうか。これを計算するプログラムを作成してください。\n",
    "\n",
    "栗まんじゅうや太陽系の体積を調査した上で仮定して計算してください。栗まんじゅうの隙間や重力などは考えず、問題を単純化して構いません。"
   ]
  },
  {
   "cell_type": "code",
   "execution_count": 128,
   "metadata": {},
   "outputs": [
    {
     "name": "stdout",
     "output_type": "stream",
     "text": [
      "物体が空間を満たすまでの増加回数：144回\n",
      "物体が空間を満たすまで720分\n"
     ]
    }
   ],
   "source": [
    "#栗まんじゅうの体積(「栗きんとん　すや」の栗まんじゅう)\n",
    "#60mm × 40mm × 30mmの長方形として計算\n",
    "#メートル換算\n",
    "kuri_v = 60 * 40 * 30 / (1000**3)\n",
    "\n",
    "#太陽系の体積(http://www2u.biglobe.ne.jp/~rachi/uni_wi.htm#sun_gp)\n",
    "#太陽を中心に一番遠い冥王星までで、約５９億１５１０万キロメートル\n",
    "#これを半径として球体として計算\n",
    "#メートル換算\n",
    "import math\n",
    "solar_system_v = 4 / 3 * math.pi * (591510*10000*1000)**3\n",
    "\n",
    "#変数代入\n",
    "v = kuri_v\n",
    "\n",
    "#倍々の変化の繰り返し（1000回上限）\n",
    "for i in range(1000):\n",
    "    v *= 2\n",
    "    #物体が空間を満たしたら終了\n",
    "    if v >= solar_system_v:\n",
    "        min = 5 * (i +1)\n",
    "        print('物体が空間を満たすまでの増加回数：{}回'.format(i+1))\n",
    "        print('物体が空間を満たすまで{}分'.format(min))\n",
    "        break"
   ]
  },
  {
   "cell_type": "code",
   "execution_count": 129,
   "metadata": {},
   "outputs": [],
   "source": [
    "#5分毎に倍々に増加する物体が、ある空間を満たすまでの時間\n",
    "#隙間などは考慮しない\n",
    "#汎用性のあるプログラム\n",
    "def occupation(material_v, container_v):\n",
    "    #変数代入\n",
    "    v = material_v\n",
    "\n",
    "    #倍々の変化の繰り返し（1000回上限）\n",
    "    for i in range(1000):\n",
    "        v *= 2\n",
    "        #物体が空間を満たしたら終了\n",
    "        if v >= container_v:\n",
    "            min = 5 * (i +1)\n",
    "            print('物体が空間を満たすまでの増加回数：{}回'.format(i+1))\n",
    "            print('物体が空間を満たすまで{}分'.format(min))\n",
    "            break"
   ]
  },
  {
   "cell_type": "markdown",
   "metadata": {},
   "source": [
    "ボールにバイバインを振りかけた時、東京ドームが一杯になる時間など他の状況にも適用できるような汎用的なプログラムを作成してください。"
   ]
  },
  {
   "cell_type": "code",
   "execution_count": 130,
   "metadata": {},
   "outputs": [
    {
     "name": "stdout",
     "output_type": "stream",
     "text": [
      "物体が空間を満たすまでの増加回数：35回\n",
      "物体が空間を満たすまで175分\n"
     ]
    }
   ],
   "source": [
    "#東京ドームを栗まんじゅうで埋め尽くす\n",
    "occupation(kuri_v, 124 * 10000)"
   ]
  },
  {
   "cell_type": "markdown",
   "metadata": {},
   "source": [
    "また、グラフを表示するなど分かりやすいノートブックを作成してください。"
   ]
  },
  {
   "cell_type": "code",
   "execution_count": 142,
   "metadata": {},
   "outputs": [],
   "source": [
    "#5分毎に倍々に増加する物体が、ある空間を満たすまでの時間\n",
    "#隙間などは考慮しない\n",
    "#汎用性のあるプログラム\n",
    "#グラフの表示\n",
    "import matplotlib.pyplot as plt\n",
    "%matplotlib inline\n",
    "\n",
    "def occupation_with_glaph(material_v, container_v):\n",
    "    #変数代入\n",
    "    v = material_v\n",
    "    \n",
    "    #リスト作成\n",
    "    list_v = [v]\n",
    "    list_min = [5]\n",
    "\n",
    "    #倍々の変化の繰り返し（1000回上限）\n",
    "    for i in range(1000):\n",
    "        v *= 2\n",
    "        \n",
    "        #リストへの追加\n",
    "        list_v.append(v)\n",
    "        list_min.append(5 * (i + 1))\n",
    "        \n",
    "        #物体が空間を満たしたら終了\n",
    "        if v >= container_v:\n",
    "            print('物体が空間を満たすまでの増加回数：{}回'.format(i+1))\n",
    "            print('物体が空間を満たすまで{}分'.format(5 * (i + 1)))\n",
    "            \n",
    "            #グラフ出力\n",
    "            plt.title('occupation_ time')\n",
    "            plt.xlabel('min')\n",
    "            plt.ylabel('volume')\n",
    "            plt.plot(list_min, list_v)\n",
    "            plt.show()\n",
    "            \n",
    "            break"
   ]
  },
  {
   "cell_type": "code",
   "execution_count": 143,
   "metadata": {},
   "outputs": [
    {
     "name": "stdout",
     "output_type": "stream",
     "text": [
      "物体が空間を満たすまでの増加回数：35回\n",
      "物体が空間を満たすまで175分\n"
     ]
    },
    {
     "data": {
      "image/png": "[encoded data removed]",
      "text/plain": [
       "<Figure size 432x288 with 1 Axes>"
      ]
     },
     "metadata": {
      "needs_background": "light"
     },
     "output_type": "display_data"
    }
   ],
   "source": [
    "#東京ドームを栗まんじゅうで埋め尽くす\n",
    "#グラフ付き\n",
    "occupation_with_glaph(kuri_v, 124 * 10000)"
   ]
  },
  {
   "cell_type": "code",
   "execution_count": null,
   "metadata": {},
   "outputs": [],
   "source": []
  },
  {
   "cell_type": "code",
   "execution_count": null,
   "metadata": {},
   "outputs": [],
   "source": []
  }
 ],
 "metadata": {
  "kernelspec": {
   "display_name": "Python 3",
   "language": "python",
   "name": "python3"
  },
  "language_info": {
   "codemirror_mode": {
    "name": "ipython",
    "version": 3
   },
   "file_extension": ".py",
   "mimetype": "text/x-python",
   "name": "python",
   "nbconvert_exporter": "python",
   "pygments_lexer": "ipython3",
   "version": "3.7.3"
  }
 },
 "nbformat": 4,
 "nbformat_minor": 2
}
