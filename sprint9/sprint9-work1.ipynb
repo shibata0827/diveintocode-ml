{
 "cells": [
  {
   "cell_type": "markdown",
   "metadata": {},
   "source": [
    "# sprint 深層学習スクラッチ ディープニューラルネットワーク"
   ]
  },
  {
   "cell_type": "markdown",
   "metadata": {},
   "source": [
    "# ディープニューラルネットワークスクラッチ\n",
    "\n",
    "前回は3層のニューラルネットワークを作成しましたが、今回はこれを任意の層数に拡張しやすいものに書き換えていきます。その上で、活性化関数や初期値、最適化手法について発展的なものを扱えるようにしていきます。\n",
    "\n",
    "\n",
    "このようなスクラッチを行うことで、今後各種フレームワークを利用していくにあたり、内部の動きが想像できることを目指します。\n",
    "\n",
    "\n",
    "名前は新しくScratchDeepNeuralNetrowkClassifierクラスとしてください。"
   ]
  },
  {
   "cell_type": "code",
   "execution_count": 88,
   "metadata": {},
   "outputs": [],
   "source": [
    "import numpy as np\n",
    "import matplotlib.pyplot as plt\n",
    "from sklearn.model_selection import train_test_split\n",
    "from sklearn.metrics import accuracy_score"
   ]
  },
  {
   "cell_type": "markdown",
   "metadata": {},
   "source": [
    "## 層などのクラス化\n",
    "クラスにまとめて行くことで、構成を変更しやすい実装にしていきます。\n",
    "\n",
    "\n",
    "手を加える箇所\n",
    "\n",
    "\n",
    "* 層の数\n",
    "* 層の種類（今後畳み込み層など他のタイプの層が登場する）\n",
    "* 活性化関数の種類\n",
    "* 重みやバイアスの初期化方法\n",
    "* 最適化手法\n",
    "\n",
    "そのために、全結合層、各種活性化関数、重みやバイアスの初期化、最適化手法それぞれのクラスを作成します。\n",
    "\n",
    "\n",
    "実装方法は自由ですが、簡単な例を紹介します。サンプルコード1のように全結合層と活性化関数のインスタンスを作成し、サンプルコード2,3のようにして使用します。それぞれのクラスについてはこのあと解説します。"
   ]
  },
  {
   "cell_type": "code",
   "execution_count": 89,
   "metadata": {},
   "outputs": [],
   "source": [
    "class GetMiniBatch:\n",
    "    \"\"\"\n",
    "    ミニバッチを取得するイテレータ\n",
    "\n",
    "    Parameters\n",
    "    ----------\n",
    "    X : 次の形のndarray, shape (n_samples, n_features)\n",
    "      訓練データ\n",
    "    y : 次の形のndarray, shape (n_samples, 1)\n",
    "      正解値\n",
    "    batch_size : int\n",
    "      バッチサイズ\n",
    "    seed : int\n",
    "      NumPyの乱数のシード\n",
    "    \"\"\"\n",
    "    def __init__(self, X, y, batch_size = 20, seed=0):\n",
    "        self.batch_size = batch_size\n",
    "        np.random.seed(seed)\n",
    "        shuffle_index = np.random.permutation(np.arange(X.shape[0]))\n",
    "        self._X = X[shuffle_index]\n",
    "        self._y = y[shuffle_index]\n",
    "        self._stop = np.ceil(X.shape[0]/self.batch_size).astype(np.int)\n",
    "        \n",
    "    def __len__(self):\n",
    "        return self._stop\n",
    "    \n",
    "    def __getitem__(self,item):\n",
    "        p0 = item*self.batch_size\n",
    "        p1 = item*self.batch_size + self.batch_size\n",
    "        return self._X[p0:p1], self._y[p0:p1]        \n",
    "    \n",
    "    def __iter__(self):\n",
    "        self._counter = 0\n",
    "        return self\n",
    "    \n",
    "    def __next__(self):\n",
    "        if self._counter >= self._stop:\n",
    "            raise StopIteration()\n",
    "        p0 = self._counter*self.batch_size\n",
    "        p1 = self._counter*self.batch_size + self.batch_size\n",
    "        self._counter += 1\n",
    "        return self._X[p0:p1], self._y[p0:p1]"
   ]
  },
  {
   "cell_type": "code",
   "execution_count": 567,
   "metadata": {},
   "outputs": [],
   "source": [
    "class ScratchDeepNeuralNetrowkClassifier():\n",
    "    \"\"\"\n",
    "    DNNスクラッチ\n",
    "    Parameters\n",
    "    ----------\n",
    "    epoch_count : int\n",
    "      エポック回数\n",
    "    layer_act : dic\n",
    "      layerとact名\n",
    "    n_nodes : タプル int\n",
    "      各ノードの数\n",
    "    lr : int\n",
    "      学習率\n",
    "    activation : obj\n",
    "      活性化手法のインスタンス\n",
    "    layer_type : obj\n",
    "      層のインスタンス\n",
    "    initializer : obj\n",
    "      初期化方法のインスタンス\n",
    "    optimizer : obj\n",
    "      最適化手法のインスタンス\n",
    "    sigma : float\n",
    "      標準偏差、SimpleInitializerのみ入力\n",
    "    layer_dic : dic\n",
    "      key : layer名、value : 層のインスタンス\n",
    "    act_dic : dic\n",
    "      key : activation名、value : activationのインスタンス\n",
    "    train_loss : list\n",
    "      trainのエポック毎のcross_entropyを格納するリスト(エポック毎の平均値)\n",
    "    val_loss : list\n",
    "      valのエポック毎のcross_entropyを格納するリスト(全データ分を計算)\n",
    "    n_features : int\n",
    "      特徴量の数\n",
    "    n_output : int\n",
    "      出力層のノード数\n",
    "    \"\"\"\n",
    "    def __init__(self, epoch_count, layer_act, n_nodes, lr, layer_type, activation, initializer, optimizer, sigma=None):\n",
    "        self.epoch_count = epoch_count\n",
    "        self.n_nodes = n_nodes\n",
    "        self.lr = lr\n",
    "        self.sigma = sigma\n",
    "        self.layer_type = layer_type\n",
    "        self.activation = activation\n",
    "        self.initializer = initializer\n",
    "        self.optimizer = optimizer\n",
    "        self.layer_dic = {}\n",
    "        self.act_dic = {}\n",
    "        self.train_loss = []\n",
    "        self.val_loss = []\n",
    "        \n",
    "    def fit(self, X, y, X_val=None, y_val=None):\n",
    "        # 初期化\n",
    "        ini_sigma = self.sigma\n",
    "        n_features = X.shape[1]\n",
    "        n_output = y.shape[1]\n",
    "        # 特徴量の数、各ノード数、出力ノード数を結合\n",
    "        self.n_nodes = list(self.n_nodes)\n",
    "        self.n_nodes.insert(0, n_features)\n",
    "        self.n_nodes.append(n_output)\n",
    "        # 層の数だけインスタンス化、リストに追加\n",
    "        num = 0\n",
    "        nodes_num = len(self.n_nodes) - 1\n",
    "        for layer, act in layer_act.items():\n",
    "            # インスタンス時にsigma設定しない場合(AdaGrad)、前のノード数を代入する\n",
    "            self.sigma = self.n_nodes[num] if ini_sigma is None else ini_sigma\n",
    "            self.layer_dic[layer] = self.layer_type(self.n_nodes[num], self.n_nodes[num+1], self.initializer(self.sigma), self.optimizer(self.lr))\n",
    "            # 出力時のみactはSoftmax\n",
    "            if num+1 == nodes_num:\n",
    "                self.act_dic[act] = Softmax()\n",
    "            else:\n",
    "                self.act_dic[act] = self.activation()\n",
    "            num += 1\n",
    "            \n",
    "        # ミニバッチのインスタンス\n",
    "        get_mini_batch = GetMiniBatch(X, y, batch_size=20)\n",
    "        \n",
    "        # エポック回数繰り返し\n",
    "        for epoch in range(self.epoch_count):\n",
    "            # イテレーション回数の初期化\n",
    "            iter_count = 1\n",
    "            # イテレーション毎のloss(cross_entropy)記録用array初期化\n",
    "            train_loss = np.zeros(len(get_mini_batch))\n",
    "            # イテレーション回数繰り返し\n",
    "            for mini_X, mini_y in get_mini_batch:\n",
    "                # 回数の表示\n",
    "                if iter_count%2400 == 0:\n",
    "                    print(\"エポック{}\".format(epoch+1))\n",
    "                    print(\"{}回目の学習\".format(iter_count))\n",
    "                # 層の数だけforward\n",
    "                # 処理回数の初期化\n",
    "                num = 0\n",
    "                for layer, act in zip(self.layer_dic.values(), self.act_dic.values()):\n",
    "                    if num==0:\n",
    "                        Z = mini_X\n",
    "                    A = layer.forward(Z)\n",
    "                    Z = act.forward(A)\n",
    "                    num += 1\n",
    "                    \n",
    "                # 層の数だけbackward(降順)\n",
    "                # 逆順用の辞書を作成\n",
    "                layer_dic_re = {}\n",
    "                act_dic_re = {}\n",
    "                for key, item in sorted(self.layer_dic.items(), reverse=True):\n",
    "                    layer_dic_re[key] = item\n",
    "                for key, item in sorted(self.act_dic.items(), reverse=True):\n",
    "                    act_dic_re[key] = item\n",
    "                # 処理回数の初期化   \n",
    "                num = 0\n",
    "                for layer, act in zip(layer_dic_re.values(), act_dic_re.values()):\n",
    "                    if num==0:\n",
    "                        # 交差エントロピー誤差とソフトマックスを合わせている\n",
    "                        dA, train_L = act.backward(mini_y)\n",
    "                    else:\n",
    "                        dA = act.backward(dZ)\n",
    "                    dZ = layer.backward(dA)\n",
    "                    num += 1   \n",
    "                # イテレーション毎のloss(cross_entropy)記録\n",
    "                train_loss[iter_count-1] = train_L\n",
    "                # イテレーション回数のカウント\n",
    "                iter_count += 1\n",
    "             \n",
    "            # valのlossを計算\n",
    "            # valのforward\n",
    "            num = 0\n",
    "            for layer, act in zip(self.layer_dic.values(), self.act_dic.values()):\n",
    "                if num==0:\n",
    "                    Z = X_val\n",
    "                A = layer.forward(Z)\n",
    "                Z = act.forward(A)\n",
    "                # valのcross_entropy計算\n",
    "                if num+1 == nodes_num:\n",
    "                    dA, val_L = act.backward(y_val)\n",
    "                num += 1\n",
    "            \n",
    "            # loss(cross_entropy)記録\n",
    "            self.train_loss.append(train_loss.mean())\n",
    "            self.val_loss.append(val_L)\n",
    "        \n",
    "    def predict(self, X):\n",
    "        \"\"\"\n",
    "        ニューラルネットワーク分類器を使い推定する。\n",
    "\n",
    "        Parameters\n",
    "        ----------\n",
    "        X : 次の形のndarray, shape (n_samples, n_features)\n",
    "            サンプル\n",
    "\n",
    "        Returns\n",
    "        -------\n",
    "            次の形のndarray, shape (n_samples, 1)\n",
    "            推定結果\n",
    "        \"\"\"\n",
    "        num = 0\n",
    "        for layer, act in zip(self.layer_dic.values(), self.act_dic.values()):\n",
    "            if num==0:\n",
    "                Z = X\n",
    "            A = layer.forward(Z)\n",
    "            Z = act.forward(A)\n",
    "            num += 1\n",
    "        \n",
    "        return Z.argmax(axis=1)"
   ]
  },
  {
   "cell_type": "markdown",
   "metadata": {},
   "source": [
    "# 【問題1】全結合層のクラス化\n",
    "全結合層のクラス化を行なってください。\n",
    "\n",
    "\n",
    "以下に雛形を載せました。コンストラクタで重みやバイアスの初期化をして、あとはフォワードとバックワードのメソッドを用意します。重みW、バイアスB、およびフォワード時の入力Xをインスタンス変数として保持しておくことで、煩雑な入出力は不要になります。\n",
    "\n",
    "\n",
    "なお、インスタンスも引数として渡すことができます。そのため、初期化方法のインスタンスinitializerをコンストラクタで受け取れば、それにより初期化が行われます。渡すインスタンスを変えれば、初期化方法が変えられます。\n",
    "\n",
    "\n",
    "また、引数として自身のインスタンスselfを渡すこともできます。これを利用してself.optimizer.update(self)という風に層の重みの更新が可能です。更新に必要な値は複数ありますが、全て全結合層が持つインスタンス変数にすることができます。"
   ]
  },
  {
   "cell_type": "code",
   "execution_count": 576,
   "metadata": {},
   "outputs": [],
   "source": [
    "class FC:\n",
    "    \"\"\"\n",
    "    ノード数n_nodes1からn_nodes2への全結合層\n",
    "    Parameters\n",
    "    ----------\n",
    "    n_nodes1 : int\n",
    "      前の層のノード数\n",
    "    n_nodes2 : int\n",
    "      後の層のノード数\n",
    "    initializer : 初期化方法のインスタンス\n",
    "    optimizer : 最適化手法のインスタンス\n",
    "    \"\"\"\n",
    "    def __init__(self, n_nodes1, n_nodes2, initializer, optimizer):\n",
    "        self.optimizer = optimizer\n",
    "        # 初期化\n",
    "        # initializerのメソッドを使い、self.Wとself.Bを初期化する\n",
    "        self.initializer = initializer\n",
    "        self.W = self.initializer.W(n_nodes1, n_nodes2)\n",
    "        self.B = self.initializer.B(n_nodes2)\n",
    "        # 初期値\n",
    "        self.Z = None\n",
    "        #  AdaGrad用の変数\n",
    "        self.H_B = 0\n",
    "        self.H_W = 0\n",
    "            \n",
    "    def forward(self, Z):\n",
    "        \"\"\"\n",
    "        フォワード\n",
    "        Parameters\n",
    "        ----------\n",
    "        X : 次の形のndarray, shape (batch_size, n_nodes1)\n",
    "            入力\n",
    "        Returns\n",
    "        ----------\n",
    "        A : 次の形のndarray, shape (batch_size, n_nodes2)\n",
    "            出力\n",
    "        \"\"\" \n",
    "        # backward用に保持\n",
    "        self.Z = Z\n",
    "        # forwardの計算\n",
    "        Z = np.concatenate([np.ones([self.Z.shape[0], 1]), self.Z], axis=1)\n",
    "        W_baias = np.concatenate([self.B, self.W], axis=0)\n",
    "        A = Z.dot(W_baias)\n",
    "        \n",
    "        return A\n",
    "    \n",
    "    def backward(self, dA):\n",
    "        \"\"\"\n",
    "        バックワード\n",
    "        Parameters\n",
    "        ----------\n",
    "        dA : 次の形のndarray, shape (batch_size, n_nodes2)\n",
    "            後ろから流れてきた勾配\n",
    "        Returns\n",
    "        ----------\n",
    "        dZ : 次の形のndarray, shape (batch_size, n_nodes1)\n",
    "            前に流す勾配\n",
    "        \"\"\"\n",
    "        # backwardの計算\n",
    "        dB = dA.sum(axis=0)\n",
    "        dW = self.Z.T.dot(dA)\n",
    "        dZ = dA.dot(self.W.T)\n",
    "        \n",
    "        #  AdaGrad用の計算\n",
    "        size = dA.shape[0]\n",
    "        self.H_B += (dB/size)**2\n",
    "        self.H_W += (dW/size)**2\n",
    "        \n",
    "        # 更新(AdaGrad用に引数を設定)\n",
    "        self.B, self.W = self.optimizer.update(self.B, self.W, dB, dW, self.H_B, self.H_W, size)\n",
    "        \n",
    "        return dZ"
   ]
  },
  {
   "cell_type": "markdown",
   "metadata": {},
   "source": [
    "# 問題2】初期化方法のクラス化\n",
    "初期化を行うコードをクラス化してください。\n",
    "\n",
    "\n",
    "前述のように、全結合層のコンストラクタに初期化方法のインスタンスを渡せるようにします。以下の雛形に必要なコードを書き加えていってください。標準偏差の値（sigma）はコンストラクタで受け取るようにすることで、全結合層のクラス内にこの値（sigma）を渡さなくてすむようになります。\n",
    "\n",
    "\n",
    "これまで扱ってきた初期化方法はSimpleInitializerクラスと名付けることにします。"
   ]
  },
  {
   "cell_type": "code",
   "execution_count": 314,
   "metadata": {},
   "outputs": [],
   "source": [
    "class SimpleInitializer:\n",
    "    \"\"\"\n",
    "    ガウス分布によるシンプルな初期化\n",
    "    Parameters\n",
    "    ----------\n",
    "    sigma : float\n",
    "      ガウス分布の標準偏差\n",
    "    \"\"\"\n",
    "    def __init__(self, sigma):\n",
    "        self.sigma = sigma\n",
    "    def W(self, n_nodes1, n_nodes2):\n",
    "        \"\"\"\n",
    "        重みの初期化\n",
    "        Parameters\n",
    "        ----------\n",
    "        n_nodes1 : int\n",
    "          前の層のノード数\n",
    "        n_nodes2 : int\n",
    "          後の層のノード数\n",
    "\n",
    "        Returns\n",
    "        ----------\n",
    "        W :\n",
    "        \"\"\"\n",
    "        W = self.sigma * np.random.randn(n_nodes1, n_nodes2)\n",
    "        return W\n",
    "    def B(self, n_nodes2):\n",
    "        \"\"\"\n",
    "        バイアスの初期化\n",
    "        Parameters\n",
    "        ----------\n",
    "        n_nodes2 : int\n",
    "          後の層のノード数\n",
    "\n",
    "        Returns\n",
    "        ----------\n",
    "        B :\n",
    "        \"\"\"\n",
    "        B = self.sigma * np.random.randn(1, n_nodes2)\n",
    "        return B"
   ]
  },
  {
   "cell_type": "markdown",
   "metadata": {},
   "source": [
    "# 【問題3】最適化手法のクラス化\n",
    "最適化手法のクラス化を行なってください。\n",
    "\n",
    "\n",
    "最適化手法に関しても初期化方法同様に全結合層にインスタンスとして渡します。バックワードのときにself.optimizer.update(self)のように更新できるようにします。以下の雛形に必要なコードを書き加えていってください。\n",
    "\n",
    "\n",
    "これまで扱ってきた最適化手法はSGDクラス（Stochastic Gradient Descent、確率的勾配降下法）として作成します。"
   ]
  },
  {
   "cell_type": "code",
   "execution_count": 562,
   "metadata": {},
   "outputs": [],
   "source": [
    "class SGD:\n",
    "    \"\"\"\n",
    "    確率的勾配降下法\n",
    "    Parameters\n",
    "    ----------\n",
    "    lr : 学習率\n",
    "    \"\"\"\n",
    "    def __init__(self, lr):\n",
    "        self.lr = lr\n",
    "        # AdaGrad用に引数を設定\n",
    "    def update(self, B, W, dB, dW, H_B=None, H_W=None, size=None):\n",
    "        \"\"\"\n",
    "        ある層の重みやバイアスの更新\n",
    "        Parameters\n",
    "        ----------\n",
    "        \"\"\"\n",
    "        \n",
    "        B -=self.lr*dB/dA.shape[0]\n",
    "        W -= self.lr*dW/dA.shape[0]\n",
    "        \n",
    "        return B, W"
   ]
  },
  {
   "cell_type": "markdown",
   "metadata": {},
   "source": [
    "# 【問題4】活性化関数のクラス化\n",
    "活性化関数のクラス化を行なってください。\n",
    "\n",
    "\n",
    "ソフトマックス関数のバックプロパゲーションには交差エントロピー誤差の計算も含む実装を行うことで計算が簡略化されます。"
   ]
  },
  {
   "cell_type": "code",
   "execution_count": 563,
   "metadata": {},
   "outputs": [],
   "source": [
    "class Tanh:\n",
    "    \n",
    "    def __init__(self):\n",
    "        self.A = None\n",
    "    \n",
    "    def forward(self, A):\n",
    "        # backward用に保持\n",
    "        self.A = A\n",
    "        # forward計算\n",
    "        Z = np.tanh(A)\n",
    "        return Z\n",
    "    \n",
    "    def backward(self, dZ):\n",
    "        dA = dZ * (1 - (np.tanh(self.A))**2)\n",
    "        return dA"
   ]
  },
  {
   "cell_type": "code",
   "execution_count": 564,
   "metadata": {},
   "outputs": [],
   "source": [
    "class Softmax:\n",
    "    \n",
    "    def __init__(self):\n",
    "        self.Z = None\n",
    "    \n",
    "    def forward(self, A):\n",
    "        # forward計算\n",
    "        Z = np.exp(A)/(np.exp(A).sum(axis=1).reshape([-1, 1]))\n",
    "        # backward用に保持\n",
    "        self.Z = Z\n",
    "        return Z\n",
    "        \n",
    "    def backward(self, y):\n",
    "        # backward\n",
    "        dA = self.Z - y\n",
    "        # cross_entropy\n",
    "        L = -(y*np.log(self.Z)).sum()/y.shape[0]\n",
    "        return dA, L"
   ]
  },
  {
   "cell_type": "markdown",
   "metadata": {},
   "source": [
    "# 【問題5】ReLUクラスの作成\n",
    "現在一般的に使われている活性化関数であるReLU（Rectified Linear Unit）をReLUクラスとして実装してください。\n",
    "\n",
    "\n",
    "ReLUは以下の数式です。"
   ]
  },
  {
   "cell_type": "code",
   "execution_count": 565,
   "metadata": {},
   "outputs": [],
   "source": [
    "class ReLU:\n",
    "    \n",
    "    def __init__(self):\n",
    "        self.A = None\n",
    "    \n",
    "    def forward(self, A):\n",
    "        # backward用に保持\n",
    "        self.A = A\n",
    "        # forward計算\n",
    "        Z = np.maximum(0, A)\n",
    "        return Z\n",
    "   \n",
    "    def backward(self, dZ):\n",
    "        dA = dZ*(np.where(self.A>0, 1,0))\n",
    "        return dA"
   ]
  },
  {
   "cell_type": "markdown",
   "metadata": {},
   "source": [
    "# 【問題6】重みの初期値\n",
    "ここまでは重みやバイアスの初期値は単純にガウス分布で、標準偏差をハイパーパラメータとして扱ってきました。しかし、どのような値にすると良いかが知られています。シグモイド関数やハイパボリックタンジェント関数のときは Xavierの初期値 （またはGlorotの初期値）、ReLUのときは Heの初期値 が使われます。\n",
    "\n",
    "\n",
    "XavierInitializerクラスと、HeInitializerクラスを作成してください。"
   ]
  },
  {
   "cell_type": "code",
   "execution_count": 568,
   "metadata": {},
   "outputs": [],
   "source": [
    "class Xavier:\n",
    "    \"\"\"\n",
    "    Xavierの初期化\n",
    "    Parameters\n",
    "    ----------\n",
    "    sigma : float\n",
    "      Xavierの標準偏差\n",
    "    \"\"\"\n",
    "    def __init__(self, n_nodes1):\n",
    "        # ScratchDeepNeuralNetrowkClassifierでは変数名sigmaとしてn_nodes1を受け取っている\n",
    "        self.sigma = np.sqrt(1/n_nodes1)\n",
    "    def W(self, n_nodes1, n_nodes2):\n",
    "        \"\"\"\n",
    "        重みの初期化\n",
    "        Parameters\n",
    "        ----------\n",
    "        n_nodes1 : int\n",
    "          前の層のノード数\n",
    "        n_nodes2 : int\n",
    "          後の層のノード数\n",
    "\n",
    "        Returns\n",
    "        ----------\n",
    "        W :\n",
    "        \"\"\"\n",
    "        W = self.sigma * np.random.randn(n_nodes1, n_nodes2)\n",
    "        return W\n",
    "    def B(self, n_nodes2):\n",
    "        \"\"\"\n",
    "        バイアスの初期化\n",
    "        Parameters\n",
    "        ----------\n",
    "        n_nodes2 : int\n",
    "          後の層のノード数\n",
    "\n",
    "        Returns\n",
    "        ----------\n",
    "        B :\n",
    "        \"\"\"\n",
    "        B = self.sigma * np.random.randn(1, n_nodes2)\n",
    "        return B"
   ]
  },
  {
   "cell_type": "code",
   "execution_count": 571,
   "metadata": {},
   "outputs": [],
   "source": [
    "class He:\n",
    "    \"\"\"\n",
    "    Heの初期化\n",
    "    Parameters\n",
    "    ----------\n",
    "    sigma : float\n",
    "      Heの標準偏差\n",
    "    \"\"\"\n",
    "    def __init__(self, n_nodes1):\n",
    "        # ScratchDeepNeuralNetrowkClassifierでは変数名sigmaとしてn_nodes1を受け取っている\n",
    "        self.sigma = np.sqrt(2/n_nodes1)\n",
    "    def W(self, n_nodes1, n_nodes2):\n",
    "        \"\"\"\n",
    "        重みの初期化\n",
    "        Parameters\n",
    "        ----------\n",
    "        n_nodes1 : int\n",
    "          前の層のノード数\n",
    "        n_nodes2 : int\n",
    "          後の層のノード数\n",
    "\n",
    "        Returns\n",
    "        ----------\n",
    "        W :\n",
    "        \"\"\"\n",
    "        W = self.sigma * np.random.randn(n_nodes1, n_nodes2)\n",
    "        return W\n",
    "    def B(self, n_nodes2):\n",
    "        \"\"\"\n",
    "        バイアスの初期化\n",
    "        Parameters\n",
    "        ----------\n",
    "        n_nodes2 : int\n",
    "          後の層のノード数\n",
    "\n",
    "        Returns\n",
    "        ----------\n",
    "        B :\n",
    "        \"\"\"\n",
    "        B = self.sigma * np.random.randn(1, n_nodes2)\n",
    "        return B"
   ]
  },
  {
   "cell_type": "markdown",
   "metadata": {},
   "source": [
    "# 【問題7】最適化手法\n",
    "学習率は学習過程で変化させていく方法が一般的です。基本的な手法である AdaGrad のクラスを作成してください。\n",
    "\n",
    "\n",
    "まず、これまで使ってきたSGDを確認します。"
   ]
  },
  {
   "cell_type": "code",
   "execution_count": 574,
   "metadata": {},
   "outputs": [],
   "source": [
    "class AdaGrad:\n",
    "    \"\"\"\n",
    "    AdaGrad\n",
    "    Parameters\n",
    "    ----------\n",
    "    lr : 学習率\n",
    "    \"\"\"\n",
    "    def __init__(self, lr):\n",
    "        self.lr = lr\n",
    "    def update(self, B, W, dB, dW, H_B, H_W, size=None):\n",
    "        \"\"\"\n",
    "        ある層の重みやバイアスの更新\n",
    "        Parameters\n",
    "        ----------\n",
    "        \"\"\" \n",
    "        B -= self.lr*dB/size/(np.sqrt(H_B) + 1E-1)\n",
    "        W -= self.lr*dW/size/(np.sqrt(H_W) + 1E-1)\n",
    "        \n",
    "#         print(\"adagrad\")\n",
    "#         print(\"dB\", dB)\n",
    "#         print(\"H_B\", H_B)\n",
    "#         print(\"np.sqrt(H_B)\", np.sqrt(H_B))\n",
    "#         print(\"dW\", dW)\n",
    "#         print(\"H_W\", H_W)\n",
    "#         print(\"np.sqrt(H_W)\", np.sqrt(H_W))\n",
    "#         print(\"adagrad\", )\n",
    "#         print(\"\", )\n",
    "        \n",
    "        return B, W"
   ]
  },
  {
   "cell_type": "markdown",
   "metadata": {},
   "source": [
    "# 【問題8】クラスの完成\n",
    "任意の構成で学習と推定が行えるScratchDeepNeuralNetrowkClassifierクラスを完成させてください。"
   ]
  },
  {
   "cell_type": "markdown",
   "metadata": {},
   "source": [
    "# 【問題9】学習と推定\n",
    "層の数や活性化関数を変えたいくつかのネットワークを作成してください。そして、MNISTのデータを学習・推定し、Accuracyを計算してください。"
   ]
  },
  {
   "cell_type": "code",
   "execution_count": 531,
   "metadata": {},
   "outputs": [],
   "source": [
    "# データロード\n",
    "from tensorflow.keras.datasets import mnist\n",
    "(X_train, y_train), (X_test, y_test) = mnist.load_data()\n",
    "\n",
    "# 平滑化\n",
    "X_train = X_train.reshape(-1, 784)\n",
    "X_test = X_test.reshape(-1, 784)\n",
    "\n",
    "# 正規化\n",
    "X_train = X_train.astype(np.float)\n",
    "X_test = X_test.astype(np.float)\n",
    "X_train /= 255\n",
    "X_test /= 255\n",
    "\n",
    "#分割\n",
    "X_train, X_val, y_train, y_val = train_test_split(X_train, y_train, test_size=0.2)\n",
    "\n",
    "# one_hot化\n",
    "from sklearn.preprocessing import OneHotEncoder\n",
    "enc = OneHotEncoder(handle_unknown='ignore', sparse=False)\n",
    "y_train_one_hot = enc.fit_transform(y_train[:, np.newaxis])\n",
    "y_val_one_hot = enc.fit_transform(y_val[:, np.newaxis])\n",
    "y_test_one_hot = enc.transform(y_test[:, np.newaxis])"
   ]
  },
  {
   "cell_type": "code",
   "execution_count": 552,
   "metadata": {
    "scrolled": false
   },
   "outputs": [
    {
     "name": "stdout",
     "output_type": "stream",
     "text": [
      "エポック1\n",
      "2400回目の学習\n",
      "エポック2\n",
      "2400回目の学習\n",
      "エポック3\n",
      "2400回目の学習\n",
      "エポック4\n",
      "2400回目の学習\n",
      "エポック5\n",
      "2400回目の学習\n",
      "エポック6\n",
      "2400回目の学習\n",
      "エポック7\n",
      "2400回目の学習\n",
      "エポック8\n",
      "2400回目の学習\n",
      "エポック9\n",
      "2400回目の学習\n",
      "エポック10\n",
      "2400回目の学習\n"
     ]
    }
   ],
   "source": [
    "# RelU, He, AdaGrad\n",
    "layer_act = {\"FC1\":\"ACT1\", \"FC2\":\"ACT2\", \"FC3\":\"ACT3\"}\n",
    "sdnn = ScratchDeepNeuralNetrowkClassifier(epoch_count=10, layer_act=layer_act, n_nodes=(400, 200), lr=0.01,\n",
    "                                          layer_type=FC, activation=ReLU, initializer=He, optimizer=AdaGrad, sigma=None)\n",
    "sdnn.fit(X_train, y_train_one_hot, X_val, y_val_one_hot)"
   ]
  },
  {
   "cell_type": "code",
   "execution_count": 553,
   "metadata": {
    "scrolled": true
   },
   "outputs": [
    {
     "name": "stdout",
     "output_type": "stream",
     "text": [
      "正解率：0.9759166666666667\n"
     ]
    },
    {
     "data": {
      "image/png": "[encoded data removed]",
      "text/plain": [
       "<Figure size 432x288 with 1 Axes>"
      ]
     },
     "metadata": {
      "needs_background": "light"
     },
     "output_type": "display_data"
    }
   ],
   "source": [
    "# 推定　→　Accuracy\n",
    "y_pred = sdnn.predict(X_val)\n",
    "print(\"正解率：{}\".format(accuracy_score(y_val, y_pred)))\n",
    "# 学習曲線\n",
    "plt.plot(sdnn.train_loss, label='train')\n",
    "plt.plot(sdnn.val_loss, label='val')\n",
    "plt.xlabel('epoch')\n",
    "plt.ylabel('loss')\n",
    "plt.title('Learning curve / ReLU, He, AdaGrad')\n",
    "plt.legend()\n",
    "plt.show()"
   ]
  },
  {
   "cell_type": "code",
   "execution_count": 554,
   "metadata": {},
   "outputs": [
    {
     "name": "stdout",
     "output_type": "stream",
     "text": [
      "エポック1\n",
      "2400回目の学習\n",
      "エポック2\n",
      "2400回目の学習\n",
      "エポック3\n",
      "2400回目の学習\n",
      "エポック4\n",
      "2400回目の学習\n",
      "エポック5\n",
      "2400回目の学習\n",
      "エポック6\n",
      "2400回目の学習\n",
      "エポック7\n",
      "2400回目の学習\n",
      "エポック8\n",
      "2400回目の学習\n",
      "エポック9\n",
      "2400回目の学習\n",
      "エポック10\n",
      "2400回目の学習\n"
     ]
    }
   ],
   "source": [
    "# ReLU, He, SGD\n",
    "layer_act = {\"FC1\":\"ACT1\", \"FC2\":\"ACT2\", \"FC3\":\"ACT3\"}\n",
    "sdnn_relu_sgd = ScratchDeepNeuralNetrowkClassifier(epoch_count=10, layer_act=layer_act, n_nodes=(400, 200), lr=0.01,\n",
    "                                          layer_type=FC, activation=ReLU, initializer=He, optimizer=SGD, sigma=None)\n",
    "sdnn_relu_sgd.fit(X_train, y_train_one_hot, X_val, y_val_one_hot)"
   ]
  },
  {
   "cell_type": "code",
   "execution_count": 555,
   "metadata": {},
   "outputs": [
    {
     "name": "stdout",
     "output_type": "stream",
     "text": [
      "正解率：0.9799166666666667\n"
     ]
    },
    {
     "data": {
      "image/png": "[encoded data removed]",
      "text/plain": [
       "<Figure size 432x288 with 1 Axes>"
      ]
     },
     "metadata": {
      "needs_background": "light"
     },
     "output_type": "display_data"
    }
   ],
   "source": [
    "# 推定　→　Accuracy\n",
    "y_pred = sdnn_relu_sgd.predict(X_val)\n",
    "print(\"正解率：{}\".format(accuracy_score(y_val, y_pred)))\n",
    "# 学習曲線\n",
    "plt.plot(sdnn_relu_sgd.train_loss, label='train')\n",
    "plt.plot(sdnn_relu_sgd.val_loss, label='val')\n",
    "plt.xlabel('epoch')\n",
    "plt.ylabel('loss')\n",
    "plt.title('Learning curve / ReLU, He, SGD')\n",
    "plt.legend()\n",
    "plt.show()"
   ]
  },
  {
   "cell_type": "code",
   "execution_count": 534,
   "metadata": {},
   "outputs": [
    {
     "name": "stdout",
     "output_type": "stream",
     "text": [
      "エポック1\n",
      "2400回目の学習\n",
      "エポック2\n",
      "2400回目の学習\n",
      "エポック3\n",
      "2400回目の学習\n",
      "エポック4\n",
      "2400回目の学習\n",
      "エポック5\n",
      "2400回目の学習\n",
      "エポック6\n",
      "2400回目の学習\n",
      "エポック7\n",
      "2400回目の学習\n",
      "エポック8\n",
      "2400回目の学習\n",
      "エポック9\n",
      "2400回目の学習\n",
      "エポック10\n",
      "2400回目の学習\n"
     ]
    }
   ],
   "source": [
    "# Tanh, Xavier, AdaGrad\n",
    "layer_act = {\"FC1\":\"ACT1\", \"FC2\":\"ACT2\", \"FC3\":\"ACT3\"}\n",
    "sdnn_tanh = ScratchDeepNeuralNetrowkClassifier(epoch_count=10, layer_act=layer_act, n_nodes=(400, 200), lr=0.01,\n",
    "                                          layer_type=FC, activation=Tanh, initializer=Xavier, optimizer=AdaGrad, sigma=None)\n",
    "sdnn_tanh.fit(X_train, y_train_one_hot, X_val, y_val_one_hot)"
   ]
  },
  {
   "cell_type": "code",
   "execution_count": 537,
   "metadata": {},
   "outputs": [
    {
     "name": "stdout",
     "output_type": "stream",
     "text": [
      "正解率：0.9676666666666667\n"
     ]
    },
    {
     "data": {
      "image/png": "[encoded data removed]",
      "text/plain": [
       "<Figure size 432x288 with 1 Axes>"
      ]
     },
     "metadata": {
      "needs_background": "light"
     },
     "output_type": "display_data"
    }
   ],
   "source": [
    "# 推定　→　Accuracy\n",
    "y_pred = sdnn_tanh.predict(X_val)\n",
    "print(\"正解率：{}\".format(accuracy_score(y_val, y_pred)))\n",
    "# 学習曲線\n",
    "plt.plot(sdnn_tanh.train_loss, label='train')\n",
    "plt.plot(sdnn_tanh.val_loss, label='val')\n",
    "plt.xlabel('epoch')\n",
    "plt.ylabel('loss')\n",
    "plt.title('Learning curve / Tanh, Xavier, AdaGrad')\n",
    "plt.legend()\n",
    "plt.show()"
   ]
  },
  {
   "cell_type": "code",
   "execution_count": 544,
   "metadata": {},
   "outputs": [
    {
     "name": "stdout",
     "output_type": "stream",
     "text": [
      "エポック1\n",
      "2400回目の学習\n",
      "エポック2\n",
      "2400回目の学習\n",
      "エポック3\n",
      "2400回目の学習\n",
      "エポック4\n",
      "2400回目の学習\n",
      "エポック5\n",
      "2400回目の学習\n",
      "エポック6\n",
      "2400回目の学習\n",
      "エポック7\n",
      "2400回目の学習\n",
      "エポック8\n",
      "2400回目の学習\n",
      "エポック9\n",
      "2400回目の学習\n",
      "エポック10\n",
      "2400回目の学習\n"
     ]
    }
   ],
   "source": [
    "# Tanh, Xavier, SGD\n",
    "layer_act = {\"FC1\":\"ACT1\", \"FC2\":\"ACT2\", \"FC3\":\"ACT3\"}\n",
    "sdnn_tanh_sgd = ScratchDeepNeuralNetrowkClassifier(epoch_count=10, layer_act=layer_act, n_nodes=(400, 200), lr=0.01,\n",
    "                                          layer_type=FC, activation=Tanh, initializer=Xavier, optimizer=SGD, sigma=None)\n",
    "sdnn_tanh_sgd.fit(X_train, y_train_one_hot, X_val, y_val_one_hot)"
   ]
  },
  {
   "cell_type": "code",
   "execution_count": 545,
   "metadata": {},
   "outputs": [
    {
     "name": "stdout",
     "output_type": "stream",
     "text": [
      "正解率：0.976\n"
     ]
    },
    {
     "data": {
      "image/png": "[encoded data removed]",
      "text/plain": [
       "<Figure size 432x288 with 1 Axes>"
      ]
     },
     "metadata": {
      "needs_background": "light"
     },
     "output_type": "display_data"
    }
   ],
   "source": [
    "# 推定　→　Accuracy\n",
    "y_pred = sdnn_tanh_sgd.predict(X_val)\n",
    "print(\"正解率：{}\".format(accuracy_score(y_val, y_pred)))\n",
    "# 学習曲線\n",
    "plt.plot(sdnn_tanh_sgd.train_loss, label='train')\n",
    "plt.plot(sdnn_tanh_sgd.val_loss, label='val')\n",
    "plt.xlabel('epoch')\n",
    "plt.ylabel('loss')\n",
    "plt.title('Learning curve / Tanh, Xavier, SGD')\n",
    "plt.legend()\n",
    "plt.show()"
   ]
  },
  {
   "cell_type": "code",
   "execution_count": null,
   "metadata": {},
   "outputs": [],
   "source": []
  }
 ],
 "metadata": {
  "kernelspec": {
   "display_name": "Python 3",
   "language": "python",
   "name": "python3"
  },
  "language_info": {
   "codemirror_mode": {
    "name": "ipython",
    "version": 3
   },
   "file_extension": ".py",
   "mimetype": "text/x-python",
   "name": "python",
   "nbconvert_exporter": "python",
   "pygments_lexer": "ipython3",
   "version": "3.7.3"
  }
 },
 "nbformat": 4,
 "nbformat_minor": 2
}
