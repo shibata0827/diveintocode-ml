{
 "cells": [
  {
   "cell_type": "markdown",
   "metadata": {},
   "source": [
    "# 【問題1】行列積を手計算する\n",
    "AとBの行列積を手計算で解いてください。\n",
    "\n",
    "計算過程もマークダウンテキストを用いて説明してください。"
   ]
  },
  {
   "cell_type": "code",
   "execution_count": 11,
   "metadata": {},
   "outputs": [
    {
     "data": {
      "text/plain": [
       "array([[  6,  29, -29],\n",
       "       [ 12,  52,  38],\n",
       "       [-18, -51, -48]])"
      ]
     },
     "execution_count": 11,
     "metadata": {},
     "output_type": "execute_result"
    }
   ],
   "source": [
    "ans = np.array([[6, 29, -29], [12, 52, 38], [-18, -51, -48]])\n",
    "ans"
   ]
  },
  {
   "cell_type": "markdown",
   "metadata": {},
   "source": [
    "計算手順は、a_ndarrayの各行とb_ndarrayの各列の積\n",
    "\n",
    "答えをnp.array([[a, b, c], [d, e, f], [g, h, i]])とすると答えは下記。\n",
    "\n",
    "$$a = -1*0 + 2*0 + 3*2$$\n",
    "$$b = -1*2 + 2*2 + 3*9$$\n",
    "$$c = -1*1 + 2*-8 + 3*-1$$\n",
    "$$d = 4*0 - 5*0 + 6*2$$\n",
    "$$e = 4*2 - 5*2 + 6*9$$\n",
    "$$f = 4*1 - 5*-8 + 6*-1$$\n",
    "$$g = 7*0 + 8*0 - 9*2$$\n",
    "$$h = 7*2 + 8*2 - 9*9$$\n",
    "$$i = 7*1 + 8*-8 - 9*-1$$"
   ]
  },
  {
   "cell_type": "markdown",
   "metadata": {},
   "source": [
    "# 【問題2】NumPyの関数による計算\n",
    "この行列積はNumPyのnp.matmul()やnp.dot()、または@演算子を使うことで簡単に計算できます。\n",
    "\n",
    "これらを使い行列積を計算してください。\n",
    "\n",
    "numpy.matmul — NumPy v1.16 Manual\n",
    "\n",
    "numpy.dot — NumPy v1.16 Manual"
   ]
  },
  {
   "cell_type": "code",
   "execution_count": 9,
   "metadata": {},
   "outputs": [
    {
     "data": {
      "text/plain": [
       "array([[  6,  29, -20],\n",
       "       [ 12,  52,  38],\n",
       "       [-18, -51, -48]])"
      ]
     },
     "execution_count": 9,
     "metadata": {},
     "output_type": "execute_result"
    }
   ],
   "source": [
    "import numpy as np\n",
    "a_ndarray = np.array([[-1, 2, 3], [4, -5, 6], [7, 8, -9]])\n",
    "b_ndarray = np.array([[0, 2, 1], [0, 2, -8], [2, 9, -1]])\n",
    "\n",
    "a_ndarray.dot(b_ndarray)"
   ]
  },
  {
   "cell_type": "markdown",
   "metadata": {},
   "source": [
    "# 【問題3】ある要素の計算を実装\n",
    "手計算をする際はまず行列Aの0行目と行列Bの0列目に注目し、以下の計算を行ったかと思います。\n",
    "\n",
    "$・行列Aの(0,0)の要素 a_{0,0}と行列Bの(0,0)の要素b_{0,0}を掛け合わせる$\n",
    "$・行列Aの(0,1)の要素a_{0,1}と行列Bの(1,0)の要素b_{1,0}を掛け合わせる$\n",
    "$・行列Aの(0,2)の要素a_{0,2}と行列Bの(2,0)の要素b_{2,0}を掛け合わせる$\n",
    "$・それらの値を全て足し合わせる$\n",
    "\n",
    "数式で表すと\n",
    "$$\n",
    "\\sum_{ k = 0 }^{ 2 } a_{0,k}b_{k,0}\n",
    "$$\n",
    "です。\n",
    "\n",
    "この計算をnp.matmul()やnp.dot()、または@演算子を使わずに行うコードを書いてください。"
   ]
  },
  {
   "cell_type": "code",
   "execution_count": 65,
   "metadata": {},
   "outputs": [
    {
     "name": "stdout",
     "output_type": "stream",
     "text": [
      "6\n"
     ]
    }
   ],
   "source": [
    "ans_element = (a_ndarray[0, :]*b_ndarray[:, 0]).sum()\n",
    "print(ans_element)"
   ]
  },
  {
   "cell_type": "markdown",
   "metadata": {},
   "source": [
    "# 【問題4】行列積を行う関数の作成\n",
    "問題3のコードを拡張し、行列積のスクラッチ実装を完成させてください。行列AとBを引数に受け取り、行列積を返す関数としてください。\n",
    "\n",
    "行列積を計算する場合は、問題3の計算を異なる行や列に対して繰り返していくことになります。\n",
    "\n",
    "計算結果である3×3の行列Cの各要素$c_{i,j}$は数式で表すと次のようになります。\n",
    "$$\n",
    "c_{i,j}=\\sum_{ k = 0 }^{ 2 } a_{i,k}b_{k,j}\n",
    "$$"
   ]
  },
  {
   "cell_type": "code",
   "execution_count": 124,
   "metadata": {},
   "outputs": [],
   "source": [
    "def matrix_product(a, b):\n",
    "    \n",
    "    \n",
    "    ans = np.zeros((a.shape))\n",
    "    \n",
    "    for i in range(a.shape[0]):\n",
    "        for j in range(b.shape[1]):\n",
    "            ans[i, j] = (a[i, :]*b[:, j]).sum()\n",
    "            \n",
    "    # 整数変換して出力\n",
    "    return ans.astype(np.int64)"
   ]
  },
  {
   "cell_type": "code",
   "execution_count": 125,
   "metadata": {},
   "outputs": [
    {
     "data": {
      "text/plain": [
       "array([[  6,  29, -20],\n",
       "       [ 12,  52,  38],\n",
       "       [-18, -51, -48]])"
      ]
     },
     "execution_count": 125,
     "metadata": {},
     "output_type": "execute_result"
    }
   ],
   "source": [
    "matrix_product(a_ndarray, b_ndarray)"
   ]
  },
  {
   "cell_type": "markdown",
   "metadata": {},
   "source": [
    "# 【問題5】計算が定義されない入力を判定する\n",
    "問題4で作成した関数は、実装方法によってはこのDとEの配列を入力しても動いてしまう可能性があります。この場合、不適切な計算が行われることになります。また、途中でエラーになる場合でも、なぜエラーになったかが直接的には分かりづらいメッセージが表示されます。\n",
    "\n",
    "if文などによってこれを防ぎ、入力される形に問題があることをprint()を使い表示するコードを書き加えてください。"
   ]
  },
  {
   "cell_type": "code",
   "execution_count": 126,
   "metadata": {},
   "outputs": [],
   "source": [
    "def matrix_product_fix(a, b):\n",
    "    \n",
    "    \n",
    "    ans = np.zeros((a.shape[0], b.shape[1]))\n",
    "    \n",
    "    \n",
    "    if a.shape[1] != b.shape[0]:\n",
    "        print('入力される形に問題があります。')\n",
    "    \n",
    "    else:        \n",
    "        for i in range(a.shape[0]):\n",
    "            for j in range(b.shape[1]):\n",
    "                ans[i, j] = (a[i, :]*b[:, j]).sum()\n",
    "            \n",
    "        # 整数変換して出力\n",
    "        return ans.astype(np.int64)"
   ]
  },
  {
   "cell_type": "code",
   "execution_count": 127,
   "metadata": {},
   "outputs": [
    {
     "data": {
      "text/plain": [
       "array([[  6,  29, -20],\n",
       "       [ 12,  52,  38],\n",
       "       [-18, -51, -48]])"
      ]
     },
     "execution_count": 127,
     "metadata": {},
     "output_type": "execute_result"
    }
   ],
   "source": [
    "matrix_product_fix(a_ndarray, b_ndarray)"
   ]
  },
  {
   "cell_type": "code",
   "execution_count": 128,
   "metadata": {},
   "outputs": [
    {
     "name": "stdout",
     "output_type": "stream",
     "text": [
      "入力される形に問題があります。\n"
     ]
    }
   ],
   "source": [
    "# 入力に問題がある場合の例\n",
    "d = np.array([[-1, 2, 3], [4, -5, 6]])\n",
    "e = np.array([[-9, 8, 7], [6, -5, 4]])\n",
    "matrix_product_fix(d, e)"
   ]
  },
  {
   "cell_type": "markdown",
   "metadata": {},
   "source": [
    "# 【問題6】転置\n",
    "片方の行列を転置することで、行列積が計算できるようになります。\n",
    "\n",
    "np.transpose()や.Tアトリビュートを用いて転置し、行列積を計算してください。"
   ]
  },
  {
   "cell_type": "code",
   "execution_count": 129,
   "metadata": {},
   "outputs": [
    {
     "data": {
      "text/plain": [
       "array([[ 46,  -4],\n",
       "       [-34,  73]])"
      ]
     },
     "execution_count": 129,
     "metadata": {},
     "output_type": "execute_result"
    }
   ],
   "source": [
    "matrix_product_fix(d, e.T)"
   ]
  },
  {
   "cell_type": "code",
   "execution_count": null,
   "metadata": {},
   "outputs": [],
   "source": []
  }
 ],
 "metadata": {
  "kernelspec": {
   "display_name": "Python 3",
   "language": "python",
   "name": "python3"
  },
  "language_info": {
   "codemirror_mode": {
    "name": "ipython",
    "version": 3
   },
   "file_extension": ".py",
   "mimetype": "text/x-python",
   "name": "python",
   "nbconvert_exporter": "python",
   "pygments_lexer": "ipython3",
   "version": "3.7.3"
  }
 },
 "nbformat": 4,
 "nbformat_minor": 2
}
