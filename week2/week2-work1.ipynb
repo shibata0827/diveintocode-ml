{
 "cells": [
  {
   "cell_type": "markdown",
   "metadata": {},
   "source": [
    "# 【問題1】2×2マスのチェス盤の小麦の数\n",
    "2×2マスのチェス盤をndarrayによって表現し、各マスの小麦の数を計算してください。左上のマスに小麦を1つ置いた後、その右が2つ、左下が4つ、右下が8つという風に進みます。\n",
    "\n",
    "サンプルコードで作成したndarrayのshapeの変形を行ってください。"
   ]
  },
  {
   "cell_type": "code",
   "execution_count": 94,
   "metadata": {},
   "outputs": [
    {
     "name": "stdout",
     "output_type": "stream",
     "text": [
      "4マスの板に小麦を並べる（リスト）：[1, 2, 4, 8]\n"
     ]
    }
   ],
   "source": [
    "n_squares = 4\n",
    "small_board_list = [1]\n",
    "for _ in range(n_squares - 1):\n",
    "    small_board_list.append(2*small_board_list[-1])\n",
    "print(\"4マスの板に小麦を並べる（リスト）：{}\".format(small_board_list))"
   ]
  },
  {
   "cell_type": "code",
   "execution_count": 95,
   "metadata": {},
   "outputs": [
    {
     "name": "stdout",
     "output_type": "stream",
     "text": [
      "4マスの板に小麦を並べる（ndarray）：[1 2 4 8]\n"
     ]
    }
   ],
   "source": [
    "import numpy as np\n",
    "\n",
    "small_board_ndarray = np.array(small_board_list)\n",
    "print(\"4マスの板に小麦を並べる（ndarray）：{}\".format(small_board_ndarray))"
   ]
  },
  {
   "cell_type": "code",
   "execution_count": 96,
   "metadata": {},
   "outputs": [
    {
     "name": "stdout",
     "output_type": "stream",
     "text": [
      "[[1 2]\n",
      " [4 8]]\n"
     ]
    }
   ],
   "source": [
    "# ndarray２×2で表現\n",
    "reshape_small_board_ndarray = small_board_ndarray.reshape(2, 2)\n",
    "print(reshape_small_board_ndarray)"
   ]
  },
  {
   "cell_type": "markdown",
   "metadata": {},
   "source": [
    "# 【問題2】n×mマスへの拡張\n",
    "n×mマスのチェス盤の小麦の数を記したndarrayを返す関数を作成してください。そして、この関数を使い8×8マスのチェス盤の小麦の数を求めてください。"
   ]
  },
  {
   "cell_type": "code",
   "execution_count": 125,
   "metadata": {},
   "outputs": [],
   "source": [
    "def komugi_num(n, m):\n",
    "    n_squares = n * m\n",
    "    small_board_list = [1]\n",
    "    for _ in range(n_squares - 1):\n",
    "        small_board_list.append(2*small_board_list[-1])\n",
    "    \n",
    "    small_board_ndarray = np.array(small_board_list)\n",
    "    \n",
    "    reshape_small_board_ndarray = small_board_ndarray.reshape(n, m)\n",
    "    print(reshape_small_board_ndarray)\n",
    "    \n",
    "    return reshape_small_board_ndarray"
   ]
  },
  {
   "cell_type": "code",
   "execution_count": 268,
   "metadata": {},
   "outputs": [
    {
     "name": "stdout",
     "output_type": "stream",
     "text": [
      "[[1.0000000000000000e+00 2.0000000000000000e+00 4.0000000000000000e+00\n",
      "  8.0000000000000000e+00 1.6000000000000000e+01 3.2000000000000000e+01\n",
      "  6.4000000000000000e+01 1.2800000000000000e+02]\n",
      " [2.5600000000000000e+02 5.1200000000000000e+02 1.0240000000000000e+03\n",
      "  2.0480000000000000e+03 4.0960000000000000e+03 8.1920000000000000e+03\n",
      "  1.6384000000000000e+04 3.2768000000000000e+04]\n",
      " [6.5536000000000000e+04 1.3107200000000000e+05 2.6214400000000000e+05\n",
      "  5.2428800000000000e+05 1.0485760000000000e+06 2.0971520000000000e+06\n",
      "  4.1943040000000000e+06 8.3886080000000000e+06]\n",
      " [1.6777216000000000e+07 3.3554432000000000e+07 6.7108864000000000e+07\n",
      "  1.3421772800000000e+08 2.6843545600000000e+08 5.3687091200000000e+08\n",
      "  1.0737418240000000e+09 2.1474836480000000e+09]\n",
      " [4.2949672960000000e+09 8.5899345920000000e+09 1.7179869184000000e+10\n",
      "  3.4359738368000000e+10 6.8719476736000000e+10 1.3743895347200000e+11\n",
      "  2.7487790694400000e+11 5.4975581388800000e+11]\n",
      " [1.0995116277760000e+12 2.1990232555520000e+12 4.3980465111040000e+12\n",
      "  8.7960930222080000e+12 1.7592186044416000e+13 3.5184372088832000e+13\n",
      "  7.0368744177664000e+13 1.4073748835532800e+14]\n",
      " [2.8147497671065600e+14 5.6294995342131200e+14 1.1258999068426240e+15\n",
      "  2.2517998136852480e+15 4.5035996273704960e+15 9.0071992547409920e+15\n",
      "  1.8014398509481984e+16 3.6028797018963968e+16]\n",
      " [7.2057594037927936e+16 1.4411518807585587e+17 2.8823037615171174e+17\n",
      "  5.7646075230342349e+17 1.1529215046068470e+18 2.3058430092136940e+18\n",
      "  4.6116860184273879e+18 9.2233720368547758e+18]]\n"
     ]
    }
   ],
   "source": [
    "#8×8マスのチェス盤での小麦の数\n",
    "\n",
    "chess = komugi_num(8, 8)"
   ]
  },
  {
   "cell_type": "markdown",
   "metadata": {},
   "source": [
    "# 【問題3】小麦の数の合計\n",
    "8×8マスのチェス盤の小麦の数の合計を求めてください。また、各列の平均を求め、それを棒グラフで可視化してください。\n",
    "\n",
    "棒グラフはサンプルコードを用意しています。"
   ]
  },
  {
   "cell_type": "code",
   "execution_count": 269,
   "metadata": {
    "scrolled": true
   },
   "outputs": [
    {
     "name": "stdout",
     "output_type": "stream",
     "text": [
      "チェス盤の小麦の合計：18446744073709551616粒\n"
     ]
    }
   ],
   "source": [
    "# チェス盤の小麦の合計\n",
    "total_komugi = chess.sum()\n",
    "print('チェス盤の小麦の合計：%d粒' %total_komugi)"
   ]
  },
  {
   "cell_type": "code",
   "execution_count": 270,
   "metadata": {},
   "outputs": [
    {
     "data": {
      "image/png": "[encoded data removed]",
      "text/plain": [
       "<Figure size 432x288 with 1 Axes>"
      ]
     },
     "metadata": {
      "needs_background": "light"
     },
     "output_type": "display_data"
    }
   ],
   "source": [
    "# 各列の平均を求め、それを棒グラフで可視化\n",
    "import matplotlib.pyplot as plt\n",
    "%matplotlib inline\n",
    "\n",
    "plt.xlabel(\"column\")\n",
    "plt.ylabel(\"number\")\n",
    "plt.title(\"number in each column\")\n",
    "plt.bar(np.arange(1,9), chess.sum(0))\n",
    "plt.show()"
   ]
  },
  {
   "cell_type": "markdown",
   "metadata": {},
   "source": [
    "# 【問題4】小麦の数のヒートマップ\n",
    "8×8マスのチェス盤の小麦の数をヒートマップとして可視化してください。"
   ]
  },
  {
   "cell_type": "code",
   "execution_count": 271,
   "metadata": {},
   "outputs": [
    {
     "data": {
      "image/png": "[encoded data removed]",
      "text/plain": [
       "<Figure size 432x288 with 2 Axes>"
      ]
     },
     "metadata": {
      "needs_background": "light"
     },
     "output_type": "display_data"
    }
   ],
   "source": [
    "plt.xlabel(\"column\")\n",
    "plt.ylabel(\"row\")\n",
    "plt.title(\"heatmap\")\n",
    "plt.pcolor(chess)\n",
    "plt.colorbar()\n",
    "plt.gca().invert_yaxis()\n",
    "plt.show()"
   ]
  },
  {
   "cell_type": "markdown",
   "metadata": {},
   "source": [
    "# 【問題5】後半は前半の何倍か\n",
    "チェス盤の後半にある小麦の数は前半にある小麦の数の何倍かを求めてください。前半とは配列の0から3行目、後半は4から7行目です。"
   ]
  },
  {
   "cell_type": "code",
   "execution_count": 272,
   "metadata": {},
   "outputs": [
    {
     "name": "stdout",
     "output_type": "stream",
     "text": [
      "前半の小麦は：4294967295.0粒\n",
      "前半の小麦は：18446744069414584320粒\n",
      "後半の数は前半の4294967296.0倍\n"
     ]
    }
   ],
   "source": [
    "# チェスの前半\n",
    "chess_first_half = chess[:round(len(chess)/2), :]\n",
    "\n",
    "# チェスの後半\n",
    "chess_second_half = chess[round(len(chess)/2):, :]\n",
    "\n",
    "print('前半の小麦は：{}粒'.format(chess_first_half.sum()))\n",
    "print('前半の小麦は：%d粒' %chess_second_half.sum())\n",
    "print('後半の数は前半の{:.1f}倍'.format(chess_second_half.sum() / chess_first_half.sum()))"
   ]
  },
  {
   "cell_type": "markdown",
   "metadata": {},
   "source": [
    "# 【問題6】他の計算方法によるn×mマスへの拡張\n",
    "問題2と同様の「n×mマスのチェス盤の小麦の数を記したndarrayを返す関数」を、np.append()を使ったものと、ブロードキャストを使ったもので新たに作成してください。\n",
    "\n",
    "それらの関数を使い8×8マスのチェス盤の小麦の数を再び求めてください。"
   ]
  },
  {
   "cell_type": "code",
   "execution_count": 273,
   "metadata": {},
   "outputs": [],
   "source": [
    "def komugi_num_other(n, m):\n",
    "    \n",
    "    n_squares = n * m\n",
    "    indices_of_squares = np.arange(n_squares).astype(np.uint64)\n",
    "    board_ndarray = 2**indices_of_squares\n",
    "    \n",
    "    reshape_board_ndarray = board_ndarray.reshape(n, m)\n",
    "    print(reshape_board_ndarray)\n",
    "    \n",
    "    return reshape_board_ndarray"
   ]
  },
  {
   "cell_type": "code",
   "execution_count": 274,
   "metadata": {},
   "outputs": [
    {
     "name": "stdout",
     "output_type": "stream",
     "text": [
      "[[                  1                   2                   4\n",
      "                    8                  16                  32\n",
      "                   64                 128]\n",
      " [                256                 512                1024\n",
      "                 2048                4096                8192\n",
      "                16384               32768]\n",
      " [              65536              131072              262144\n",
      "               524288             1048576             2097152\n",
      "              4194304             8388608]\n",
      " [           16777216            33554432            67108864\n",
      "            134217728           268435456           536870912\n",
      "           1073741824          2147483648]\n",
      " [         4294967296          8589934592         17179869184\n",
      "          34359738368         68719476736        137438953472\n",
      "         274877906944        549755813888]\n",
      " [      1099511627776       2199023255552       4398046511104\n",
      "        8796093022208      17592186044416      35184372088832\n",
      "       70368744177664     140737488355328]\n",
      " [    281474976710656     562949953421312    1125899906842624\n",
      "     2251799813685248    4503599627370496    9007199254740992\n",
      "    18014398509481984   36028797018963968]\n",
      " [  72057594037927936  144115188075855872  288230376151711744\n",
      "   576460752303423488 1152921504606846976 2305843009213693952\n",
      "  4611686018427387904 9223372036854775808]]\n"
     ]
    }
   ],
   "source": [
    "#8×8マスのチェス盤での小麦の数\n",
    "chess2 = komugi_num_other(8, 8)"
   ]
  },
  {
   "cell_type": "markdown",
   "metadata": {},
   "source": [
    "# 【問題7】計算時間の比較\n",
    "3種類の方法を見てきました。それぞれの計算時間をJupyter Notebookの%%timeitを用いて計測し、比較と考察を行ってください。\n",
    "\n",
    "%%timeitはセル内のコードを複数回実行し、その平均実行時間を出力する働きをします。"
   ]
  },
  {
   "cell_type": "code",
   "execution_count": 313,
   "metadata": {},
   "outputs": [
    {
     "name": "stdout",
     "output_type": "stream",
     "text": [
      "13.7 µs ± 368 ns per loop (mean ± std. dev. of 7 runs, 100000 loops each)\n"
     ]
    }
   ],
   "source": [
    "%%timeit\n",
    "\n",
    "# 問２の関数\n",
    "def komugi_num(n, m):\n",
    "    n_squares = n * m\n",
    "    small_board_list = [1]\n",
    "    for _ in range(n_squares - 1):\n",
    "        small_board_list.append(2*small_board_list[-1])\n",
    "    \n",
    "    small_board_ndarray = np.array(small_board_list)\n",
    "    \n",
    "    reshape_small_board_ndarray = small_board_ndarray.reshape(n, m)\n",
    "    \n",
    "    return reshape_small_board_ndarray\n",
    "\n",
    "test = komugi_num(8, 8)"
   ]
  },
  {
   "cell_type": "code",
   "execution_count": 314,
   "metadata": {},
   "outputs": [
    {
     "name": "stderr",
     "output_type": "stream",
     "text": [
      "/Users/user/anaconda3/lib/python3.7/site-packages/ipykernel_launcher.py:5: RuntimeWarning: overflow encountered in long_scalars\n",
      "  \"\"\"\n"
     ]
    },
    {
     "name": "stdout",
     "output_type": "stream",
     "text": [
      "226 µs ± 3.43 µs per loop (mean ± std. dev. of 7 runs, 1000 loops each)\n"
     ]
    }
   ],
   "source": [
    "%%timeit\n",
    "\n",
    "# サンプルコード（np.append()）\n",
    "n_squares = 64\n",
    "board_ndarray = np.array([1])\n",
    "for _ in range(n_squares - 1):\n",
    "    board_ndarray = np.append(board_ndarray, 2*board_ndarray[-1])\n",
    "\n",
    "board_ndarray_unit64 = board_ndarray.astype(np.uint64)"
   ]
  },
  {
   "cell_type": "code",
   "execution_count": 315,
   "metadata": {},
   "outputs": [
    {
     "name": "stdout",
     "output_type": "stream",
     "text": [
      "2.68 µs ± 91.1 ns per loop (mean ± std. dev. of 7 runs, 100000 loops each)\n"
     ]
    }
   ],
   "source": [
    "%%timeit\n",
    "\n",
    "# サンプルコード（ブロードキャスト）\n",
    "n_squares = 64\n",
    "indices_of_squares = np.arange(n_squares).astype(np.uint64)\n",
    "board_ndarray = 2**indices_of_squares"
   ]
  },
  {
   "cell_type": "markdown",
   "metadata": {},
   "source": [
    "* 比較と考察の記述  \n",
    "ブロードキャストを用いた方法が一番早く、ndarrayへのfor + appendが一番遅い。  \n",
    "ndarrayでの計算に加えforの繰り返しで計算コストが高くなる。  \n",
    "今回の場合、forプログラムで比較するとndarrya有りの方が無しに比べ１０倍計算に時間がかかっている。"
   ]
  },
  {
   "cell_type": "code",
   "execution_count": null,
   "metadata": {},
   "outputs": [],
   "source": []
  }
 ],
 "metadata": {
  "kernelspec": {
   "display_name": "Python 3",
   "language": "python",
   "name": "python3"
  },
  "language_info": {
   "codemirror_mode": {
    "name": "ipython",
    "version": 3
   },
   "file_extension": ".py",
   "mimetype": "text/x-python",
   "name": "python",
   "nbconvert_exporter": "python",
   "pygments_lexer": "ipython3",
   "version": "3.7.3"
  }
 },
 "nbformat": 4,
 "nbformat_minor": 2
}
