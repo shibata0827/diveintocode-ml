{
 "cells": [
  {
   "cell_type": "markdown",
   "metadata": {},
   "source": [
    "# 【問題1】富士山を超える最小の折る回数\n",
    "厚さが「富士山(3776m)」を超えるのは何回紙を折った時か計算するプログラムを作成してください。"
   ]
  },
  {
   "cell_type": "code",
   "execution_count": 72,
   "metadata": {},
   "outputs": [
    {
     "name": "stdout",
     "output_type": "stream",
     "text": [
      "おった回数は26回で富士を超えた\n"
     ]
    }
   ],
   "source": [
    "#問題1\n",
    "#for文を使用して作成　富士に到達するまでの回数は？\n",
    "\n",
    "high_fuji = 3776  #m\n",
    "THICKNESS  = 0.00008\n",
    "\n",
    "#とりあえず１００回\n",
    "for i in range( 100):\n",
    "    folded_thickness = THICKNESS *(2**i)\n",
    "    \n",
    "    #富士の高さを超えるときに出力して終わらせる\n",
    "    if folded_thickness >= high_fuji:\n",
    "        print('おった回数は{}回で富士を超えた'.format(i))\n",
    "        break\n"
   ]
  },
  {
   "cell_type": "markdown",
   "metadata": {},
   "source": [
    "# 【問題2】任意の厚さに対応した関数を作成\n",
    "距離を入力すると、何回折った時に超えるかを出力する関数を作成してください。引数として、折る前の厚さ t0も設定できるようにしましょう。\n",
    "\n",
    "この関数を利用して、「最も近い太陽以外の恒星」に到達するには紙を何回折る必要があるか計算してください。「最も近い太陽以外の恒星」の距離は調査してください。"
   ]
  },
  {
   "cell_type": "code",
   "execution_count": 73,
   "metadata": {},
   "outputs": [],
   "source": [
    "#問題２\n",
    "def calculate_planet_and_eairth(THICKNESS, planet_distance):\n",
    "    \n",
    "    \n",
    "    #とりあえず１００回\n",
    "    for i in range(100):\n",
    "        folded_thickness = THICKNESS * (2**i)\n",
    "        \n",
    "        #惑星との距離を超えるときに出力して終わらせる\n",
    "        if folded_thickness >= planet_distance:\n",
    "            print('おった回数は{}回で惑星を超えた'.format(i))\n",
    "            break"
   ]
  },
  {
   "cell_type": "code",
   "execution_count": 74,
   "metadata": {},
   "outputs": [
    {
     "name": "stdout",
     "output_type": "stream",
     "text": [
      "おった回数は69回で惑星を超えた\n"
     ]
    }
   ],
   "source": [
    "# 地球から最も近い太陽以外の恒星はプロキシマ・ケンタウリ、距離4.01513e+16メートル\n",
    "planet_distance = 4.01513e+16\n",
    "\n",
    "calculate_planet_and_eairth(0.00008, planet_distance)"
   ]
  },
  {
   "cell_type": "markdown",
   "metadata": {},
   "source": [
    "# 【問題3】必要な紙の長さ\n",
    "実際のところ身近にある紙は43回はおろか10回も折れません。しかし、大きな紙ほどたくさん折ることができ、トイレットペーパーのような長い紙を一方向に折ることを考えた時の折れる回数を求める公式が存在します。\n",
    "\n",
    "厚さ$t_0$の紙をn回折るために必要な紙の長さLは以下の公式で求まります。\n",
    "\n",
    "$$\n",
    "L = {\\frac{\\pi \\cdot t_0}{6}} \\cdot (2^n + 4) \\cdot (2^n - 1)\n",
    "$$\n",
    "\n",
    "この公式を利用して、実際に紙を折り任意の厚さに到達するために必要な紙の長さを求める関数を作成してください。\n",
    "\n",
    "そしてこれを使って「月」「富士山」「最も近い太陽以外の恒星」に届くために必要な紙の長さを求めてください。"
   ]
  },
  {
   "cell_type": "code",
   "execution_count": 128,
   "metadata": {},
   "outputs": [],
   "source": [
    "#問題３\n",
    "import math\n",
    "\n",
    "def length_of_paper(THICKNESS, distance):\n",
    "    \n",
    "    \n",
    "    #問題２の関数を使用し折る回数を算出、回数の変数をnに変更\n",
    "    for n in range(100):\n",
    "        folded_thickness = THICKNESS * (2**n)\n",
    "        if folded_thickness >= distance:\n",
    "            break\n",
    "    \n",
    "    #必要長さの計算\n",
    "    L = math.pi*THICKNESS/6*(2**n + 4)*(2**n - 1)\n",
    "    \n",
    "    print('%d回折るのに必要な紙の長さ：%dメートル' %(n, L))"
   ]
  },
  {
   "cell_type": "code",
   "execution_count": 129,
   "metadata": {},
   "outputs": [
    {
     "name": "stdout",
     "output_type": "stream",
     "text": [
      "43回折るのに必要な紙の長さ：3240919444170781229056メートル\n"
     ]
    }
   ],
   "source": [
    "# 月\n",
    "length_of_paper(0.00008, 384400*1000)"
   ]
  },
  {
   "cell_type": "code",
   "execution_count": 130,
   "metadata": {},
   "outputs": [
    {
     "name": "stdout",
     "output_type": "stream",
     "text": [
      "26回折るのに必要な紙の長さ：188646348487メートル\n"
     ]
    }
   ],
   "source": [
    "# 富士山\n",
    "length_of_paper(0.00008, 3776)"
   ]
  },
  {
   "cell_type": "code",
   "execution_count": 131,
   "metadata": {},
   "outputs": [
    {
     "name": "stdout",
     "output_type": "stream",
     "text": [
      "69回折るのに必要な紙の長さ：14595803601100347983589756318297096192メートル\n"
     ]
    }
   ],
   "source": [
    "# 地球から最も近い太陽以外の恒星プロキシマ・ケンタウリ\n",
    "length_of_paper(0.00008, planet_distance)"
   ]
  },
  {
   "cell_type": "code",
   "execution_count": null,
   "metadata": {},
   "outputs": [],
   "source": []
  }
 ],
 "metadata": {
  "kernelspec": {
   "display_name": "Python 3",
   "language": "python",
   "name": "python3"
  },
  "language_info": {
   "codemirror_mode": {
    "name": "ipython",
    "version": 3
   },
   "file_extension": ".py",
   "mimetype": "text/x-python",
   "name": "python",
   "nbconvert_exporter": "python",
   "pygments_lexer": "ipython3",
   "version": "3.7.3"
  }
 },
 "nbformat": 4,
 "nbformat_minor": 2
}
