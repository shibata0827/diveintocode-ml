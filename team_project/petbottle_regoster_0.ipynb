{
 "cells": [
  {
   "cell_type": "markdown",
   "metadata": {},
   "source": [
    "# product_imageのノイズないほうが分類が良い"
   ]
  },
  {
   "cell_type": "markdown",
   "metadata": {},
   "source": [
    "# 以下はラズパイのコード"
   ]
  },
  {
   "cell_type": "code",
   "execution_count": 1,
   "metadata": {},
   "outputs": [
    {
     "name": "stderr",
     "output_type": "stream",
     "text": [
      "Using TensorFlow backend.\n"
     ]
    }
   ],
   "source": [
    "from keras.preprocessing import image\n",
    "from keras.models import load_model\n",
    "from keras.preprocessing.image import img_to_array\n",
    "# import pygame.mixer\n",
    "import numpy as np\n",
    "import matplotlib.pyplot as plt\n",
    "# import picamera\n",
    "from PIL import Image\n",
    "import os\n",
    "from time import sleep"
   ]
  },
  {
   "cell_type": "markdown",
   "metadata": {},
   "source": [
    "# 有安コード（物体検出）"
   ]
  },
  {
   "cell_type": "code",
   "execution_count": 30,
   "metadata": {},
   "outputs": [],
   "source": [
    "############ 物体検出 ############\n",
    "from sklearn.cluster import KMeans\n",
    "import cv2\n",
    "def get_x_y_limit(Y, X, result, cluster):\n",
    "    NO = np.where(result==cluster)\n",
    "    x_max = np.max(X[NO])\n",
    "    x_min = np.min(X[NO])\n",
    "    y_max = np.max(Y[NO])\n",
    "    y_min = np.min(Y[NO])\n",
    "    x_max = int(x_max)\n",
    "    x_min = int(x_min)\n",
    "    y_max = int(y_max)\n",
    "    y_min = int(y_min)\n",
    "    return x_min, y_min, x_max, y_max\n",
    "def bounding_box(img, x_min, y_min, x_max, y_max):\n",
    "    img = cv2.rectangle(img, (x_min, y_min), (x_max, y_max), (0, 255, 0), 5)\n",
    "    truncated = img[y_min:y_max, x_min:x_max]\n",
    "    return img, truncated\n",
    "def objection_detect(background_image, product_image):\n",
    "    product_image = cv2.GaussianBlur(product_image, (5, 5), 0)    # ノイズなし？\n",
    "    fgbg = cv2.bgsegm.createBackgroundSubtractorMOG()\n",
    "    fgmask = fgbg.apply(np.uint8(background_image))\n",
    "    fgmask = fgbg.apply(np.uint8(product_image))\n",
    "    Y, X = np.where(fgmask > 200)\n",
    "    y = KMeans(n_clusters=1, random_state=0).fit_predict(np.array([X,Y]).T)\n",
    "    x_min, y_min, x_max, y_max = get_x_y_limit(Y, X, y, 0)\n",
    "    return bounding_box(product_image, x_min, y_min, x_max, y_max)\n",
    "background_image = cv2.imread(\"../../../../../Downloads/tes.jpeg\") # パスだけ差し替え予定\n",
    "background_image = cv2.GaussianBlur(background_image, (5, 5), 0)\n",
    "##################################"
   ]
  },
  {
   "cell_type": "markdown",
   "metadata": {},
   "source": [
    "# 柴田コード（分類）"
   ]
  },
  {
   "cell_type": "code",
   "execution_count": 15,
   "metadata": {},
   "outputs": [],
   "source": [
    "############ 商品分類（柴田） ############\n",
    "# テンプレート画像読み込み\n",
    "path = \"./example_pet-bottle-pic/temp\"    # パスだけ差し替え予定\n",
    "temp_files = os.listdir(path)\n",
    "temp_files = [files for files in temp_files if files.endswith(\"png\")]\n",
    "temp_data = []\n",
    "for n, data in enumerate(temp_files):\n",
    "    temp = cv2.imread(path + \"/\" + data)\n",
    "    temp = cv2.cvtColor(temp, cv2.COLOR_BGR2RGB)\n",
    "    temp_data.append(temp)\n",
    "    \n",
    "# 画像分類\n",
    "def classfiler(img, param=0.59, num=6):    # パラメータ調整必要\n",
    "    \"\"\"\n",
    "    SIFTを用いた画像分類\n",
    "    パラメーターとして以下を調整\n",
    "    param：最も近い点と2番目に近い点の距離の比率。\n",
    "    num：マッチした特徴点の数の下限\n",
    "    \"\"\"\n",
    "    # 画像マッチング\n",
    "    for temp, temp_file in zip(temp_data, temp_files):\n",
    "        #特徴抽出機の生成\n",
    "        detector = cv2.xfeatures2d.SIFT_create()\n",
    "        #kpは特徴的な点の位置 destは特徴を現すベクトル\n",
    "        kp1, des1 = detector.detectAndCompute(temp, None)\n",
    "        kp2, des2 = detector.detectAndCompute(img, None)\n",
    "        #特徴点の比較機\n",
    "        bf = cv2.BFMatcher()\n",
    "        matches = bf.knnMatch(des1,des2, k=2)\n",
    "        #割合試験を適用(２番目との差を param)\n",
    "        good = []\n",
    "        match_param = param\n",
    "        for m,n in matches:\n",
    "            if m.distance < match_param*n.distance:\n",
    "                good.append([m])\n",
    "        # good特徴点 num 個以上でマッチしたとする\n",
    "        if len(good)>num:\n",
    "            name = temp_file.strip(\".png'\")    # 拡張子に合わせる\n",
    "            return name\n",
    "##################################"
   ]
  },
  {
   "cell_type": "code",
   "execution_count": 16,
   "metadata": {},
   "outputs": [],
   "source": [
    "# photo_filename = '/tmp/data.jpg'\n",
    "\n",
    "# def shutter():\n",
    "#     photofile = open(photo_filename, 'wb')\n",
    "#     print(photofile)\n",
    "\n",
    "#     # pi camera 用のライブラリーを使用して、画像を取得\n",
    "#     with picamera.PiCamera() as camera:\n",
    "#         #camera.resolution = (640,480)\n",
    "#         camera.resolution = (300,400)\n",
    "#         camera.start_preview()\n",
    "#         sleep(1.000)\n",
    "#         camera.capture(photofile)\n",
    "\n",
    "# if __name__ == '__main__':\n",
    "#     # モデル+重みを読込み\n",
    "#     #self_model = load_model('MobileNet_auto_fine3_150_3.h5')\n",
    "#     self_model = load_model('MobileNet_shape224.h5')\n",
    "    \n",
    "#     # 音声ファイル初期化\n",
    "#     pygame.mixer.init()\n",
    "#     pygame.mixer.music.load(\"Cash_Register-Beep01-1.mp3\")\n",
    "\n",
    "#     # 正解ラベル\n",
    "#     label = ['cocacola-peach', 'ilohas', 'kuchidoke-momo', 'o-iocha', 'pocari-sweat']\n",
    "#     # 商品価格\n",
    "#     money = {'cocacola-peach':110, 'ilohas':120, 'kuchidoke-momo':130, 'o-iocha':140, 'pocari-sweat':150}"
   ]
  },
  {
   "cell_type": "code",
   "execution_count": 17,
   "metadata": {},
   "outputs": [],
   "source": [
    "# # 正解ラベル\n",
    "# label = ['maxコーヒー', 'カルピス', 'ジンジャエール', 'ファンタオレンジ', '三ツ矢サイダー']\n",
    "# # 商品価格\n",
    "# money = {'maxコーヒー':110, 'カルピス':120, 'ジンジャエール':130, 'ファンタオレンジ':140, '三ツ矢サイダー':150}\n",
    "# # バックグラウンド\n",
    "# background_image = np.full((224, 224, 3), 255)    # 実地では不要"
   ]
  },
  {
   "cell_type": "code",
   "execution_count": 18,
   "metadata": {},
   "outputs": [
    {
     "data": {
      "image/png": "[encoded data removed]",
      "text/plain": [
       "<Figure size 432x288 with 1 Axes>"
      ]
     },
     "metadata": {
      "needs_background": "light"
     },
     "output_type": "display_data"
    }
   ],
   "source": [
    "# バックグラウンド\n",
    "background_image = cv2.imread(\"example_pet-bottle-pic/background/IMG_4850.JPG\")\n",
    "background_image = cv2.cvtColor(background_image, cv2.COLOR_BGR2RGB)\n",
    "background_image = cv2.resize(background_image, dsize=(224, 224))\n",
    "plt.imshow(background_image)\n",
    "plt.show()"
   ]
  },
  {
   "cell_type": "code",
   "execution_count": 19,
   "metadata": {},
   "outputs": [],
   "source": [
    "# 正解ラベル\n",
    "label = ['CCレモン', 'アクエリアス', 'ジャスミンティー', 'ジョージアブラック', 'ペプシ', 'ヘルシールイボスティー', '生茶', '北海道の強炭酸水']\n",
    "# 商品価格\n",
    "money = {'CCレモン':100, 'アクエリアス':110, 'ジャスミンティー':120, 'ジョージアブラック':130,\n",
    "         'ペプシ':140, 'ヘルシールイボスティー':150, '生茶':160, '北海道の強炭酸水':170}"
   ]
  },
  {
   "cell_type": "code",
   "execution_count": 20,
   "metadata": {},
   "outputs": [
    {
     "data": {
      "text/plain": [
       "['ジャスミンティー.png',\n",
       " '生茶.png',\n",
       " 'CCレモン.png',\n",
       " 'アクエリアス.png',\n",
       " '北海道の強炭酸水.png',\n",
       " 'ペプシ.png',\n",
       " 'ヘルシールイボスティー.png',\n",
       " 'ジョージアブラック.png']"
      ]
     },
     "execution_count": 20,
     "metadata": {},
     "output_type": "execute_result"
    }
   ],
   "source": [
    "temp_files"
   ]
  },
  {
   "cell_type": "code",
   "execution_count": 27,
   "metadata": {
    "scrolled": false
   },
   "outputs": [
    {
     "name": "stdout",
     "output_type": "stream",
     "text": [
      "商品をスキャンする場合は「Enter」を押して下さい\n",
      "検出画像のパスを入力してくださいexample_pet-bottle-pic/image10.jpg\n",
      "ジャスミンティー\n",
      "小計 120\n",
      "続けて商品をスキャンする場合は「y」,会計する場合は「Enter」を押して下さいy\n",
      "検出画像のパスを入力してくださいexample_pet-bottle-pic/image16.jpg\n",
      "登録書品ではありません\n",
      "続けて商品をスキャンする場合は「y」,会計する場合は「Enter」を押して下さいy\n",
      "検出画像のパスを入力してくださいexample_pet-bottle-pic/image15.jpg\n",
      "ヘルシールイボスティー\n",
      "小計 270\n",
      "続けて商品をスキャンする場合は「y」,会計する場合は「Enter」を押して下さいy\n",
      "検出画像のパスを入力してくださいexample_pet-bottle-pic/image20.jpg\n",
      "登録書品ではありません\n",
      "続けて商品をスキャンする場合は「y」,会計する場合は「Enter」を押して下さいy\n",
      "検出画像のパスを入力してくださいexample_pet-bottle-pic/image21.jpg\n",
      "登録書品ではありません\n",
      "続けて商品をスキャンする場合は「y」,会計する場合は「Enter」を押して下さいy\n",
      "検出画像のパスを入力してくださいexample_pet-bottle-pic/image22.jpg\n",
      "登録書品ではありません\n",
      "続けて商品をスキャンする場合は「y」,会計する場合は「Enter」を押して下さいy\n",
      "検出画像のパスを入力してくださいexample_pet-bottle-pic/image23.jpg\n",
      "登録書品ではありません\n",
      "続けて商品をスキャンする場合は「y」,会計する場合は「Enter」を押して下さいy\n",
      "検出画像のパスを入力してくださいexample_pet-bottle-pic/image24.jpg\n",
      "登録書品ではありません\n",
      "続けて商品をスキャンする場合は「y」,会計する場合は「Enter」を押して下さいy\n",
      "検出画像のパスを入力してくださいexample_pet-bottle-pic/image25.jpg\n",
      "登録書品ではありません\n",
      "続けて商品をスキャンする場合は「y」,会計する場合は「Enter」を押して下さい\n",
      "合計:270円\n",
      "商品をスキャンする場合は「Enter」を押して下さい\n",
      "検出画像のパスを入力してください\n"
     ]
    },
    {
     "ename": "error",
     "evalue": "OpenCV(3.4.2) /Users/travis/build/skvark/opencv-python/opencv/modules/imgproc/src/color.hpp:253: error: (-215:Assertion failed) VScn::contains(scn) && VDcn::contains(dcn) && VDepth::contains(depth) in function 'CvtHelper'\n",
     "output_type": "error",
     "traceback": [
      "\u001b[0;31m---------------------------------------------------------------------------\u001b[0m",
      "\u001b[0;31merror\u001b[0m                                     Traceback (most recent call last)",
      "\u001b[0;32m<ipython-input-27-f2c8a4fba581>\u001b[0m in \u001b[0;36m<module>\u001b[0;34m\u001b[0m\n\u001b[1;32m     20\u001b[0m             \u001b[0mpath\u001b[0m \u001b[0;34m=\u001b[0m \u001b[0minput\u001b[0m\u001b[0;34m(\u001b[0m\u001b[0;34m'検出画像のパスを入力してください'\u001b[0m\u001b[0;34m)\u001b[0m\u001b[0;34m\u001b[0m\u001b[0;34m\u001b[0m\u001b[0m\n\u001b[1;32m     21\u001b[0m             \u001b[0mimg\u001b[0m \u001b[0;34m=\u001b[0m \u001b[0mcv2\u001b[0m\u001b[0;34m.\u001b[0m\u001b[0mimread\u001b[0m\u001b[0;34m(\u001b[0m\u001b[0mpath\u001b[0m\u001b[0;34m)\u001b[0m\u001b[0;34m\u001b[0m\u001b[0;34m\u001b[0m\u001b[0m\n\u001b[0;32m---> 22\u001b[0;31m             \u001b[0mimg\u001b[0m \u001b[0;34m=\u001b[0m \u001b[0mcv2\u001b[0m\u001b[0;34m.\u001b[0m\u001b[0mcvtColor\u001b[0m\u001b[0;34m(\u001b[0m\u001b[0mimg\u001b[0m\u001b[0;34m,\u001b[0m \u001b[0mcv2\u001b[0m\u001b[0;34m.\u001b[0m\u001b[0mCOLOR_BGR2RGB\u001b[0m\u001b[0;34m)\u001b[0m\u001b[0;34m\u001b[0m\u001b[0;34m\u001b[0m\u001b[0m\n\u001b[0m\u001b[1;32m     23\u001b[0m             \u001b[0mimg\u001b[0m \u001b[0;34m=\u001b[0m \u001b[0mcv2\u001b[0m\u001b[0;34m.\u001b[0m\u001b[0mresize\u001b[0m\u001b[0;34m(\u001b[0m\u001b[0mimg\u001b[0m\u001b[0;34m,\u001b[0m \u001b[0mdsize\u001b[0m\u001b[0;34m=\u001b[0m\u001b[0;34m(\u001b[0m\u001b[0;36m224\u001b[0m\u001b[0;34m,\u001b[0m \u001b[0;36m224\u001b[0m\u001b[0;34m)\u001b[0m\u001b[0;34m)\u001b[0m\u001b[0;34m\u001b[0m\u001b[0;34m\u001b[0m\u001b[0m\n\u001b[1;32m     24\u001b[0m             \u001b[0mbackground_image\u001b[0m \u001b[0;34m=\u001b[0m \u001b[0mcv2\u001b[0m\u001b[0;34m.\u001b[0m\u001b[0mresize\u001b[0m\u001b[0;34m(\u001b[0m\u001b[0mbackground_image\u001b[0m\u001b[0;34m,\u001b[0m \u001b[0mdsize\u001b[0m\u001b[0;34m=\u001b[0m\u001b[0;34m(\u001b[0m\u001b[0;36m224\u001b[0m\u001b[0;34m,\u001b[0m \u001b[0;36m224\u001b[0m\u001b[0;34m)\u001b[0m\u001b[0;34m)\u001b[0m\u001b[0;34m\u001b[0m\u001b[0;34m\u001b[0m\u001b[0m\n",
      "\u001b[0;31merror\u001b[0m: OpenCV(3.4.2) /Users/travis/build/skvark/opencv-python/opencv/modules/imgproc/src/color.hpp:253: error: (-215:Assertion failed) VScn::contains(scn) && VDcn::contains(dcn) && VDepth::contains(depth) in function 'CvtHelper'\n"
     ]
    }
   ],
   "source": [
    "# 画像分類\n",
    "while True:\n",
    "        money_sum = 0 \n",
    "        key = input('商品をスキャンする場合は「Enter」を押して下さい')\n",
    "        while True:\n",
    "            # 画像の取得\n",
    "#             shutter()\n",
    "\n",
    "#             # 音声再生\n",
    "#             pygame.mixer.music.play(1)\n",
    "#             sleep(1)\n",
    "#             # 再生の終了\n",
    "#             pygame.mixer.music.stop()\n",
    "            \n",
    "            ############ 画像の調整、ボックス取得（柴田） ############\n",
    "            # 画像をモデルの入力用に加工\n",
    "#             img = Image.open(photo_filename)\n",
    "            \n",
    "            # テスト用（上記カメラ画像の代わり）\n",
    "            path = input('検出画像のパスを入力してください')\n",
    "            img = cv2.imread(path)\n",
    "            img = cv2.cvtColor(img, cv2.COLOR_BGR2RGB)\n",
    "            img = cv2.resize(img, dsize=(224, 224))\n",
    "            background_image = cv2.resize(background_image, dsize=(224, 224))\n",
    "            # imgはbox付きの元画像、truncatedは切り取った画像\n",
    "#             img, truncated = objection_detect(img, product_image) \n",
    "            img, truncated = objection_detect(background_image, img)    # 一行上のコードから変数名変更（これじゃないと動かない）\n",
    "#             img = img.resize((224, 224))\n",
    "            \n",
    "#             img_array = img_to_array(img)\n",
    "#             img_array = img_array.astype('float32')/255.0\n",
    "#             img_array = img_array.reshape((1,224,224,3))\n",
    "            #######################################\n",
    "\n",
    "            \n",
    "            # predict\n",
    "#             img_pred = self_model.predict(img_array)\n",
    "#             print(\"debug:\",img_pred)\n",
    "#             name = label[np.argmax(img_pred)]\n",
    "            \n",
    "            ############ 分類、登録商品とそれ以外で分けてる（柴田） ############\n",
    "            # truncatedを使用して分類、224へのリサイズ不要\n",
    "            name = classfiler(truncated, param=0.59, num=6)    # パラメータ調整必要\n",
    "            if not name:\n",
    "                print(\"登録書品ではありません\")\n",
    "            else:\n",
    "                print(name)\n",
    "                money_sum += money[name]\n",
    "                print(\"小計\",money_sum)\n",
    "            key = input('続けて商品をスキャンする場合は「y」,会計する場合は「Enter」を押して下さい')\n",
    "            if key != 'y':\n",
    "                print(\"合計:{}円\".format(money_sum))\n",
    "                break"
   ]
  },
  {
   "cell_type": "code",
   "execution_count": null,
   "metadata": {},
   "outputs": [],
   "source": []
  },
  {
   "cell_type": "code",
   "execution_count": null,
   "metadata": {},
   "outputs": [],
   "source": []
  }
 ],
 "metadata": {
  "kernelspec": {
   "display_name": "Python 3",
   "language": "python",
   "name": "python3"
  },
  "language_info": {
   "codemirror_mode": {
    "name": "ipython",
    "version": 3
   },
   "file_extension": ".py",
   "mimetype": "text/x-python",
   "name": "python",
   "nbconvert_exporter": "python",
   "pygments_lexer": "ipython3",
   "version": "3.7.3"
  }
 },
 "nbformat": 4,
 "nbformat_minor": 2
}
