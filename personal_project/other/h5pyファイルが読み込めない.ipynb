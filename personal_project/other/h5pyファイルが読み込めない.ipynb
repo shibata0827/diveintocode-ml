{
 "cells": [
  {
   "cell_type": "markdown",
   "metadata": {},
   "source": [
    "## h5pyファイルが読み込めない\n",
    "\n",
    "---------------------------------------------------------------------------\n",
    "OSError                                   Traceback (most recent call last)\n",
    "<ipython-input-23-7df3b69edb75> in <module>()\n",
    "      1 from keras.models import load_model\n",
    "----> 2 ef3_model= load_model('model_ef3.h5', compile=False)\n",
    "4 frames\n",
    "/usr/local/lib/python3.6/dist-packages/h5py/_hl/files.py in make_fid(name, mode, userblock_size, fapl, fcpl, swmr)\n",
    "    140         if swmr and swmr_support:\n",
    "    141             flags |= h5f.ACC_SWMR_READ\n",
    "--> 142         fid = h5f.open(name, flags, fapl=fapl)\n",
    "    143     elif mode == 'r+':\n",
    "    144         fid = h5f.open(name, h5f.ACC_RDWR, fapl=fapl)\n",
    "h5py/_objects.pyx in h5py._objects.with_phil.wrapper()\n",
    "h5py/_objects.pyx in h5py._objects.with_phil.wrapper()\n",
    "h5py/h5f.pyx in h5py.h5f.open()\n",
    "OSError: Unable to open file (bad object header version number)\n",
    "\n",
    "https://github.com/h5py/h5py/issues/714"
   ]
  },
  {
   "cell_type": "markdown",
   "metadata": {},
   "source": [
    "OSError：ファイルを開けません（ファイルの署名が見つかりません） ＃757\n",
    "\n",
    "https://github.com/h5py/h5py/issues/757"
   ]
  },
  {
   "cell_type": "code",
   "execution_count": 2,
   "metadata": {
    "ExecuteTime": {
     "end_time": "2020-04-03T09:07:32.286956Z",
     "start_time": "2020-04-03T09:07:32.275155Z"
    }
   },
   "outputs": [
    {
     "data": {
      "text/plain": [
       "'2.9.0'"
      ]
     },
     "execution_count": 2,
     "metadata": {},
     "output_type": "execute_result"
    }
   ],
   "source": [
    "import h5py\n",
    "h5py.__version__"
   ]
  },
  {
   "cell_type": "code",
   "execution_count": 2,
   "metadata": {
    "ExecuteTime": {
     "end_time": "2020-01-16T02:43:45.942110Z",
     "start_time": "2020-01-16T02:43:45.928364Z"
    }
   },
   "outputs": [
    {
     "data": {
      "text/plain": [
       "'2.9.0'"
      ]
     },
     "execution_count": 2,
     "metadata": {},
     "output_type": "execute_result"
    }
   ],
   "source": []
  },
  {
   "cell_type": "code",
   "execution_count": 10,
   "metadata": {
    "ExecuteTime": {
     "end_time": "2020-04-03T09:14:52.729293Z",
     "start_time": "2020-04-03T09:14:52.709627Z"
    }
   },
   "outputs": [],
   "source": [
    "# 書き込むデータ\n",
    "x = 100\n",
    "a = [1, 2, 3, 4, 5]\n",
    "\n",
    "# 書き込み\n",
    "with h5py.File('output.h5', 'w') as f:\n",
    "\n",
    "    f.create_dataset('x', data=x)\n",
    "    f.create_dataset('a', data=a)"
   ]
  },
  {
   "cell_type": "code",
   "execution_count": 16,
   "metadata": {
    "ExecuteTime": {
     "end_time": "2020-04-03T09:16:03.146609Z",
     "start_time": "2020-04-03T09:16:03.132376Z"
    }
   },
   "outputs": [
    {
     "name": "stdout",
     "output_type": "stream",
     "text": [
      "<KeysViewHDF5 ['a', 'x']>\n",
      "1\n"
     ]
    },
    {
     "name": "stderr",
     "output_type": "stream",
     "text": [
      "/Users/yoshiko/.pyenv/versions/anaconda3-5.3.1/lib/python3.6/site-packages/h5py/_hl/dataset.py:313: H5pyDeprecationWarning: dataset.value has been deprecated. Use dataset[()] instead.\n",
      "  \"Use dataset[()] instead.\", H5pyDeprecationWarning)\n"
     ]
    }
   ],
   "source": [
    "with h5py.File('output.h5', 'r') as f:\n",
    "\n",
    "    print(f.keys())\n",
    "    print(f['a'].value[0])"
   ]
  },
  {
   "cell_type": "code",
   "execution_count": null,
   "metadata": {},
   "outputs": [],
   "source": [
    "# yoloで試す\n",
    "'''\n",
    "https://github.com/qqwweee/keras-yolo3\n",
    "'''"
   ]
  },
  {
   "cell_type": "code",
   "execution_count": 20,
   "metadata": {
    "ExecuteTime": {
     "end_time": "2020-01-16T03:16:37.043606Z",
     "start_time": "2020-01-16T03:16:37.037734Z"
    },
    "scrolled": true
   },
   "outputs": [
    {
     "name": "stdout",
     "output_type": "stream",
     "text": [
      "<KeysViewHDF5 ['model_weights']>\n",
      "<HDF5 group \"/model_weights\" (252 members)>\n"
     ]
    }
   ],
   "source": [
    "import h5py\n",
    "\n",
    "with h5py.File('yolo.h5', 'r') as f:\n",
    "\n",
    "    print(f.keys())\n",
    "    print(f['model_weights'])"
   ]
  },
  {
   "cell_type": "markdown",
   "metadata": {},
   "source": [
    "## 結論\n",
    "\n",
    "h5ファイルが壊れていた"
   ]
  },
  {
   "cell_type": "code",
   "execution_count": 20,
   "metadata": {},
   "outputs": [
    {
     "name": "stdout",
     "output_type": "stream",
     "text": [
      "<KeysViewHDF5 ['model_weights', 'optimizer_weights']>\n",
      "<HDF5 group \"/model_weights\" (100 members)>\n",
      "<bound method MappingHDF5.values of <HDF5 group \"/model_weights\" (100 members)>>\n"
     ]
    }
   ],
   "source": [
    "import h5py\n",
    "\n",
    "with h5py.File('./../../output/models/IMAGENETTE/ResNet18_TD.h5', 'r') as f:\n",
    "\n",
    "    print(f.keys())\n",
    "    print(f['model_weights'])\n",
    "    print(f['model_weights'].values)"
   ]
  },
  {
   "cell_type": "code",
   "execution_count": null,
   "metadata": {},
   "outputs": [],
   "source": []
  },
  {
   "cell_type": "code",
   "execution_count": null,
   "metadata": {},
   "outputs": [],
   "source": []
  }
 ],
 "metadata": {
  "kernelspec": {
   "display_name": "Python 3",
   "language": "python",
   "name": "python3"
  },
  "language_info": {
   "codemirror_mode": {
    "name": "ipython",
    "version": 3
   },
   "file_extension": ".py",
   "mimetype": "text/x-python",
   "name": "python",
   "nbconvert_exporter": "python",
   "pygments_lexer": "ipython3",
   "version": "3.7.3"
  },
  "latex_envs": {
   "LaTeX_envs_menu_present": true,
   "autoclose": false,
   "autocomplete": true,
   "bibliofile": "biblio.bib",
   "cite_by": "apalike",
   "current_citInitial": 1,
   "eqLabelWithNumbers": true,
   "eqNumInitial": 1,
   "hotkeys": {
    "equation": "Ctrl-E",
    "itemize": "Ctrl-I"
   },
   "labels_anchors": false,
   "latex_user_defs": false,
   "report_style_numbering": false,
   "user_envs_cfg": false
  },
  "toc": {
   "base_numbering": 1,
   "nav_menu": {},
   "number_sections": true,
   "sideBar": true,
   "skip_h1_title": false,
   "title_cell": "Table of Contents",
   "title_sidebar": "Contents",
   "toc_cell": false,
   "toc_position": {},
   "toc_section_display": true,
   "toc_window_display": false
  }
 },
 "nbformat": 4,
 "nbformat_minor": 2
}
