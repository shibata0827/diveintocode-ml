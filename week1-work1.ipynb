{
 "cells": [
  {
   "cell_type": "markdown",
   "metadata": {},
   "source": [
    "【問題1】べき乗の算術演算子を使用して作成\n",
    "べき乗の算術演算子を使用したプログラムを作ってください。\n",
    "雛形として紙を1回折った時の厚さを計算するコードを用意しました。これを43回折った時のコードに書き換えてください。"
   ]
  },
  {
   "cell_type": "code",
   "execution_count": 1,
   "metadata": {},
   "outputs": [
    {
     "name": "stdout",
     "output_type": "stream",
     "text": [
      "厚さ： 703687441.77664メートル\n"
     ]
    }
   ],
   "source": [
    "THICKNESS = 0.00008\n",
    "\n",
    "folded_thickness = THICKNESS*2**43\n",
    "\n",
    "print(\"厚さ： {}メートル\".format(folded_thickness))"
   ]
  },
  {
   "cell_type": "markdown",
   "metadata": {},
   "source": [
    "【問題2】単位の変換\n",
    "単位がメートルだと実感が湧きづらいので、◯◯万キロメートル に変換して表示させてください。\n",
    "サンプルとして ◯◯キロメートル に変換したコードを用意したので、参考にして取り組んでください。小数点以下は2桁まで表示されるようにも指定しています。"
   ]
  },
  {
   "cell_type": "code",
   "execution_count": 2,
   "metadata": {},
   "outputs": [
    {
     "name": "stdout",
     "output_type": "stream",
     "text": [
      "厚さ： 70.37万キロメートル\n"
     ]
    }
   ],
   "source": [
    "# メートルをキロメートルに変換して小数点以下2桁で表示する\n",
    "print(\"厚さ： {:.2f}万キロメートル\".format(folded_thickness/1000/10000))"
   ]
  },
  {
   "cell_type": "markdown",
   "metadata": {},
   "source": [
    "【問題3】for文を使用して作成\n",
    "次に、for文を使用したプログラムを作ってください。\n",
    "べき乗の算術演算子は使ってはいけません。算術演算子は四則演算（+、-、*、/）のみ使えます。"
   ]
  },
  {
   "cell_type": "code",
   "execution_count": 3,
   "metadata": {},
   "outputs": [
    {
     "name": "stdout",
     "output_type": "stream",
     "text": [
      "厚さ： 703687441.77664メートル\n"
     ]
    }
   ],
   "source": [
    "THICKNESS = 0.00008\n",
    "for i in range(43):\n",
    "    THICKNESS = THICKNESS*2 \n",
    "folded_thickness = THICKNESS\n",
    "\n",
    "print(\"厚さ： {}メートル\".format(folded_thickness))"
   ]
  },
  {
   "cell_type": "markdown",
   "metadata": {},
   "source": [
    "【問題4】計算時間の比較\n",
    "2つの方法はどちらが正しいわけでもありませんが、コードの良さを評価する際には以下のような着目点があります。\n",
    "\n",
    "・計算速度\n",
    "・メモリの使用量\n",
    "・可読性\n",
    "・拡張性\n",
    "・再利用性\n",
    "\n",
    "今回は計算速度を比較してみます。以下の雛形を使用して、2つの方法の計算時間を出力してください。そして、それぞれの計算時間の関係を簡単に説明してください。どちらの書き方が良さそうでしょうか。なお、変数の定義やprint文など、どちらの方法でも使われている部分は除いた範囲の時間を比較してください。"
   ]
  },
  {
   "cell_type": "code",
   "execution_count": 4,
   "metadata": {},
   "outputs": [
    {
     "name": "stdout",
     "output_type": "stream",
     "text": [
      "time : 7.987022399902344e-05[s]\n"
     ]
    }
   ],
   "source": [
    "import time\n",
    "start = time.time()\n",
    "#####\n",
    "# 乗算\n",
    "\n",
    "THICKNESS = 0.00008\n",
    "folded_thickness = THICKNESS*2**43\n",
    "\n",
    "#####\n",
    "elapsed_time = time.time() - start\n",
    "print(\"time : {}[s]\".format(elapsed_time))"
   ]
  },
  {
   "cell_type": "code",
   "execution_count": 5,
   "metadata": {},
   "outputs": [
    {
     "name": "stdout",
     "output_type": "stream",
     "text": [
      "time : 0.00011801719665527344[s]\n"
     ]
    }
   ],
   "source": [
    "start = time.time()\n",
    "#####\n",
    "# for文\n",
    "\n",
    "THICKNESS = 0.00008\n",
    "for i in range(43):\n",
    "    THICKNESS = THICKNESS*2 \n",
    "folded_thickness = THICKNESS\n",
    "\n",
    "#####\n",
    "elapsed_time = time.time() - start\n",
    "print(\"time : {}[s]\".format(elapsed_time))"
   ]
  },
  {
   "cell_type": "markdown",
   "metadata": {},
   "source": [
    "《発展：繰り返し回数を増やす》\n",
    "\n",
    "43回程度では2つの方法の差が出にくいかもしれません。そういった時は、回数をより増やして差を明確にしてみると良いでしょう。\n",
    "\n",
    "1000回"
   ]
  },
  {
   "cell_type": "code",
   "execution_count": 7,
   "metadata": {},
   "outputs": [
    {
     "name": "stdout",
     "output_type": "stream",
     "text": [
      "time : 8.082389831542969e-05[s]\n"
     ]
    }
   ],
   "source": [
    "import time\n",
    "start = time.time()\n",
    "#####\n",
    "# 乗算、1000回\n",
    "\n",
    "THICKNESS = 0.00008\n",
    "folded_thickness = THICKNESS*2**1000\n",
    "\n",
    "#####\n",
    "elapsed_time = time.time() - start\n",
    "print(\"time : {}[s]\".format(elapsed_time))"
   ]
  },
  {
   "cell_type": "code",
   "execution_count": 8,
   "metadata": {},
   "outputs": [
    {
     "name": "stdout",
     "output_type": "stream",
     "text": [
      "time : 0.00020933151245117188[s]\n"
     ]
    }
   ],
   "source": [
    "start = time.time()\n",
    "#####\n",
    "# for文、1000回\n",
    "\n",
    "THICKNESS = 0.00008\n",
    "for i in range(1000):\n",
    "    THICKNESS = THICKNESS*2 \n",
    "folded_thickness = THICKNESS\n",
    "\n",
    "#####\n",
    "elapsed_time = time.time() - start\n",
    "print(\"time : {}[s]\".format(elapsed_time))"
   ]
  },
  {
   "cell_type": "markdown",
   "metadata": {},
   "source": [
    "《発展：マジックコマンドを使う》\n",
    "\n",
    "計算時間は実行するたびに変化します。そのため、複数回計測することが一般的です。timeモジュールとfor文を組み合わせることで実現できる他、Jupyter Notebookでは%timeitという マジックコマンド でも計測が可能です。マジックコマンドはPythonのプログラムとは別に用意された、Jupyter Notebookを便利にするための機能です。\n",
    "\n",
    "Built-in magic commands — IPython 7.9.0 documentation\n",
    "\n",
    "計測したいコードを書いたセルのはじめに%%timeitと入れて実行します。"
   ]
  },
  {
   "cell_type": "code",
   "execution_count": 9,
   "metadata": {},
   "outputs": [
    {
     "name": "stdout",
     "output_type": "stream",
     "text": [
      "52 ns ± 1.66 ns per loop (mean ± std. dev. of 7 runs, 10000000 loops each)\n"
     ]
    }
   ],
   "source": [
    "%%timeit\n",
    "#####\n",
    "# ここに比較したいコードを貼り付ける\n",
    "\n",
    "THICKNESS = 0.00008\n",
    "folded_thickness = THICKNESS*2**43\n",
    "\n",
    "#####"
   ]
  },
  {
   "cell_type": "code",
   "execution_count": 10,
   "metadata": {},
   "outputs": [
    {
     "name": "stdout",
     "output_type": "stream",
     "text": [
      "1.7 µs ± 39 ns per loop (mean ± std. dev. of 7 runs, 1000000 loops each)\n"
     ]
    }
   ],
   "source": [
    "%%timeit\n",
    "#####\n",
    "# ここに比較したいコードを貼り付ける\n",
    "\n",
    "THICKNESS = 0.00008\n",
    "for i in range(43):\n",
    "    THICKNESS = THICKNESS*2 \n",
    "folded_thickness = THICKNESS\n",
    "\n",
    "#####"
   ]
  },
  {
   "cell_type": "markdown",
   "metadata": {},
   "source": [
    "【問題5】リストへの保存\n",
    "ここまでは43回折った後の最後の値だけを使用していましたが、グラフで可視化するためには過程の値も必要です。for文を使用したコードに、過程の値合計44個を記録するコードを加えてください。\n",
    "\n",
    "《ヒント》\n",
    "\n",
    "空のリストを作成する。\n",
    "折る前の値をリストに追加する。\n",
    "for文の中でn回折った時の値をリストに追加していく。\n",
    "最終的にリストに44個の値が格納されていることをlen関数を用いて確認しておきましょう。"
   ]
  },
  {
   "cell_type": "code",
   "execution_count": 12,
   "metadata": {},
   "outputs": [
    {
     "data": {
      "text/plain": [
       "44"
      ]
     },
     "execution_count": 12,
     "metadata": {},
     "output_type": "execute_result"
    }
   ],
   "source": [
    "thickness_list = []\n",
    "THICKNESS = 0.00008\n",
    "\n",
    "thickness_list.append(THICKNESS)\n",
    "for i in range(43):\n",
    "    THICKNESS = THICKNESS*2\n",
    "    thickness_list.append(THICKNESS)\n",
    "\n",
    "len(thickness_list)"
   ]
  },
  {
   "cell_type": "markdown",
   "metadata": {},
   "source": [
    "【問題6】折れ線グラフの表示\n",
    "グラフの描画には Matplotlib という ライブラリ を用います。リストへ記録するコードの後ろで以下の雛形を使用してください。"
   ]
  },
  {
   "cell_type": "code",
   "execution_count": 13,
   "metadata": {},
   "outputs": [
    {
     "data": {
      "image/png": "[encoded data removed]",
      "text/plain": [
       "<Figure size 432x288 with 1 Axes>"
      ]
     },
     "metadata": {
      "needs_background": "light"
     },
     "output_type": "display_data"
    }
   ],
   "source": [
    "\"\"\"\n",
    "グラフを表示する。タイトルと軸ラベル名付き。\n",
    "\"\"\"\n",
    "import matplotlib.pyplot as plt\n",
    "%matplotlib inline\n",
    "\n",
    "plt.title(\"thickness of folded paper\")\n",
    "plt.xlabel(\"number of folds\")\n",
    "plt.ylabel(\"thickness[m]\")\n",
    "plt.plot(thickness_list) # 「リスト名」のところにリストの変数名を入れる\n",
    "plt.show()"
   ]
  },
  {
   "cell_type": "markdown",
   "metadata": {},
   "source": [
    "【問題7】グラフのカスタマイズ\n",
    "グラフをより見やすくカスタマイズしてみましょう。カスタマイズしたグラフを最低3種類作成してください。例えば以下のように書き換えることで、線の色を赤に変更できます。"
   ]
  },
  {
   "cell_type": "code",
   "execution_count": 14,
   "metadata": {},
   "outputs": [
    {
     "data": {
      "image/png": "[encoded data removed]",
      "text/plain": [
       "<Figure size 432x288 with 1 Axes>"
      ]
     },
     "metadata": {
      "needs_background": "light"
     },
     "output_type": "display_data"
    }
   ],
   "source": [
    "\"\"\"\n",
    "赤い折れ線グラフを表示する。\n",
    "\"\"\"\n",
    "plt.title(\"thickness of folded paper\")\n",
    "plt.xlabel(\"number of folds\")\n",
    "plt.ylabel(\"thickness[m]\")\n",
    "plt.plot(thickness_list, color='red')\n",
    "plt.show()"
   ]
  },
  {
   "cell_type": "code",
   "execution_count": 38,
   "metadata": {},
   "outputs": [
    {
     "data": {
      "image/png": "[encoded data removed]",
      "text/plain": [
       "<Figure size 432x288 with 1 Axes>"
      ]
     },
     "metadata": {
      "needs_background": "light"
     },
     "output_type": "display_data"
    }
   ],
   "source": [
    "\"\"\"\n",
    "軸の値を大きく表示する。\n",
    "\"\"\"\n",
    "plt.title(\"thickness of folded paper\")\n",
    "plt.xlabel(\"number of folds\")\n",
    "plt.ylabel(\"thickness[m]\")\n",
    "plt.tick_params(labelsize=20) # 軸の値に関する設定を行う\n",
    "plt.plot(thickness_list)\n",
    "plt.show()"
   ]
  },
  {
   "cell_type": "code",
   "execution_count": 15,
   "metadata": {},
   "outputs": [
    {
     "data": {
      "image/png": "[encoded data removed]",
      "text/plain": [
       "<Figure size 432x288 with 1 Axes>"
      ]
     },
     "metadata": {
      "needs_background": "light"
     },
     "output_type": "display_data"
    }
   ],
   "source": [
    "\"\"\"\n",
    "グリッドライン、マーカー有りグラフを表示する。\n",
    "\"\"\"\n",
    "plt.title(\"thickness of folded paper\")\n",
    "plt.xlabel(\"number of folds\")\n",
    "plt.ylabel(\"thickness[m]\")\n",
    "plt.plot(thickness_list,marker='^')\n",
    "plt.grid()\n",
    "plt.show()"
   ]
  },
  {
   "cell_type": "code",
   "execution_count": null,
   "metadata": {},
   "outputs": [],
   "source": []
  }
 ],
 "metadata": {
  "kernelspec": {
   "display_name": "Python 3",
   "language": "python",
   "name": "python3"
  },
  "language_info": {
   "codemirror_mode": {
    "name": "ipython",
    "version": 3
   },
   "file_extension": ".py",
   "mimetype": "text/x-python",
   "name": "python",
   "nbconvert_exporter": "python",
   "pygments_lexer": "ipython3",
   "version": "3.7.3"
  }
 },
 "nbformat": 4,
 "nbformat_minor": 2
}
