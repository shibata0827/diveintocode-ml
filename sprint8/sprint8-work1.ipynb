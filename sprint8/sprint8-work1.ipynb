{
 "cells": [
  {
   "cell_type": "markdown",
   "metadata": {},
   "source": [
    "# sprint 深層学習スクラッチ ニューラルネットワーク"
   ]
  },
  {
   "cell_type": "code",
   "execution_count": 235,
   "metadata": {},
   "outputs": [],
   "source": [
    "import numpy as np\n",
    "import matplotlib.pyplot as plt\n",
    "from sklearn.model_selection import train_test_split\n",
    "from sklearn.metrics import accuracy_score"
   ]
  },
  {
   "cell_type": "markdown",
   "metadata": {},
   "source": [
    "# 2.MNISTデータセット\n",
    "\n",
    "ニューラルネットワークスクラッチの検証にはMNISTデータセットを使用します。各種ライブラリやサイトからダウンロードできますが、ここでは深層学習フレームワークのKerasを用います。以下のコードを実行すればデータセットをダウンロードし、展開まで行えます。"
   ]
  },
  {
   "cell_type": "code",
   "execution_count": 152,
   "metadata": {},
   "outputs": [],
   "source": [
    "from tensorflow.keras.datasets import mnist\n",
    "(X_train, y_train), (X_test, y_test) = mnist.load_data()"
   ]
  },
  {
   "cell_type": "markdown",
   "metadata": {},
   "source": [
    "# データセットの確認\n",
    "どういったデータなのかを見てみます。"
   ]
  },
  {
   "cell_type": "code",
   "execution_count": 153,
   "metadata": {},
   "outputs": [
    {
     "name": "stdout",
     "output_type": "stream",
     "text": [
      "(60000, 28, 28)\n",
      "(10000, 28, 28)\n",
      "uint8\n",
      "[[  0   0   0   0   0   0   0   0   0   0   0   0   0   0   0   0   0   0\n",
      "    0   0   0   0   0   0   0   0   0   0]\n",
      " [  0   0   0   0   0   0   0   0   0   0   0   0   0   0   0   0   0   0\n",
      "    0   0   0   0   0   0   0   0   0   0]\n",
      " [  0   0   0   0   0   0   0   0   0   0   0   0   0   0   0   0   0   0\n",
      "    0   0   0   0   0   0   0   0   0   0]\n",
      " [  0   0   0   0   0   0   0   0   0   0   0   0   0   0   0   0   0   0\n",
      "    0   0   0   0   0   0   0   0   0   0]\n",
      " [  0   0   0   0   0   0   0   0   0   0   0   0   0   0   0   0   0   0\n",
      "    0   0   0   0   0   0   0   0   0   0]\n",
      " [  0   0   0   0   0   0   0   0   0   0   0   0   3  18  18  18 126 136\n",
      "  175  26 166 255 247 127   0   0   0   0]\n",
      " [  0   0   0   0   0   0   0   0  30  36  94 154 170 253 253 253 253 253\n",
      "  225 172 253 242 195  64   0   0   0   0]\n",
      " [  0   0   0   0   0   0   0  49 238 253 253 253 253 253 253 253 253 251\n",
      "   93  82  82  56  39   0   0   0   0   0]\n",
      " [  0   0   0   0   0   0   0  18 219 253 253 253 253 253 198 182 247 241\n",
      "    0   0   0   0   0   0   0   0   0   0]\n",
      " [  0   0   0   0   0   0   0   0  80 156 107 253 253 205  11   0  43 154\n",
      "    0   0   0   0   0   0   0   0   0   0]\n",
      " [  0   0   0   0   0   0   0   0   0  14   1 154 253  90   0   0   0   0\n",
      "    0   0   0   0   0   0   0   0   0   0]\n",
      " [  0   0   0   0   0   0   0   0   0   0   0 139 253 190   2   0   0   0\n",
      "    0   0   0   0   0   0   0   0   0   0]\n",
      " [  0   0   0   0   0   0   0   0   0   0   0  11 190 253  70   0   0   0\n",
      "    0   0   0   0   0   0   0   0   0   0]\n",
      " [  0   0   0   0   0   0   0   0   0   0   0   0  35 241 225 160 108   1\n",
      "    0   0   0   0   0   0   0   0   0   0]\n",
      " [  0   0   0   0   0   0   0   0   0   0   0   0   0  81 240 253 253 119\n",
      "   25   0   0   0   0   0   0   0   0   0]\n",
      " [  0   0   0   0   0   0   0   0   0   0   0   0   0   0  45 186 253 253\n",
      "  150  27   0   0   0   0   0   0   0   0]\n",
      " [  0   0   0   0   0   0   0   0   0   0   0   0   0   0   0  16  93 252\n",
      "  253 187   0   0   0   0   0   0   0   0]\n",
      " [  0   0   0   0   0   0   0   0   0   0   0   0   0   0   0   0   0 249\n",
      "  253 249  64   0   0   0   0   0   0   0]\n",
      " [  0   0   0   0   0   0   0   0   0   0   0   0   0   0  46 130 183 253\n",
      "  253 207   2   0   0   0   0   0   0   0]\n",
      " [  0   0   0   0   0   0   0   0   0   0   0   0  39 148 229 253 253 253\n",
      "  250 182   0   0   0   0   0   0   0   0]\n",
      " [  0   0   0   0   0   0   0   0   0   0  24 114 221 253 253 253 253 201\n",
      "   78   0   0   0   0   0   0   0   0   0]\n",
      " [  0   0   0   0   0   0   0   0  23  66 213 253 253 253 253 198  81   2\n",
      "    0   0   0   0   0   0   0   0   0   0]\n",
      " [  0   0   0   0   0   0  18 171 219 253 253 253 253 195  80   9   0   0\n",
      "    0   0   0   0   0   0   0   0   0   0]\n",
      " [  0   0   0   0  55 172 226 253 253 253 253 244 133  11   0   0   0   0\n",
      "    0   0   0   0   0   0   0   0   0   0]\n",
      " [  0   0   0   0 136 253 253 253 212 135 132  16   0   0   0   0   0   0\n",
      "    0   0   0   0   0   0   0   0   0   0]\n",
      " [  0   0   0   0   0   0   0   0   0   0   0   0   0   0   0   0   0   0\n",
      "    0   0   0   0   0   0   0   0   0   0]\n",
      " [  0   0   0   0   0   0   0   0   0   0   0   0   0   0   0   0   0   0\n",
      "    0   0   0   0   0   0   0   0   0   0]\n",
      " [  0   0   0   0   0   0   0   0   0   0   0   0   0   0   0   0   0   0\n",
      "    0   0   0   0   0   0   0   0   0   0]]\n"
     ]
    }
   ],
   "source": [
    "print(X_train.shape) # (60000, 28, 28)\n",
    "print(X_test.shape) # (10000, 28, 28)\n",
    "print(X_train[0].dtype) # uint8\n",
    "print(X_train[0])"
   ]
  },
  {
   "cell_type": "markdown",
   "metadata": {},
   "source": [
    "# 平滑化\n",
    "(1, 28, 28)の各画像を、(1, 784)に変換します。これまで学んできた機械学習手法や、今回扱う全結合層のみのニューラルネットワークではこの形で扱います。全てのピクセルが一列になっていることを、 平滑化（flatten） してあるという風に表現します。"
   ]
  },
  {
   "cell_type": "code",
   "execution_count": 154,
   "metadata": {},
   "outputs": [],
   "source": [
    "X_train = X_train.reshape(-1, 784)\n",
    "X_test = X_test.reshape(-1, 784)"
   ]
  },
  {
   "cell_type": "markdown",
   "metadata": {},
   "source": [
    "# 画像データの可視化\n",
    "画像データを可視化します。plt.imshowに渡します。"
   ]
  },
  {
   "cell_type": "code",
   "execution_count": 155,
   "metadata": {},
   "outputs": [
    {
     "data": {
      "image/png": "[encoded data removed]",
      "text/plain": [
       "<Figure size 432x288 with 1 Axes>"
      ]
     },
     "metadata": {
      "needs_background": "light"
     },
     "output_type": "display_data"
    }
   ],
   "source": [
    "import matplotlib.pyplot as plt\n",
    "%matplotlib inline\n",
    "index = 0\n",
    "image = X_train[index].reshape(28,28)\n",
    "# X_train[index]: (784,)\n",
    "# image: (28, 28)\n",
    "plt.imshow(image, 'gray')\n",
    "plt.title('label : {}'.format(y_train[index]))\n",
    "plt.show()"
   ]
  },
  {
   "cell_type": "markdown",
   "metadata": {},
   "source": [
    "## 発展的話題》\n",
    "\n",
    "\n",
    "画像データは符号なし8ビット整数のuint8型で保持されることが一般的ですが、plt.imshowはより自由な配列を画像として表示することが可能です。例えば、以下のようにマイナスの値を持ったfloat64型の浮動小数点であってもエラーにはならないし、先ほどと全く同じ風に表示されます。\n",
    "\n"
   ]
  },
  {
   "cell_type": "code",
   "execution_count": 156,
   "metadata": {},
   "outputs": [
    {
     "data": {
      "image/png": "[encoded data removed]",
      "text/plain": [
       "<Figure size 432x288 with 1 Axes>"
      ]
     },
     "metadata": {
      "needs_background": "light"
     },
     "output_type": "display_data"
    },
    {
     "name": "stdout",
     "output_type": "stream",
     "text": [
      "[[-105.35 -105.35 -105.35 -105.35 -105.35 -105.35 -105.35 -105.35 -105.35\n",
      "  -105.35 -105.35 -105.35 -105.35 -105.35 -105.35 -105.35 -105.35 -105.35\n",
      "  -105.35 -105.35 -105.35 -105.35 -105.35 -105.35 -105.35 -105.35 -105.35\n",
      "  -105.35]\n",
      " [-105.35 -105.35 -105.35 -105.35 -105.35 -105.35 -105.35 -105.35 -105.35\n",
      "  -105.35 -105.35 -105.35 -105.35 -105.35 -105.35 -105.35 -105.35 -105.35\n",
      "  -105.35 -105.35 -105.35 -105.35 -105.35 -105.35 -105.35 -105.35 -105.35\n",
      "  -105.35]\n",
      " [-105.35 -105.35 -105.35 -105.35 -105.35 -105.35 -105.35 -105.35 -105.35\n",
      "  -105.35 -105.35 -105.35 -105.35 -105.35 -105.35 -105.35 -105.35 -105.35\n",
      "  -105.35 -105.35 -105.35 -105.35 -105.35 -105.35 -105.35 -105.35 -105.35\n",
      "  -105.35]\n",
      " [-105.35 -105.35 -105.35 -105.35 -105.35 -105.35 -105.35 -105.35 -105.35\n",
      "  -105.35 -105.35 -105.35 -105.35 -105.35 -105.35 -105.35 -105.35 -105.35\n",
      "  -105.35 -105.35 -105.35 -105.35 -105.35 -105.35 -105.35 -105.35 -105.35\n",
      "  -105.35]\n",
      " [-105.35 -105.35 -105.35 -105.35 -105.35 -105.35 -105.35 -105.35 -105.35\n",
      "  -105.35 -105.35 -105.35 -105.35 -105.35 -105.35 -105.35 -105.35 -105.35\n",
      "  -105.35 -105.35 -105.35 -105.35 -105.35 -105.35 -105.35 -105.35 -105.35\n",
      "  -105.35]\n",
      " [-105.35 -105.35 -105.35 -105.35 -105.35 -105.35 -105.35 -105.35 -105.35\n",
      "  -105.35 -105.35 -105.35 -102.35  -87.35  -87.35  -87.35   20.65   30.65\n",
      "    69.65  -79.35   60.65  149.65  141.65   21.65 -105.35 -105.35 -105.35\n",
      "  -105.35]\n",
      " [-105.35 -105.35 -105.35 -105.35 -105.35 -105.35 -105.35 -105.35  -75.35\n",
      "   -69.35  -11.35   48.65   64.65  147.65  147.65  147.65  147.65  147.65\n",
      "   119.65   66.65  147.65  136.65   89.65  -41.35 -105.35 -105.35 -105.35\n",
      "  -105.35]\n",
      " [-105.35 -105.35 -105.35 -105.35 -105.35 -105.35 -105.35  -56.35  132.65\n",
      "   147.65  147.65  147.65  147.65  147.65  147.65  147.65  147.65  145.65\n",
      "   -12.35  -23.35  -23.35  -49.35  -66.35 -105.35 -105.35 -105.35 -105.35\n",
      "  -105.35]\n",
      " [-105.35 -105.35 -105.35 -105.35 -105.35 -105.35 -105.35  -87.35  113.65\n",
      "   147.65  147.65  147.65  147.65  147.65   92.65   76.65  141.65  135.65\n",
      "  -105.35 -105.35 -105.35 -105.35 -105.35 -105.35 -105.35 -105.35 -105.35\n",
      "  -105.35]\n",
      " [-105.35 -105.35 -105.35 -105.35 -105.35 -105.35 -105.35 -105.35  -25.35\n",
      "    50.65    1.65  147.65  147.65   99.65  -94.35 -105.35  -62.35   48.65\n",
      "  -105.35 -105.35 -105.35 -105.35 -105.35 -105.35 -105.35 -105.35 -105.35\n",
      "  -105.35]\n",
      " [-105.35 -105.35 -105.35 -105.35 -105.35 -105.35 -105.35 -105.35 -105.35\n",
      "   -91.35 -104.35   48.65  147.65  -15.35 -105.35 -105.35 -105.35 -105.35\n",
      "  -105.35 -105.35 -105.35 -105.35 -105.35 -105.35 -105.35 -105.35 -105.35\n",
      "  -105.35]\n",
      " [-105.35 -105.35 -105.35 -105.35 -105.35 -105.35 -105.35 -105.35 -105.35\n",
      "  -105.35 -105.35   33.65  147.65   84.65 -103.35 -105.35 -105.35 -105.35\n",
      "  -105.35 -105.35 -105.35 -105.35 -105.35 -105.35 -105.35 -105.35 -105.35\n",
      "  -105.35]\n",
      " [-105.35 -105.35 -105.35 -105.35 -105.35 -105.35 -105.35 -105.35 -105.35\n",
      "  -105.35 -105.35  -94.35   84.65  147.65  -35.35 -105.35 -105.35 -105.35\n",
      "  -105.35 -105.35 -105.35 -105.35 -105.35 -105.35 -105.35 -105.35 -105.35\n",
      "  -105.35]\n",
      " [-105.35 -105.35 -105.35 -105.35 -105.35 -105.35 -105.35 -105.35 -105.35\n",
      "  -105.35 -105.35 -105.35  -70.35  135.65  119.65   54.65    2.65 -104.35\n",
      "  -105.35 -105.35 -105.35 -105.35 -105.35 -105.35 -105.35 -105.35 -105.35\n",
      "  -105.35]\n",
      " [-105.35 -105.35 -105.35 -105.35 -105.35 -105.35 -105.35 -105.35 -105.35\n",
      "  -105.35 -105.35 -105.35 -105.35  -24.35  134.65  147.65  147.65   13.65\n",
      "   -80.35 -105.35 -105.35 -105.35 -105.35 -105.35 -105.35 -105.35 -105.35\n",
      "  -105.35]\n",
      " [-105.35 -105.35 -105.35 -105.35 -105.35 -105.35 -105.35 -105.35 -105.35\n",
      "  -105.35 -105.35 -105.35 -105.35 -105.35  -60.35   80.65  147.65  147.65\n",
      "    44.65  -78.35 -105.35 -105.35 -105.35 -105.35 -105.35 -105.35 -105.35\n",
      "  -105.35]\n",
      " [-105.35 -105.35 -105.35 -105.35 -105.35 -105.35 -105.35 -105.35 -105.35\n",
      "  -105.35 -105.35 -105.35 -105.35 -105.35 -105.35  -89.35  -12.35  146.65\n",
      "   147.65   81.65 -105.35 -105.35 -105.35 -105.35 -105.35 -105.35 -105.35\n",
      "  -105.35]\n",
      " [-105.35 -105.35 -105.35 -105.35 -105.35 -105.35 -105.35 -105.35 -105.35\n",
      "  -105.35 -105.35 -105.35 -105.35 -105.35 -105.35 -105.35 -105.35  143.65\n",
      "   147.65  143.65  -41.35 -105.35 -105.35 -105.35 -105.35 -105.35 -105.35\n",
      "  -105.35]\n",
      " [-105.35 -105.35 -105.35 -105.35 -105.35 -105.35 -105.35 -105.35 -105.35\n",
      "  -105.35 -105.35 -105.35 -105.35 -105.35  -59.35   24.65   77.65  147.65\n",
      "   147.65  101.65 -103.35 -105.35 -105.35 -105.35 -105.35 -105.35 -105.35\n",
      "  -105.35]\n",
      " [-105.35 -105.35 -105.35 -105.35 -105.35 -105.35 -105.35 -105.35 -105.35\n",
      "  -105.35 -105.35 -105.35  -66.35   42.65  123.65  147.65  147.65  147.65\n",
      "   144.65   76.65 -105.35 -105.35 -105.35 -105.35 -105.35 -105.35 -105.35\n",
      "  -105.35]\n",
      " [-105.35 -105.35 -105.35 -105.35 -105.35 -105.35 -105.35 -105.35 -105.35\n",
      "  -105.35  -81.35    8.65  115.65  147.65  147.65  147.65  147.65   95.65\n",
      "   -27.35 -105.35 -105.35 -105.35 -105.35 -105.35 -105.35 -105.35 -105.35\n",
      "  -105.35]\n",
      " [-105.35 -105.35 -105.35 -105.35 -105.35 -105.35 -105.35 -105.35  -82.35\n",
      "   -39.35  107.65  147.65  147.65  147.65  147.65   92.65  -24.35 -103.35\n",
      "  -105.35 -105.35 -105.35 -105.35 -105.35 -105.35 -105.35 -105.35 -105.35\n",
      "  -105.35]\n",
      " [-105.35 -105.35 -105.35 -105.35 -105.35 -105.35  -87.35   65.65  113.65\n",
      "   147.65  147.65  147.65  147.65   89.65  -25.35  -96.35 -105.35 -105.35\n",
      "  -105.35 -105.35 -105.35 -105.35 -105.35 -105.35 -105.35 -105.35 -105.35\n",
      "  -105.35]\n",
      " [-105.35 -105.35 -105.35 -105.35  -50.35   66.65  120.65  147.65  147.65\n",
      "   147.65  147.65  138.65   27.65  -94.35 -105.35 -105.35 -105.35 -105.35\n",
      "  -105.35 -105.35 -105.35 -105.35 -105.35 -105.35 -105.35 -105.35 -105.35\n",
      "  -105.35]\n",
      " [-105.35 -105.35 -105.35 -105.35   30.65  147.65  147.65  147.65  106.65\n",
      "    29.65   26.65  -89.35 -105.35 -105.35 -105.35 -105.35 -105.35 -105.35\n",
      "  -105.35 -105.35 -105.35 -105.35 -105.35 -105.35 -105.35 -105.35 -105.35\n",
      "  -105.35]\n",
      " [-105.35 -105.35 -105.35 -105.35 -105.35 -105.35 -105.35 -105.35 -105.35\n",
      "  -105.35 -105.35 -105.35 -105.35 -105.35 -105.35 -105.35 -105.35 -105.35\n",
      "  -105.35 -105.35 -105.35 -105.35 -105.35 -105.35 -105.35 -105.35 -105.35\n",
      "  -105.35]\n",
      " [-105.35 -105.35 -105.35 -105.35 -105.35 -105.35 -105.35 -105.35 -105.35\n",
      "  -105.35 -105.35 -105.35 -105.35 -105.35 -105.35 -105.35 -105.35 -105.35\n",
      "  -105.35 -105.35 -105.35 -105.35 -105.35 -105.35 -105.35 -105.35 -105.35\n",
      "  -105.35]\n",
      " [-105.35 -105.35 -105.35 -105.35 -105.35 -105.35 -105.35 -105.35 -105.35\n",
      "  -105.35 -105.35 -105.35 -105.35 -105.35 -105.35 -105.35 -105.35 -105.35\n",
      "  -105.35 -105.35 -105.35 -105.35 -105.35 -105.35 -105.35 -105.35 -105.35\n",
      "  -105.35]]\n"
     ]
    }
   ],
   "source": [
    "index = 0\n",
    "image = X_train[index].reshape(28,28)\n",
    "image = image.astype(np.float) # float型に変換\n",
    "image -= 105.35 # 意図的に負の小数値を作り出してみる\n",
    "plt.imshow(image, 'gray')\n",
    "plt.title('label : {}'.format(y_train[index]))\n",
    "plt.show()\n",
    "print(image) # 値を確認"
   ]
  },
  {
   "cell_type": "markdown",
   "metadata": {},
   "source": [
    "これは、自動的に値を0〜255の整数に変換して処理するように作られているからです。uint8型であっても最小値が0、最大値が255でない場合には色合いがおかしくなります。それを防ぐためには次のように引数を入れてください。"
   ]
  },
  {
   "cell_type": "code",
   "execution_count": 157,
   "metadata": {},
   "outputs": [
    {
     "data": {
      "image/png": "[encoded data removed]",
      "text/plain": [
       "<Figure size 432x288 with 1 Axes>"
      ]
     },
     "metadata": {
      "needs_background": "light"
     },
     "output_type": "display_data"
    }
   ],
   "source": [
    "index = 0\n",
    "image = X_train[index].reshape(28,28)\n",
    "image = image.astype(np.float) # float型に変換\n",
    "image -= 105.35 # 意図的に負の小数値を作り出してみる\n",
    "plt.imshow(image, 'gray', vmin = 0, vmax = 255)\n",
    "plt.title('label : {}'.format(y_train[index]))\n",
    "plt.show()"
   ]
  },
  {
   "cell_type": "markdown",
   "metadata": {},
   "source": [
    "# 前処理\n",
    "画像は0から255のuint8型で表されますが、機械学習をする上では0から1のfloat型で扱うことになります。以下のコードで変換可能です。"
   ]
  },
  {
   "cell_type": "code",
   "execution_count": 158,
   "metadata": {},
   "outputs": [
    {
     "name": "stdout",
     "output_type": "stream",
     "text": [
      "(60000, 785)\n",
      "(10000, 785)\n"
     ]
    }
   ],
   "source": [
    "# バイアス項の追加\n",
    "X_train = np.concatenate([np.ones([X_train.shape[0], 1]), X_train], axis=1)\n",
    "X_test = np.concatenate([np.ones([X_test.shape[0], 1]), X_test], axis=1)\n",
    "print(X_train.shape)\n",
    "print(X_test.shape)"
   ]
  },
  {
   "cell_type": "code",
   "execution_count": 159,
   "metadata": {},
   "outputs": [
    {
     "name": "stdout",
     "output_type": "stream",
     "text": [
      "1.0\n",
      "0.0\n"
     ]
    }
   ],
   "source": [
    "X_train = X_train.astype(np.float)\n",
    "X_test = X_test.astype(np.float)\n",
    "X_train /= 255\n",
    "X_test /= 255\n",
    "print(X_train.max()) # 1.0\n",
    "print(X_train.min()) # 0.0"
   ]
  },
  {
   "cell_type": "markdown",
   "metadata": {},
   "source": [
    "また、正解ラベルは0から9の整数ですが、ニューラルネットワークで多クラス分類を行う際には one-hot表現 に変換します。scikit-learnのOneHotEncoderを使用したコードが以下です。このone-hot表現による値はそのラベルである確率を示していることになるため、float型で扱います。"
   ]
  },
  {
   "cell_type": "code",
   "execution_count": 160,
   "metadata": {},
   "outputs": [
    {
     "name": "stdout",
     "output_type": "stream",
     "text": [
      "(60000, 10)\n",
      "(60000, 10)\n",
      "float64\n"
     ]
    }
   ],
   "source": [
    "from sklearn.preprocessing import OneHotEncoder\n",
    "enc = OneHotEncoder(handle_unknown='ignore', sparse=False)\n",
    "y_train = enc.fit_transform(y_train[:, np.newaxis])\n",
    "y_test = enc.transform(y_test[:, np.newaxis])\n",
    "print(y_train.shape) # (60000,)\n",
    "print(y_train.shape) # (60000, 10)\n",
    "print(y_train.dtype) # float64"
   ]
  },
  {
   "cell_type": "code",
   "execution_count": 161,
   "metadata": {},
   "outputs": [
    {
     "data": {
      "text/plain": [
       "array([0., 0., 0., 0., 0., 1., 0., 0., 0., 0.])"
      ]
     },
     "execution_count": 161,
     "metadata": {},
     "output_type": "execute_result"
    }
   ],
   "source": [
    "y_train[0]"
   ]
  },
  {
   "cell_type": "markdown",
   "metadata": {},
   "source": [
    "さらに、訓練データ6万枚の内2割を検証データとして分割してください。訓練データが48000枚、検証データが12000枚となります。"
   ]
  },
  {
   "cell_type": "code",
   "execution_count": 162,
   "metadata": {},
   "outputs": [
    {
     "name": "stdout",
     "output_type": "stream",
     "text": [
      "(48000, 785)\n",
      "(12000, 785)\n"
     ]
    }
   ],
   "source": [
    "# y_train_one_hotを分割\n",
    "X_train, X_val, y_train, y_val = train_test_split(X_train, y_train, test_size=0.2)\n",
    "print(X_train.shape) # (48000, 784)\n",
    "print(X_val.shape) # (12000, 784)"
   ]
  },
  {
   "cell_type": "markdown",
   "metadata": {},
   "source": [
    "# 3.ニューラルネットワークスクラッチ"
   ]
  },
  {
   "cell_type": "markdown",
   "metadata": {},
   "source": [
    "ニューラルネットワークのクラスをスクラッチで作成していきます。NumPyなど最低限のライブラリのみを使いアルゴリズムを実装していきます。\n",
    "\n",
    "\n",
    "今回は多クラス分類を行う3層のニューラルネットワークを作成します。層の数などは固定した上でニューラルネットワークの基本を学びます。次のSprintで層を自由に変えられる設計にしていきます。\n",
    "\n",
    "\n",
    "以下に雛形を用意してあります。このScratchSimpleNeuralNetrowkClassifierクラスにコードを書き加えていってください。"
   ]
  },
  {
   "cell_type": "code",
   "execution_count": 317,
   "metadata": {},
   "outputs": [],
   "source": [
    "class ScratchSimpleNeuralNetrowkClassifier():\n",
    "    \"\"\"\n",
    "    シンプルな三層ニューラルネットワーク分類器\n",
    "\n",
    "    Parameters\n",
    "    ----------\n",
    "\n",
    "    Attributes\n",
    "    ----------\n",
    "    \"\"\"\n",
    "    def __init__(self, lr=0.01, verbose = True):\n",
    "        self.verbose = verbose\n",
    "        self.lr = lr\n",
    "        self.loss = None\n",
    "        self.val_loss = None\n",
    "        \n",
    "        self.A1 = None\n",
    "        self.W1 = W1\n",
    "        self.B1 = B1\n",
    "        self.Z1 = None\n",
    "        \n",
    "        self.A2 = None\n",
    "        self.W2 = W2\n",
    "        self.B2 = B2\n",
    "        self.Z2 = None\n",
    "        \n",
    "        self.A3 = None\n",
    "        self.W3 = W3\n",
    "        self.B3 = B3\n",
    "        self.Z3 = None\n",
    "        \n",
    "    def fit(self, X, y, X_val=None, y_val=None):\n",
    "        \"\"\"\n",
    "        ニューラルネットワーク分類器を学習する。\n",
    "\n",
    "        Parameters\n",
    "        ----------\n",
    "        X : 次の形のndarray, shape (n_samples, n_features)\n",
    "            訓練データの特徴量\n",
    "        y : 次の形のndarray, shape (n_samples, )\n",
    "            訓練データの正解値\n",
    "        X_val : 次の形のndarray, shape (n_samples, n_features)\n",
    "            検証データの特徴量\n",
    "        y_val : 次の形のndarray, shape (n_samples, )\n",
    "            検証データの正解値\n",
    "        \"\"\"\n",
    "        if self.verbose:\n",
    "            #verboseをTrueにした際は学習過程などを出力する\n",
    "            if iter_count%100 == 0:\n",
    "                print(\"エポック{}\".format(epoch))\n",
    "                print(\"{}回目の学習\".format(iter_count))\n",
    "        \n",
    "        # test(先にtestから実施することで、self多用しても更新がうまくいく)\n",
    "        # Forward-propagation\n",
    "        forward(self, X_val)\n",
    "        # cross-entropy(記録)\n",
    "        self.val_loss = cross_entropy(self, y_val)\n",
    "        \n",
    "        # train\n",
    "        # Forward-propagation\n",
    "        forward(self, X)\n",
    "        # cross-entropy(記録)\n",
    "        self.loss = cross_entropy(self, y)\n",
    "        \n",
    "        # Back-propagation\n",
    "        back(self, X, y)\n",
    " \n",
    "    \n",
    "    def predict(self, X):\n",
    "        \"\"\"\n",
    "        ニューラルネットワーク分類器を使い推定する。\n",
    "\n",
    "        Parameters\n",
    "        ----------\n",
    "        X : 次の形のndarray, shape (n_samples, n_features)\n",
    "            サンプル\n",
    "\n",
    "        Returns\n",
    "        -------\n",
    "            次の形のndarray, shape (n_samples, 1)\n",
    "            推定結果\n",
    "        \"\"\"\n",
    "        forward(self, X)\n",
    "        \n",
    "        return self.Z3.argmax(axis=1)"
   ]
  },
  {
   "cell_type": "markdown",
   "metadata": {},
   "source": [
    "ミニバッチ処理\n",
    "これまでの機械学習スクラッチでは、全てのサンプルを一度に計算していました。しかし、ニューラルネットワークではデータを分割して入力する 確率的勾配降下法 が一般的です。分割した際のひとかたまりを ミニバッチ 、そのサンプル数を バッチサイズ と呼びます。\n",
    "\n",
    "\n",
    "今回はバッチサイズを20とします。今回使う訓練データは48000枚ですから、48000÷20で2400回の更新を繰り返すことになります。ニューラルネットワークではこれを2400回 イテレーション（iteration） すると呼びます。訓練データを一度全て見ると1回の エポック（epoch） が終わったことになります。このエポックを複数回繰り返し、学習が完了します。\n",
    "\n",
    "\n",
    "これを実現するための簡素なイテレータを用意しました。for文で呼び出すと、ミニバッチを取得できます。"
   ]
  },
  {
   "cell_type": "code",
   "execution_count": 318,
   "metadata": {},
   "outputs": [],
   "source": [
    "class GetMiniBatch:\n",
    "    \"\"\"\n",
    "    ミニバッチを取得するイテレータ\n",
    "\n",
    "    Parameters\n",
    "    ----------\n",
    "    X : 次の形のndarray, shape (n_samples, n_features)\n",
    "      訓練データ\n",
    "    y : 次の形のndarray, shape (n_samples, 1)\n",
    "      正解値\n",
    "    batch_size : int\n",
    "      バッチサイズ\n",
    "    seed : int\n",
    "      NumPyの乱数のシード\n",
    "    \"\"\"\n",
    "    def __init__(self, X, y, batch_size = 20, seed=0):\n",
    "        self.batch_size = batch_size\n",
    "        np.random.seed(seed)\n",
    "        shuffle_index = np.random.permutation(np.arange(X.shape[0]))\n",
    "        self._X = X[shuffle_index]\n",
    "        self._y = y[shuffle_index]\n",
    "        self._stop = np.ceil(X.shape[0]/self.batch_size).astype(np.int)\n",
    "        \n",
    "    def __len__(self):\n",
    "        return self._stop\n",
    "    \n",
    "    def __getitem__(self,item):\n",
    "        p0 = item*self.batch_size\n",
    "        p1 = item*self.batch_size + self.batch_size\n",
    "        return self._X[p0:p1], self._y[p0:p1]        \n",
    "    \n",
    "    def __iter__(self):\n",
    "        self._counter = 0\n",
    "        return self\n",
    "    \n",
    "    def __next__(self):\n",
    "        if self._counter >= self._stop:\n",
    "            raise StopIteration()\n",
    "        p0 = self._counter*self.batch_size\n",
    "        p1 = self._counter*self.batch_size + self.batch_size\n",
    "        self._counter += 1\n",
    "        return self._X[p0:p1], self._y[p0:p1]"
   ]
  },
  {
   "cell_type": "markdown",
   "metadata": {},
   "source": [
    "このクラスをインスタンス化し、for文を使うことでミニバッチが取り出せます。"
   ]
  },
  {
   "cell_type": "markdown",
   "metadata": {},
   "source": [
    "## 学習\n",
    "ニューラルネットワークの学習はフォワードプロパゲーションとバックプロパゲションの繰り返しになります。"
   ]
  },
  {
   "cell_type": "markdown",
   "metadata": {},
   "source": [
    "# 【問題1】重みの初期値を決めるコードの作成\n",
    "ニューラルネットワークの各層の重みの初期値を決めるコードを作成してください。\n",
    "\n",
    "\n",
    "重みの初期値は様々な方法が提案されていますが、今回はガウス分布による単純な初期化を行います。バイアスに関しても同様です。\n",
    "\n",
    "\n",
    "以下のコードを参考にしてください。標準偏差の値sigmaはハイパーパラメータです。発展的な重みの初期化方法については次のSprintで扱います。"
   ]
  },
  {
   "cell_type": "code",
   "execution_count": 319,
   "metadata": {},
   "outputs": [
    {
     "name": "stdout",
     "output_type": "stream",
     "text": [
      "(784, 400)\n",
      "(1, 400)\n",
      "(400, 200)\n",
      "(1, 200)\n",
      "(200, 10)\n",
      "(1, 10)\n"
     ]
    }
   ],
   "source": [
    "batch_size = 20 # バッチサイズ\n",
    "n_features = 784 # 特徴量の数\n",
    "n_nodes1 = 400 # 1層目のノード数\n",
    "n_nodes2 = 200 # 2層目のノード数\n",
    "n_output = 10 # 出力のクラス数（3層目のノード数）\n",
    "sigma = 0.01 # ガウス分布の標準偏差\n",
    "\n",
    "# 重み、バイアスの初期値\n",
    "W1 = sigma * np.random.randn(n_features, n_nodes1)\n",
    "B1 = sigma * np.random.randn(1, n_nodes1)\n",
    "print(W1.shape)\n",
    "print(B1.shape)\n",
    "\n",
    "W2 = sigma * np.random.randn(n_nodes1, n_nodes2)\n",
    "B2 = sigma * np.random.randn(1, n_nodes2)\n",
    "print(W2.shape)\n",
    "print(B2.shape)\n",
    "\n",
    "W3 = sigma * np.random.randn(n_nodes2, n_output)\n",
    "B3 = sigma * np.random.randn(1, n_output)\n",
    "print(W3.shape)\n",
    "print(B3.shape)"
   ]
  },
  {
   "cell_type": "markdown",
   "metadata": {},
   "source": [
    "# 【問題2】フォワードプロパゲーションの実装\n",
    "三層のニューラルネットワークの フォワードプロパゲーション を作成してください。以下の説明ではノード数は1層目は400、2層目は200としますが、変更しても構いません。\n",
    "\n",
    "\n",
    "各層の数式を以下に示します。今回はそれぞれの記号が表す配列が、実装上どのようなndarrayのshapeになるかを併記してあります。"
   ]
  },
  {
   "cell_type": "markdown",
   "metadata": {},
   "source": [
    "## 活性化関数（フォワードプロバゲーション）\n",
    "活性化関数を作成し、フォワードプロパゲーションの中で使用します。切り替えられるように実装することを推奨しますが、片方でも構いません。\n",
    "* 「シグモイド関数」  \n",
    "* 「ハイパボリックタンジェント関数」"
   ]
  },
  {
   "cell_type": "markdown",
   "metadata": {},
   "source": [
    "## ソフトマックス関数\n",
    "ソフトマックス関数を作成し、フォワードプロパゲーションの中で使用します。これも活性化関数の一種ですが、多クラス分類の出力層で使われる特性上、区別して扱われることが多いです。"
   ]
  },
  {
   "cell_type": "code",
   "execution_count": 347,
   "metadata": {},
   "outputs": [],
   "source": [
    "def forward(self, X):\n",
    "    # Xのバイアス項をは予め追加済み\n",
    "    # 一層目\n",
    "    W1_baias = np.concatenate([self.B1, self.W1], axis=0)\n",
    "    self.A1 = X.dot(W1_baias)\n",
    "    self.Z1 = np.tanh(self.A1)\n",
    "\n",
    "    # 二層目\n",
    "    self.Z1 = np.concatenate([np.ones([self.Z1.shape[0], 1]), self.Z1], axis=1)\n",
    "    W2_baias = np.concatenate([self.B2, self.W2], axis=0)\n",
    "    self.A2 = self.Z1.dot(W2_baias)\n",
    "    self.Z2 = np.tanh(self.A2)\n",
    "\n",
    "    # 三層目（出力）\n",
    "    self.Z2 = np.concatenate([np.ones([self.Z2.shape[0], 1]), self.Z2], axis=1)\n",
    "    W3_baias = np.concatenate([self.B3, self.W3], axis=0)\n",
    "    self.A3 = self.Z2.dot(W3_baias)\n",
    "    # softmax\n",
    "    self.Z3 = np.exp(self.A3)/(np.exp(self.A3).sum(axis=1).reshape([-1, 1]))"
   ]
  },
  {
   "cell_type": "markdown",
   "metadata": {},
   "source": [
    "# 【問題3】交差エントロピー誤差の実装\n",
    "目的関数（損失関数）を作成します。\n",
    "\n",
    "\n",
    "多クラス分類の目的関数である交差エントロピー誤差 \n",
    "L\n",
    " は次の数式です。"
   ]
  },
  {
   "cell_type": "code",
   "execution_count": 321,
   "metadata": {},
   "outputs": [],
   "source": [
    "def cross_entropy(self, y):\n",
    "    L = -(y*np.log(self.Z3)).sum()/batch_size\n",
    "\n",
    "    return L"
   ]
  },
  {
   "cell_type": "markdown",
   "metadata": {},
   "source": [
    "# 【問題4】バックプロパゲーションの実装\n",
    "三層のニューラルネットワークのバックプロパゲーションを作成してください。確率的勾配降下法を行う部分です。\n",
    "\n",
    "\n",
    "数式を以下に示します。"
   ]
  },
  {
   "cell_type": "code",
   "execution_count": 322,
   "metadata": {},
   "outputs": [],
   "source": [
    "def back(self, X, y):\n",
    "    #三層目\n",
    "    delta_A3 = self.Z3 - y\n",
    "    delta_B3 = delta_A3.sum(axis=0)\n",
    "    delta_W3 = self.Z2[:, 1:].T.dot(delta_A3)\n",
    "    delta_Z2 = delta_A3.dot(self.W3.T)\n",
    "    #二層目\n",
    "    delta_A2 = delta_Z2 * (1 - (np.tanh(self.A2))**2)\n",
    "    delta_B2 = delta_A2.sum(axis=0)\n",
    "    delta_W2 = self.Z1[:, 1:].T.dot(delta_A2)\n",
    "    delta_Z1 = delta_A2.dot(self.W2.T)\n",
    "    #一層目\n",
    "    delta_A1 = delta_Z1 * (1 - (np.tanh(self.A1))**2)\n",
    "    delta_B1 = delta_A1.sum(axis=0)\n",
    "    delta_W1 = X[:, 1:].T.dot(delta_A1)\n",
    "    \n",
    "    # 更新\n",
    "    self.W3 -= self.lr*delta_W3\n",
    "    self.B3 -=self.lr*delta_B3\n",
    "    self.W2 -= self.lr*delta_W2\n",
    "    self.B2 -= self.lr*delta_B2\n",
    "    self.W1 -= self.lr*delta_W1\n",
    "    self.B1 -= self.lr*delta_B1"
   ]
  },
  {
   "cell_type": "markdown",
   "metadata": {},
   "source": [
    "# 【問題5】推定\n",
    "推定を行うメソッドを作成してください。\n",
    "\n",
    "\n",
    "フォワードプロパゲーションによって出力された10個の確率の中で、最も高いものはどれかを判定します。"
   ]
  },
  {
   "cell_type": "markdown",
   "metadata": {},
   "source": [
    "# 【問題6】学習と推定\n",
    "MNISTのデータを学習・推定し、Accuracyを計算してください。"
   ]
  },
  {
   "cell_type": "code",
   "execution_count": 323,
   "metadata": {},
   "outputs": [
    {
     "name": "stdout",
     "output_type": "stream",
     "text": [
      "2400\n",
      "(array([[0.00392157, 0.        , 0.        , ..., 0.        , 0.        ,\n",
      "        0.        ],\n",
      "       [0.00392157, 0.        , 0.        , ..., 0.        , 0.        ,\n",
      "        0.        ],\n",
      "       [0.00392157, 0.        , 0.        , ..., 0.        , 0.        ,\n",
      "        0.        ],\n",
      "       ...,\n",
      "       [0.00392157, 0.        , 0.        , ..., 0.        , 0.        ,\n",
      "        0.        ],\n",
      "       [0.00392157, 0.        , 0.        , ..., 0.        , 0.        ,\n",
      "        0.        ],\n",
      "       [0.00392157, 0.        , 0.        , ..., 0.        , 0.        ,\n",
      "        0.        ]]), array([[1., 0., 0., 0., 0., 0., 0., 0., 0., 0.],\n",
      "       [0., 0., 0., 0., 0., 0., 0., 0., 0., 1.],\n",
      "       [0., 0., 0., 1., 0., 0., 0., 0., 0., 0.],\n",
      "       [0., 0., 1., 0., 0., 0., 0., 0., 0., 0.],\n",
      "       [0., 0., 1., 0., 0., 0., 0., 0., 0., 0.],\n",
      "       [0., 0., 0., 1., 0., 0., 0., 0., 0., 0.],\n",
      "       [0., 0., 0., 0., 0., 0., 1., 0., 0., 0.],\n",
      "       [1., 0., 0., 0., 0., 0., 0., 0., 0., 0.],\n",
      "       [0., 0., 0., 0., 0., 0., 0., 0., 1., 0.],\n",
      "       [0., 0., 0., 1., 0., 0., 0., 0., 0., 0.],\n",
      "       [0., 0., 0., 0., 0., 0., 0., 0., 1., 0.],\n",
      "       [0., 0., 0., 0., 0., 0., 0., 0., 1., 0.],\n",
      "       [0., 0., 0., 1., 0., 0., 0., 0., 0., 0.],\n",
      "       [0., 0., 0., 0., 0., 1., 0., 0., 0., 0.],\n",
      "       [0., 0., 0., 0., 0., 0., 1., 0., 0., 0.],\n",
      "       [1., 0., 0., 0., 0., 0., 0., 0., 0., 0.],\n",
      "       [0., 0., 0., 0., 0., 0., 0., 0., 1., 0.],\n",
      "       [0., 0., 0., 1., 0., 0., 0., 0., 0., 0.],\n",
      "       [0., 0., 0., 0., 0., 0., 0., 0., 0., 1.],\n",
      "       [0., 1., 0., 0., 0., 0., 0., 0., 0., 0.]]))\n"
     ]
    }
   ],
   "source": [
    "get_mini_batch = GetMiniBatch(X_train, y_train, batch_size=20)\n",
    "print(len(get_mini_batch)) # 2400\n",
    "print(get_mini_batch[5]) # 5番目のミニバッチが取得できる\n",
    "\n",
    "# エポック回数\n",
    "epoch_count = 10\n",
    "# lossの記録リストの初期化\n",
    "train_loss = []\n",
    "val_loss = []\n",
    "# アルゴリズムのインスタンス化\n",
    "snn = ScratchSimpleNeuralNetrowkClassifier(lr=0.01, verbose = True)"
   ]
  },
  {
   "cell_type": "code",
   "execution_count": 324,
   "metadata": {
    "scrolled": true
   },
   "outputs": [
    {
     "name": "stdout",
     "output_type": "stream",
     "text": [
      "エポック0\n",
      "100回目の学習\n",
      "エポック0\n",
      "200回目の学習\n",
      "エポック0\n",
      "300回目の学習\n",
      "エポック0\n",
      "400回目の学習\n",
      "エポック0\n",
      "500回目の学習\n",
      "エポック0\n",
      "600回目の学習\n",
      "エポック0\n",
      "700回目の学習\n",
      "エポック0\n",
      "800回目の学習\n",
      "エポック0\n",
      "900回目の学習\n",
      "エポック0\n",
      "1000回目の学習\n",
      "エポック0\n",
      "1100回目の学習\n",
      "エポック0\n",
      "1200回目の学習\n",
      "エポック0\n",
      "1300回目の学習\n",
      "エポック0\n",
      "1400回目の学習\n",
      "エポック0\n",
      "1500回目の学習\n",
      "エポック0\n",
      "1600回目の学習\n",
      "エポック0\n",
      "1700回目の学習\n",
      "エポック0\n",
      "1800回目の学習\n",
      "エポック0\n",
      "1900回目の学習\n",
      "エポック0\n",
      "2000回目の学習\n",
      "エポック0\n",
      "2100回目の学習\n",
      "エポック0\n",
      "2200回目の学習\n",
      "エポック0\n",
      "2300回目の学習\n",
      "エポック0\n",
      "2400回目の学習\n",
      "エポック1\n",
      "100回目の学習\n",
      "エポック1\n",
      "200回目の学習\n",
      "エポック1\n",
      "300回目の学習\n",
      "エポック1\n",
      "400回目の学習\n",
      "エポック1\n",
      "500回目の学習\n",
      "エポック1\n",
      "600回目の学習\n",
      "エポック1\n",
      "700回目の学習\n",
      "エポック1\n",
      "800回目の学習\n",
      "エポック1\n",
      "900回目の学習\n",
      "エポック1\n",
      "1000回目の学習\n",
      "エポック1\n",
      "1100回目の学習\n",
      "エポック1\n",
      "1200回目の学習\n",
      "エポック1\n",
      "1300回目の学習\n",
      "エポック1\n",
      "1400回目の学習\n",
      "エポック1\n",
      "1500回目の学習\n",
      "エポック1\n",
      "1600回目の学習\n",
      "エポック1\n",
      "1700回目の学習\n",
      "エポック1\n",
      "1800回目の学習\n",
      "エポック1\n",
      "1900回目の学習\n",
      "エポック1\n",
      "2000回目の学習\n",
      "エポック1\n",
      "2100回目の学習\n",
      "エポック1\n",
      "2200回目の学習\n",
      "エポック1\n",
      "2300回目の学習\n",
      "エポック1\n",
      "2400回目の学習\n",
      "エポック2\n",
      "100回目の学習\n",
      "エポック2\n",
      "200回目の学習\n",
      "エポック2\n",
      "300回目の学習\n",
      "エポック2\n",
      "400回目の学習\n",
      "エポック2\n",
      "500回目の学習\n",
      "エポック2\n",
      "600回目の学習\n",
      "エポック2\n",
      "700回目の学習\n",
      "エポック2\n",
      "800回目の学習\n",
      "エポック2\n",
      "900回目の学習\n",
      "エポック2\n",
      "1000回目の学習\n",
      "エポック2\n",
      "1100回目の学習\n",
      "エポック2\n",
      "1200回目の学習\n",
      "エポック2\n",
      "1300回目の学習\n",
      "エポック2\n",
      "1400回目の学習\n",
      "エポック2\n",
      "1500回目の学習\n",
      "エポック2\n",
      "1600回目の学習\n",
      "エポック2\n",
      "1700回目の学習\n",
      "エポック2\n",
      "1800回目の学習\n",
      "エポック2\n",
      "1900回目の学習\n",
      "エポック2\n",
      "2000回目の学習\n",
      "エポック2\n",
      "2100回目の学習\n",
      "エポック2\n",
      "2200回目の学習\n",
      "エポック2\n",
      "2300回目の学習\n",
      "エポック2\n",
      "2400回目の学習\n",
      "エポック3\n",
      "100回目の学習\n",
      "エポック3\n",
      "200回目の学習\n",
      "エポック3\n",
      "300回目の学習\n",
      "エポック3\n",
      "400回目の学習\n",
      "エポック3\n",
      "500回目の学習\n",
      "エポック3\n",
      "600回目の学習\n",
      "エポック3\n",
      "700回目の学習\n",
      "エポック3\n",
      "800回目の学習\n",
      "エポック3\n",
      "900回目の学習\n",
      "エポック3\n",
      "1000回目の学習\n",
      "エポック3\n",
      "1100回目の学習\n",
      "エポック3\n",
      "1200回目の学習\n",
      "エポック3\n",
      "1300回目の学習\n",
      "エポック3\n",
      "1400回目の学習\n",
      "エポック3\n",
      "1500回目の学習\n",
      "エポック3\n",
      "1600回目の学習\n",
      "エポック3\n",
      "1700回目の学習\n",
      "エポック3\n",
      "1800回目の学習\n",
      "エポック3\n",
      "1900回目の学習\n",
      "エポック3\n",
      "2000回目の学習\n",
      "エポック3\n",
      "2100回目の学習\n",
      "エポック3\n",
      "2200回目の学習\n",
      "エポック3\n",
      "2300回目の学習\n",
      "エポック3\n",
      "2400回目の学習\n",
      "エポック4\n",
      "100回目の学習\n",
      "エポック4\n",
      "200回目の学習\n",
      "エポック4\n",
      "300回目の学習\n",
      "エポック4\n",
      "400回目の学習\n",
      "エポック4\n",
      "500回目の学習\n",
      "エポック4\n",
      "600回目の学習\n",
      "エポック4\n",
      "700回目の学習\n",
      "エポック4\n",
      "800回目の学習\n",
      "エポック4\n",
      "900回目の学習\n",
      "エポック4\n",
      "1000回目の学習\n",
      "エポック4\n",
      "1100回目の学習\n",
      "エポック4\n",
      "1200回目の学習\n",
      "エポック4\n",
      "1300回目の学習\n",
      "エポック4\n",
      "1400回目の学習\n",
      "エポック4\n",
      "1500回目の学習\n",
      "エポック4\n",
      "1600回目の学習\n",
      "エポック4\n",
      "1700回目の学習\n",
      "エポック4\n",
      "1800回目の学習\n",
      "エポック4\n",
      "1900回目の学習\n",
      "エポック4\n",
      "2000回目の学習\n",
      "エポック4\n",
      "2100回目の学習\n",
      "エポック4\n",
      "2200回目の学習\n",
      "エポック4\n",
      "2300回目の学習\n",
      "エポック4\n",
      "2400回目の学習\n",
      "エポック5\n",
      "100回目の学習\n",
      "エポック5\n",
      "200回目の学習\n",
      "エポック5\n",
      "300回目の学習\n",
      "エポック5\n",
      "400回目の学習\n",
      "エポック5\n",
      "500回目の学習\n",
      "エポック5\n",
      "600回目の学習\n",
      "エポック5\n",
      "700回目の学習\n",
      "エポック5\n",
      "800回目の学習\n",
      "エポック5\n",
      "900回目の学習\n",
      "エポック5\n",
      "1000回目の学習\n",
      "エポック5\n",
      "1100回目の学習\n",
      "エポック5\n",
      "1200回目の学習\n",
      "エポック5\n",
      "1300回目の学習\n",
      "エポック5\n",
      "1400回目の学習\n",
      "エポック5\n",
      "1500回目の学習\n",
      "エポック5\n",
      "1600回目の学習\n",
      "エポック5\n",
      "1700回目の学習\n",
      "エポック5\n",
      "1800回目の学習\n",
      "エポック5\n",
      "1900回目の学習\n",
      "エポック5\n",
      "2000回目の学習\n",
      "エポック5\n",
      "2100回目の学習\n",
      "エポック5\n",
      "2200回目の学習\n",
      "エポック5\n",
      "2300回目の学習\n",
      "エポック5\n",
      "2400回目の学習\n",
      "エポック6\n",
      "100回目の学習\n",
      "エポック6\n",
      "200回目の学習\n",
      "エポック6\n",
      "300回目の学習\n",
      "エポック6\n",
      "400回目の学習\n",
      "エポック6\n",
      "500回目の学習\n",
      "エポック6\n",
      "600回目の学習\n",
      "エポック6\n",
      "700回目の学習\n",
      "エポック6\n",
      "800回目の学習\n",
      "エポック6\n",
      "900回目の学習\n",
      "エポック6\n",
      "1000回目の学習\n",
      "エポック6\n",
      "1100回目の学習\n",
      "エポック6\n",
      "1200回目の学習\n",
      "エポック6\n",
      "1300回目の学習\n",
      "エポック6\n",
      "1400回目の学習\n",
      "エポック6\n",
      "1500回目の学習\n",
      "エポック6\n",
      "1600回目の学習\n",
      "エポック6\n",
      "1700回目の学習\n",
      "エポック6\n",
      "1800回目の学習\n",
      "エポック6\n",
      "1900回目の学習\n",
      "エポック6\n",
      "2000回目の学習\n",
      "エポック6\n",
      "2100回目の学習\n",
      "エポック6\n",
      "2200回目の学習\n",
      "エポック6\n",
      "2300回目の学習\n",
      "エポック6\n",
      "2400回目の学習\n",
      "エポック7\n",
      "100回目の学習\n",
      "エポック7\n",
      "200回目の学習\n",
      "エポック7\n",
      "300回目の学習\n",
      "エポック7\n",
      "400回目の学習\n",
      "エポック7\n",
      "500回目の学習\n",
      "エポック7\n",
      "600回目の学習\n",
      "エポック7\n",
      "700回目の学習\n",
      "エポック7\n",
      "800回目の学習\n",
      "エポック7\n",
      "900回目の学習\n",
      "エポック7\n",
      "1000回目の学習\n",
      "エポック7\n",
      "1100回目の学習\n",
      "エポック7\n",
      "1200回目の学習\n",
      "エポック7\n",
      "1300回目の学習\n",
      "エポック7\n",
      "1400回目の学習\n",
      "エポック7\n",
      "1500回目の学習\n",
      "エポック7\n",
      "1600回目の学習\n",
      "エポック7\n",
      "1700回目の学習\n",
      "エポック7\n",
      "1800回目の学習\n",
      "エポック7\n",
      "1900回目の学習\n",
      "エポック7\n",
      "2000回目の学習\n",
      "エポック7\n",
      "2100回目の学習\n",
      "エポック7\n",
      "2200回目の学習\n",
      "エポック7\n",
      "2300回目の学習\n",
      "エポック7\n",
      "2400回目の学習\n",
      "エポック8\n",
      "100回目の学習\n",
      "エポック8\n",
      "200回目の学習\n",
      "エポック8\n",
      "300回目の学習\n",
      "エポック8\n",
      "400回目の学習\n",
      "エポック8\n",
      "500回目の学習\n",
      "エポック8\n",
      "600回目の学習\n",
      "エポック8\n",
      "700回目の学習\n",
      "エポック8\n",
      "800回目の学習\n",
      "エポック8\n",
      "900回目の学習\n",
      "エポック8\n",
      "1000回目の学習\n",
      "エポック8\n",
      "1100回目の学習\n",
      "エポック8\n",
      "1200回目の学習\n",
      "エポック8\n",
      "1300回目の学習\n",
      "エポック8\n",
      "1400回目の学習\n",
      "エポック8\n",
      "1500回目の学習\n",
      "エポック8\n",
      "1600回目の学習\n",
      "エポック8\n",
      "1700回目の学習\n",
      "エポック8\n",
      "1800回目の学習\n",
      "エポック8\n",
      "1900回目の学習\n",
      "エポック8\n",
      "2000回目の学習\n",
      "エポック8\n",
      "2100回目の学習\n",
      "エポック8\n",
      "2200回目の学習\n",
      "エポック8\n",
      "2300回目の学習\n",
      "エポック8\n",
      "2400回目の学習\n",
      "エポック9\n",
      "100回目の学習\n",
      "エポック9\n",
      "200回目の学習\n",
      "エポック9\n",
      "300回目の学習\n",
      "エポック9\n",
      "400回目の学習\n",
      "エポック9\n",
      "500回目の学習\n",
      "エポック9\n",
      "600回目の学習\n",
      "エポック9\n",
      "700回目の学習\n",
      "エポック9\n",
      "800回目の学習\n",
      "エポック9\n",
      "900回目の学習\n",
      "エポック9\n",
      "1000回目の学習\n",
      "エポック9\n",
      "1100回目の学習\n",
      "エポック9\n",
      "1200回目の学習\n",
      "エポック9\n",
      "1300回目の学習\n",
      "エポック9\n",
      "1400回目の学習\n",
      "エポック9\n",
      "1500回目の学習\n",
      "エポック9\n",
      "1600回目の学習\n",
      "エポック9\n",
      "1700回目の学習\n",
      "エポック9\n",
      "1800回目の学習\n",
      "エポック9\n",
      "1900回目の学習\n",
      "エポック9\n",
      "2000回目の学習\n",
      "エポック9\n",
      "2100回目の学習\n",
      "エポック9\n",
      "2200回目の学習\n",
      "エポック9\n",
      "2300回目の学習\n",
      "エポック9\n",
      "2400回目の学習\n"
     ]
    }
   ],
   "source": [
    "# エポック回数繰り返し\n",
    "for epoch in range(epoch_count):\n",
    "    # イテレーション回数の初期化\n",
    "    iter_count = 0\n",
    "    # イテレーション回数繰り返し\n",
    "    for mini_X_train, mini_y_train in get_mini_batch:\n",
    "        # このfor文内でミニバッチが使える\n",
    "        iter_count += 1\n",
    "        # 学習\n",
    "        snn.fit(mini_X_train, mini_y_train, X_val, y_val)\n",
    "    train_loss.append(snn.loss)\n",
    "    val_loss.append(snn.val_loss)"
   ]
  },
  {
   "cell_type": "code",
   "execution_count": 325,
   "metadata": {},
   "outputs": [
    {
     "data": {
      "text/plain": [
       "0.97675"
      ]
     },
     "execution_count": 325,
     "metadata": {},
     "output_type": "execute_result"
    }
   ],
   "source": [
    "# 推定　→　Accuracy\n",
    "y_pred = snn.predict(X_val)\n",
    "accuracy_score(y_val.argmax(axis=1), y_pred)"
   ]
  },
  {
   "cell_type": "code",
   "execution_count": 328,
   "metadata": {},
   "outputs": [
    {
     "data": {
      "text/plain": [
       "[0.0629450637957489,\n",
       " 0.028872558150319933,\n",
       " 0.01034328463178244,\n",
       " 0.006595573450592446,\n",
       " 0.005571088104763365,\n",
       " 0.0032406432262123406,\n",
       " 0.0046124014609018405,\n",
       " 0.00204943809089319,\n",
       " 0.0013632039763819318,\n",
       " 0.0037158925686191432]"
      ]
     },
     "execution_count": 328,
     "metadata": {},
     "output_type": "execute_result"
    }
   ],
   "source": [
    "train_loss"
   ]
  },
  {
   "cell_type": "code",
   "execution_count": 329,
   "metadata": {},
   "outputs": [
    {
     "data": {
      "text/plain": [
       "[117.15726041501257,\n",
       " 85.17615192721796,\n",
       " 71.33452384476311,\n",
       " 65.64935206074831,\n",
       " 59.064403453962676,\n",
       " 60.401892268340205,\n",
       " 65.2853884387679,\n",
       " 58.1683147222933,\n",
       " 53.3408448933326,\n",
       " 56.60863086246245]"
      ]
     },
     "execution_count": 329,
     "metadata": {},
     "output_type": "execute_result"
    }
   ],
   "source": [
    "val_loss"
   ]
  },
  {
   "cell_type": "markdown",
   "metadata": {},
   "source": [
    "# 【問題7】学習曲線のプロット\n",
    "学習曲線をプロットしてください。\n",
    "\n",
    "\n",
    "ニューラルネットワークは過学習が発生しやすいため、学習曲線の確認が重要です。訓練データと検証データに対するエポックごとの損失（交差エントロピー誤差）を記録できるようにする必要があります。"
   ]
  },
  {
   "cell_type": "code",
   "execution_count": 330,
   "metadata": {},
   "outputs": [
    {
     "data": {
      "image/png": "[encoded data removed]",
      "text/plain": [
       "<Figure size 432x288 with 1 Axes>"
      ]
     },
     "metadata": {
      "needs_background": "light"
     },
     "output_type": "display_data"
    }
   ],
   "source": [
    "plt.plot(train_loss, label='train')\n",
    "plt.plot(val_loss, label='val')\n",
    "plt.xlabel('epoch')\n",
    "plt.ylabel('loss')\n",
    "plt.title('Learning curve')\n",
    "plt.legend()\n",
    "plt.show()"
   ]
  },
  {
   "cell_type": "markdown",
   "metadata": {},
   "source": [
    "# 【問題8】（アドバンス課題）誤分類の確認\n",
    "誤分類した画像はどのようなものだったかを確認してください。推定値を用意し、以下のコードを実行してください。"
   ]
  },
  {
   "cell_type": "code",
   "execution_count": 346,
   "metadata": {
    "scrolled": false
   },
   "outputs": [
    {
     "data": {
      "image/png": "[encoded data removed]",
      "text/plain": [
       "<Figure size 432x432 with 36 Axes>"
      ]
     },
     "metadata": {},
     "output_type": "display_data"
    }
   ],
   "source": [
    "\"\"\"\n",
    "語分類結果を並べて表示する。画像の上の表示は「推定結果/正解」である。\n",
    "\n",
    "Parameters:\n",
    "----------\n",
    "y_pred : 推定値のndarray (n_samples,)\n",
    "y_val : 検証データの正解ラベル(n_samples,)\n",
    "X_val : 検証データの特徴量（n_samples, n_features)\n",
    "\"\"\"\n",
    "\n",
    "num = 36 # いくつ表示するか\n",
    "true_false = y_pred==y_val.argmax(axis=1)\n",
    "false_list = np.where(true_false==False)[0].astype(np.int)\n",
    "if false_list.shape[0] < num:\n",
    "    num = false_list.shape[0]\n",
    "fig = plt.figure(figsize=(6, 6))\n",
    "fig.subplots_adjust(left=0, right=0.8,  bottom=0, top=0.8, hspace=1, wspace=0.5)\n",
    "for i in range(num):\n",
    "    ax = fig.add_subplot(6, 6, i + 1, xticks=[], yticks=[])\n",
    "    ax.set_title(\"{} / {}\".format(y_pred[false_list[i]],y_val[false_list[i]].argmax()))\n",
    "    ax.imshow(X_val[:,1:].reshape(-1,28,28)[false_list[i]], cmap='gray')"
   ]
  },
  {
   "cell_type": "code",
   "execution_count": null,
   "metadata": {},
   "outputs": [],
   "source": []
  }
 ],
 "metadata": {
  "kernelspec": {
   "display_name": "Python 3",
   "language": "python",
   "name": "python3"
  },
  "language_info": {
   "codemirror_mode": {
    "name": "ipython",
    "version": 3
   },
   "file_extension": ".py",
   "mimetype": "text/x-python",
   "name": "python",
   "nbconvert_exporter": "python",
   "pygments_lexer": "ipython3",
   "version": "3.7.3"
  }
 },
 "nbformat": 4,
 "nbformat_minor": 2
}
